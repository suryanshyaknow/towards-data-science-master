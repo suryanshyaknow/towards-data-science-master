{
 "cells": [
  {
   "cell_type": "code",
   "execution_count": 57,
   "id": "2dea7a3f",
   "metadata": {},
   "outputs": [],
   "source": [
    "import pandas as pd\n",
    "import numpy as np\n",
    "from sklearn.tree import DecisionTreeClassifier\n",
    "from sklearn import tree\n",
    "from sklearn.model_selection import train_test_split, GridSearchCV, RandomizedSearchCV\n",
    "from sklearn.metrics import accuracy_score, confusion_matrix, roc_auc_score, roc_curve\n",
    "from pandas_profiling import ProfileReport\n",
    "\n",
    "import seaborn as sns\n",
    "import matplotlib.pyplot as plt"
   ]
  },
  {
   "cell_type": "code",
   "execution_count": 2,
   "id": "cbea28e2",
   "metadata": {},
   "outputs": [
    {
     "data": {
      "application/javascript": [
       "IPython.notebook.set_autosave_interval(60000)"
      ]
     },
     "metadata": {},
     "output_type": "display_data"
    },
    {
     "name": "stdout",
     "output_type": "stream",
     "text": [
      "Autosaving every 60 seconds\n"
     ]
    }
   ],
   "source": [
    "%autosave 60"
   ]
  },
  {
   "cell_type": "code",
   "execution_count": 3,
   "id": "42b48978",
   "metadata": {},
   "outputs": [
    {
     "data": {
      "text/html": [
       "<div>\n",
       "<style scoped>\n",
       "    .dataframe tbody tr th:only-of-type {\n",
       "        vertical-align: middle;\n",
       "    }\n",
       "\n",
       "    .dataframe tbody tr th {\n",
       "        vertical-align: top;\n",
       "    }\n",
       "\n",
       "    .dataframe thead th {\n",
       "        text-align: right;\n",
       "    }\n",
       "</style>\n",
       "<table border=\"1\" class=\"dataframe\">\n",
       "  <thead>\n",
       "    <tr style=\"text-align: right;\">\n",
       "      <th></th>\n",
       "      <th>fixed acidity</th>\n",
       "      <th>volatile acidity</th>\n",
       "      <th>citric acid</th>\n",
       "      <th>residual sugar</th>\n",
       "      <th>chlorides</th>\n",
       "      <th>free sulfur dioxide</th>\n",
       "      <th>total sulfur dioxide</th>\n",
       "      <th>density</th>\n",
       "      <th>pH</th>\n",
       "      <th>sulphates</th>\n",
       "      <th>alcohol</th>\n",
       "      <th>quality</th>\n",
       "    </tr>\n",
       "  </thead>\n",
       "  <tbody>\n",
       "    <tr>\n",
       "      <th>0</th>\n",
       "      <td>7.4</td>\n",
       "      <td>0.700</td>\n",
       "      <td>0.00</td>\n",
       "      <td>1.9</td>\n",
       "      <td>0.076</td>\n",
       "      <td>11.0</td>\n",
       "      <td>34.0</td>\n",
       "      <td>0.99780</td>\n",
       "      <td>3.51</td>\n",
       "      <td>0.56</td>\n",
       "      <td>9.4</td>\n",
       "      <td>5</td>\n",
       "    </tr>\n",
       "    <tr>\n",
       "      <th>1</th>\n",
       "      <td>7.8</td>\n",
       "      <td>0.880</td>\n",
       "      <td>0.00</td>\n",
       "      <td>2.6</td>\n",
       "      <td>0.098</td>\n",
       "      <td>25.0</td>\n",
       "      <td>67.0</td>\n",
       "      <td>0.99680</td>\n",
       "      <td>3.20</td>\n",
       "      <td>0.68</td>\n",
       "      <td>9.8</td>\n",
       "      <td>5</td>\n",
       "    </tr>\n",
       "    <tr>\n",
       "      <th>2</th>\n",
       "      <td>7.8</td>\n",
       "      <td>0.760</td>\n",
       "      <td>0.04</td>\n",
       "      <td>2.3</td>\n",
       "      <td>0.092</td>\n",
       "      <td>15.0</td>\n",
       "      <td>54.0</td>\n",
       "      <td>0.99700</td>\n",
       "      <td>3.26</td>\n",
       "      <td>0.65</td>\n",
       "      <td>9.8</td>\n",
       "      <td>5</td>\n",
       "    </tr>\n",
       "    <tr>\n",
       "      <th>3</th>\n",
       "      <td>11.2</td>\n",
       "      <td>0.280</td>\n",
       "      <td>0.56</td>\n",
       "      <td>1.9</td>\n",
       "      <td>0.075</td>\n",
       "      <td>17.0</td>\n",
       "      <td>60.0</td>\n",
       "      <td>0.99800</td>\n",
       "      <td>3.16</td>\n",
       "      <td>0.58</td>\n",
       "      <td>9.8</td>\n",
       "      <td>6</td>\n",
       "    </tr>\n",
       "    <tr>\n",
       "      <th>4</th>\n",
       "      <td>7.4</td>\n",
       "      <td>0.700</td>\n",
       "      <td>0.00</td>\n",
       "      <td>1.9</td>\n",
       "      <td>0.076</td>\n",
       "      <td>11.0</td>\n",
       "      <td>34.0</td>\n",
       "      <td>0.99780</td>\n",
       "      <td>3.51</td>\n",
       "      <td>0.56</td>\n",
       "      <td>9.4</td>\n",
       "      <td>5</td>\n",
       "    </tr>\n",
       "    <tr>\n",
       "      <th>...</th>\n",
       "      <td>...</td>\n",
       "      <td>...</td>\n",
       "      <td>...</td>\n",
       "      <td>...</td>\n",
       "      <td>...</td>\n",
       "      <td>...</td>\n",
       "      <td>...</td>\n",
       "      <td>...</td>\n",
       "      <td>...</td>\n",
       "      <td>...</td>\n",
       "      <td>...</td>\n",
       "      <td>...</td>\n",
       "    </tr>\n",
       "    <tr>\n",
       "      <th>1594</th>\n",
       "      <td>6.2</td>\n",
       "      <td>0.600</td>\n",
       "      <td>0.08</td>\n",
       "      <td>2.0</td>\n",
       "      <td>0.090</td>\n",
       "      <td>32.0</td>\n",
       "      <td>44.0</td>\n",
       "      <td>0.99490</td>\n",
       "      <td>3.45</td>\n",
       "      <td>0.58</td>\n",
       "      <td>10.5</td>\n",
       "      <td>5</td>\n",
       "    </tr>\n",
       "    <tr>\n",
       "      <th>1595</th>\n",
       "      <td>5.9</td>\n",
       "      <td>0.550</td>\n",
       "      <td>0.10</td>\n",
       "      <td>2.2</td>\n",
       "      <td>0.062</td>\n",
       "      <td>39.0</td>\n",
       "      <td>51.0</td>\n",
       "      <td>0.99512</td>\n",
       "      <td>3.52</td>\n",
       "      <td>0.76</td>\n",
       "      <td>11.2</td>\n",
       "      <td>6</td>\n",
       "    </tr>\n",
       "    <tr>\n",
       "      <th>1596</th>\n",
       "      <td>6.3</td>\n",
       "      <td>0.510</td>\n",
       "      <td>0.13</td>\n",
       "      <td>2.3</td>\n",
       "      <td>0.076</td>\n",
       "      <td>29.0</td>\n",
       "      <td>40.0</td>\n",
       "      <td>0.99574</td>\n",
       "      <td>3.42</td>\n",
       "      <td>0.75</td>\n",
       "      <td>11.0</td>\n",
       "      <td>6</td>\n",
       "    </tr>\n",
       "    <tr>\n",
       "      <th>1597</th>\n",
       "      <td>5.9</td>\n",
       "      <td>0.645</td>\n",
       "      <td>0.12</td>\n",
       "      <td>2.0</td>\n",
       "      <td>0.075</td>\n",
       "      <td>32.0</td>\n",
       "      <td>44.0</td>\n",
       "      <td>0.99547</td>\n",
       "      <td>3.57</td>\n",
       "      <td>0.71</td>\n",
       "      <td>10.2</td>\n",
       "      <td>5</td>\n",
       "    </tr>\n",
       "    <tr>\n",
       "      <th>1598</th>\n",
       "      <td>6.0</td>\n",
       "      <td>0.310</td>\n",
       "      <td>0.47</td>\n",
       "      <td>3.6</td>\n",
       "      <td>0.067</td>\n",
       "      <td>18.0</td>\n",
       "      <td>42.0</td>\n",
       "      <td>0.99549</td>\n",
       "      <td>3.39</td>\n",
       "      <td>0.66</td>\n",
       "      <td>11.0</td>\n",
       "      <td>6</td>\n",
       "    </tr>\n",
       "  </tbody>\n",
       "</table>\n",
       "<p>1599 rows × 12 columns</p>\n",
       "</div>"
      ],
      "text/plain": [
       "      fixed acidity  volatile acidity  citric acid  residual sugar  chlorides  \\\n",
       "0               7.4             0.700         0.00             1.9      0.076   \n",
       "1               7.8             0.880         0.00             2.6      0.098   \n",
       "2               7.8             0.760         0.04             2.3      0.092   \n",
       "3              11.2             0.280         0.56             1.9      0.075   \n",
       "4               7.4             0.700         0.00             1.9      0.076   \n",
       "...             ...               ...          ...             ...        ...   \n",
       "1594            6.2             0.600         0.08             2.0      0.090   \n",
       "1595            5.9             0.550         0.10             2.2      0.062   \n",
       "1596            6.3             0.510         0.13             2.3      0.076   \n",
       "1597            5.9             0.645         0.12             2.0      0.075   \n",
       "1598            6.0             0.310         0.47             3.6      0.067   \n",
       "\n",
       "      free sulfur dioxide  total sulfur dioxide  density    pH  sulphates  \\\n",
       "0                    11.0                  34.0  0.99780  3.51       0.56   \n",
       "1                    25.0                  67.0  0.99680  3.20       0.68   \n",
       "2                    15.0                  54.0  0.99700  3.26       0.65   \n",
       "3                    17.0                  60.0  0.99800  3.16       0.58   \n",
       "4                    11.0                  34.0  0.99780  3.51       0.56   \n",
       "...                   ...                   ...      ...   ...        ...   \n",
       "1594                 32.0                  44.0  0.99490  3.45       0.58   \n",
       "1595                 39.0                  51.0  0.99512  3.52       0.76   \n",
       "1596                 29.0                  40.0  0.99574  3.42       0.75   \n",
       "1597                 32.0                  44.0  0.99547  3.57       0.71   \n",
       "1598                 18.0                  42.0  0.99549  3.39       0.66   \n",
       "\n",
       "      alcohol  quality  \n",
       "0         9.4        5  \n",
       "1         9.8        5  \n",
       "2         9.8        5  \n",
       "3         9.8        6  \n",
       "4         9.4        5  \n",
       "...       ...      ...  \n",
       "1594     10.5        5  \n",
       "1595     11.2        6  \n",
       "1596     11.0        6  \n",
       "1597     10.2        5  \n",
       "1598     11.0        6  \n",
       "\n",
       "[1599 rows x 12 columns]"
      ]
     },
     "execution_count": 3,
     "metadata": {},
     "output_type": "execute_result"
    }
   ],
   "source": [
    "df = pd.read_csv(\"https://raw.githubusercontent.com/aniruddhachoudhury/Red-Wine-Quality/master/winequality-red.csv\")\n",
    "df"
   ]
  },
  {
   "cell_type": "code",
   "execution_count": 68,
   "id": "caef330f",
   "metadata": {},
   "outputs": [
    {
     "data": {
      "application/vnd.jupyter.widget-view+json": {
       "model_id": "623cf889ef6f415383d2c67c51206104",
       "version_major": 2,
       "version_minor": 0
      },
      "text/plain": [
       "Summarize dataset:   0%|          | 0/5 [00:00<?, ?it/s]"
      ]
     },
     "metadata": {},
     "output_type": "display_data"
    },
    {
     "data": {
      "application/vnd.jupyter.widget-view+json": {
       "model_id": "b77c31b4388c4b92b5082f5033a6d6ed",
       "version_major": 2,
       "version_minor": 0
      },
      "text/plain": [
       "Generate report structure:   0%|          | 0/1 [00:00<?, ?it/s]"
      ]
     },
     "metadata": {},
     "output_type": "display_data"
    },
    {
     "data": {
      "application/vnd.jupyter.widget-view+json": {
       "model_id": "",
       "version_major": 2,
       "version_minor": 0
      },
      "text/plain": [
       "Render widgets:   0%|          | 0/1 [00:00<?, ?it/s]"
      ]
     },
     "metadata": {},
     "output_type": "display_data"
    },
    {
     "data": {
      "application/vnd.jupyter.widget-view+json": {
       "model_id": "1d00405bdc264ee0b08e51efa4c48e11",
       "version_major": 2,
       "version_minor": 0
      },
      "text/plain": [
       "VBox(children=(Tab(children=(Tab(children=(GridBox(children=(VBox(children=(GridspecLayout(children=(HTML(valu…"
      ]
     },
     "metadata": {},
     "output_type": "display_data"
    }
   ],
   "source": [
    "ProfileReport(df).to_widgets()"
   ]
  },
  {
   "cell_type": "code",
   "execution_count": 5,
   "id": "9b35da41",
   "metadata": {},
   "outputs": [
    {
     "data": {
      "text/html": [
       "<div>\n",
       "<style scoped>\n",
       "    .dataframe tbody tr th:only-of-type {\n",
       "        vertical-align: middle;\n",
       "    }\n",
       "\n",
       "    .dataframe tbody tr th {\n",
       "        vertical-align: top;\n",
       "    }\n",
       "\n",
       "    .dataframe thead th {\n",
       "        text-align: right;\n",
       "    }\n",
       "</style>\n",
       "<table border=\"1\" class=\"dataframe\">\n",
       "  <thead>\n",
       "    <tr style=\"text-align: right;\">\n",
       "      <th></th>\n",
       "      <th>fixed acidity</th>\n",
       "      <th>volatile acidity</th>\n",
       "      <th>citric acid</th>\n",
       "      <th>residual sugar</th>\n",
       "      <th>chlorides</th>\n",
       "      <th>free sulfur dioxide</th>\n",
       "      <th>total sulfur dioxide</th>\n",
       "      <th>density</th>\n",
       "      <th>pH</th>\n",
       "      <th>sulphates</th>\n",
       "      <th>alcohol</th>\n",
       "      <th>quality</th>\n",
       "    </tr>\n",
       "  </thead>\n",
       "  <tbody>\n",
       "    <tr>\n",
       "      <th>fixed acidity</th>\n",
       "      <td>1.000000</td>\n",
       "      <td>-0.256131</td>\n",
       "      <td>0.671703</td>\n",
       "      <td>0.114777</td>\n",
       "      <td>0.093705</td>\n",
       "      <td>-0.153794</td>\n",
       "      <td>-0.113181</td>\n",
       "      <td>0.668047</td>\n",
       "      <td>-0.682978</td>\n",
       "      <td>0.183006</td>\n",
       "      <td>-0.061668</td>\n",
       "      <td>0.124052</td>\n",
       "    </tr>\n",
       "    <tr>\n",
       "      <th>volatile acidity</th>\n",
       "      <td>-0.256131</td>\n",
       "      <td>1.000000</td>\n",
       "      <td>-0.552496</td>\n",
       "      <td>0.001918</td>\n",
       "      <td>0.061298</td>\n",
       "      <td>-0.010504</td>\n",
       "      <td>0.076470</td>\n",
       "      <td>0.022026</td>\n",
       "      <td>0.234937</td>\n",
       "      <td>-0.260987</td>\n",
       "      <td>-0.202288</td>\n",
       "      <td>-0.390558</td>\n",
       "    </tr>\n",
       "    <tr>\n",
       "      <th>citric acid</th>\n",
       "      <td>0.671703</td>\n",
       "      <td>-0.552496</td>\n",
       "      <td>1.000000</td>\n",
       "      <td>0.143577</td>\n",
       "      <td>0.203823</td>\n",
       "      <td>-0.060978</td>\n",
       "      <td>0.035533</td>\n",
       "      <td>0.364947</td>\n",
       "      <td>-0.541904</td>\n",
       "      <td>0.312770</td>\n",
       "      <td>0.109903</td>\n",
       "      <td>0.226373</td>\n",
       "    </tr>\n",
       "    <tr>\n",
       "      <th>residual sugar</th>\n",
       "      <td>0.114777</td>\n",
       "      <td>0.001918</td>\n",
       "      <td>0.143577</td>\n",
       "      <td>1.000000</td>\n",
       "      <td>0.055610</td>\n",
       "      <td>0.187049</td>\n",
       "      <td>0.203028</td>\n",
       "      <td>0.355283</td>\n",
       "      <td>-0.085652</td>\n",
       "      <td>0.005527</td>\n",
       "      <td>0.042075</td>\n",
       "      <td>0.013732</td>\n",
       "    </tr>\n",
       "    <tr>\n",
       "      <th>chlorides</th>\n",
       "      <td>0.093705</td>\n",
       "      <td>0.061298</td>\n",
       "      <td>0.203823</td>\n",
       "      <td>0.055610</td>\n",
       "      <td>1.000000</td>\n",
       "      <td>0.005562</td>\n",
       "      <td>0.047400</td>\n",
       "      <td>0.200632</td>\n",
       "      <td>-0.265026</td>\n",
       "      <td>0.371260</td>\n",
       "      <td>-0.221141</td>\n",
       "      <td>-0.128907</td>\n",
       "    </tr>\n",
       "    <tr>\n",
       "      <th>free sulfur dioxide</th>\n",
       "      <td>-0.153794</td>\n",
       "      <td>-0.010504</td>\n",
       "      <td>-0.060978</td>\n",
       "      <td>0.187049</td>\n",
       "      <td>0.005562</td>\n",
       "      <td>1.000000</td>\n",
       "      <td>0.667666</td>\n",
       "      <td>-0.021946</td>\n",
       "      <td>0.070377</td>\n",
       "      <td>0.051658</td>\n",
       "      <td>-0.069408</td>\n",
       "      <td>-0.050656</td>\n",
       "    </tr>\n",
       "    <tr>\n",
       "      <th>total sulfur dioxide</th>\n",
       "      <td>-0.113181</td>\n",
       "      <td>0.076470</td>\n",
       "      <td>0.035533</td>\n",
       "      <td>0.203028</td>\n",
       "      <td>0.047400</td>\n",
       "      <td>0.667666</td>\n",
       "      <td>1.000000</td>\n",
       "      <td>0.071269</td>\n",
       "      <td>-0.066495</td>\n",
       "      <td>0.042947</td>\n",
       "      <td>-0.205654</td>\n",
       "      <td>-0.185100</td>\n",
       "    </tr>\n",
       "    <tr>\n",
       "      <th>density</th>\n",
       "      <td>0.668047</td>\n",
       "      <td>0.022026</td>\n",
       "      <td>0.364947</td>\n",
       "      <td>0.355283</td>\n",
       "      <td>0.200632</td>\n",
       "      <td>-0.021946</td>\n",
       "      <td>0.071269</td>\n",
       "      <td>1.000000</td>\n",
       "      <td>-0.341699</td>\n",
       "      <td>0.148506</td>\n",
       "      <td>-0.496180</td>\n",
       "      <td>-0.174919</td>\n",
       "    </tr>\n",
       "    <tr>\n",
       "      <th>pH</th>\n",
       "      <td>-0.682978</td>\n",
       "      <td>0.234937</td>\n",
       "      <td>-0.541904</td>\n",
       "      <td>-0.085652</td>\n",
       "      <td>-0.265026</td>\n",
       "      <td>0.070377</td>\n",
       "      <td>-0.066495</td>\n",
       "      <td>-0.341699</td>\n",
       "      <td>1.000000</td>\n",
       "      <td>-0.196648</td>\n",
       "      <td>0.205633</td>\n",
       "      <td>-0.057731</td>\n",
       "    </tr>\n",
       "    <tr>\n",
       "      <th>sulphates</th>\n",
       "      <td>0.183006</td>\n",
       "      <td>-0.260987</td>\n",
       "      <td>0.312770</td>\n",
       "      <td>0.005527</td>\n",
       "      <td>0.371260</td>\n",
       "      <td>0.051658</td>\n",
       "      <td>0.042947</td>\n",
       "      <td>0.148506</td>\n",
       "      <td>-0.196648</td>\n",
       "      <td>1.000000</td>\n",
       "      <td>0.093595</td>\n",
       "      <td>0.251397</td>\n",
       "    </tr>\n",
       "    <tr>\n",
       "      <th>alcohol</th>\n",
       "      <td>-0.061668</td>\n",
       "      <td>-0.202288</td>\n",
       "      <td>0.109903</td>\n",
       "      <td>0.042075</td>\n",
       "      <td>-0.221141</td>\n",
       "      <td>-0.069408</td>\n",
       "      <td>-0.205654</td>\n",
       "      <td>-0.496180</td>\n",
       "      <td>0.205633</td>\n",
       "      <td>0.093595</td>\n",
       "      <td>1.000000</td>\n",
       "      <td>0.476166</td>\n",
       "    </tr>\n",
       "    <tr>\n",
       "      <th>quality</th>\n",
       "      <td>0.124052</td>\n",
       "      <td>-0.390558</td>\n",
       "      <td>0.226373</td>\n",
       "      <td>0.013732</td>\n",
       "      <td>-0.128907</td>\n",
       "      <td>-0.050656</td>\n",
       "      <td>-0.185100</td>\n",
       "      <td>-0.174919</td>\n",
       "      <td>-0.057731</td>\n",
       "      <td>0.251397</td>\n",
       "      <td>0.476166</td>\n",
       "      <td>1.000000</td>\n",
       "    </tr>\n",
       "  </tbody>\n",
       "</table>\n",
       "</div>"
      ],
      "text/plain": [
       "                      fixed acidity  volatile acidity  citric acid  \\\n",
       "fixed acidity              1.000000         -0.256131     0.671703   \n",
       "volatile acidity          -0.256131          1.000000    -0.552496   \n",
       "citric acid                0.671703         -0.552496     1.000000   \n",
       "residual sugar             0.114777          0.001918     0.143577   \n",
       "chlorides                  0.093705          0.061298     0.203823   \n",
       "free sulfur dioxide       -0.153794         -0.010504    -0.060978   \n",
       "total sulfur dioxide      -0.113181          0.076470     0.035533   \n",
       "density                    0.668047          0.022026     0.364947   \n",
       "pH                        -0.682978          0.234937    -0.541904   \n",
       "sulphates                  0.183006         -0.260987     0.312770   \n",
       "alcohol                   -0.061668         -0.202288     0.109903   \n",
       "quality                    0.124052         -0.390558     0.226373   \n",
       "\n",
       "                      residual sugar  chlorides  free sulfur dioxide  \\\n",
       "fixed acidity               0.114777   0.093705            -0.153794   \n",
       "volatile acidity            0.001918   0.061298            -0.010504   \n",
       "citric acid                 0.143577   0.203823            -0.060978   \n",
       "residual sugar              1.000000   0.055610             0.187049   \n",
       "chlorides                   0.055610   1.000000             0.005562   \n",
       "free sulfur dioxide         0.187049   0.005562             1.000000   \n",
       "total sulfur dioxide        0.203028   0.047400             0.667666   \n",
       "density                     0.355283   0.200632            -0.021946   \n",
       "pH                         -0.085652  -0.265026             0.070377   \n",
       "sulphates                   0.005527   0.371260             0.051658   \n",
       "alcohol                     0.042075  -0.221141            -0.069408   \n",
       "quality                     0.013732  -0.128907            -0.050656   \n",
       "\n",
       "                      total sulfur dioxide   density        pH  sulphates  \\\n",
       "fixed acidity                    -0.113181  0.668047 -0.682978   0.183006   \n",
       "volatile acidity                  0.076470  0.022026  0.234937  -0.260987   \n",
       "citric acid                       0.035533  0.364947 -0.541904   0.312770   \n",
       "residual sugar                    0.203028  0.355283 -0.085652   0.005527   \n",
       "chlorides                         0.047400  0.200632 -0.265026   0.371260   \n",
       "free sulfur dioxide               0.667666 -0.021946  0.070377   0.051658   \n",
       "total sulfur dioxide              1.000000  0.071269 -0.066495   0.042947   \n",
       "density                           0.071269  1.000000 -0.341699   0.148506   \n",
       "pH                               -0.066495 -0.341699  1.000000  -0.196648   \n",
       "sulphates                         0.042947  0.148506 -0.196648   1.000000   \n",
       "alcohol                          -0.205654 -0.496180  0.205633   0.093595   \n",
       "quality                          -0.185100 -0.174919 -0.057731   0.251397   \n",
       "\n",
       "                       alcohol   quality  \n",
       "fixed acidity        -0.061668  0.124052  \n",
       "volatile acidity     -0.202288 -0.390558  \n",
       "citric acid           0.109903  0.226373  \n",
       "residual sugar        0.042075  0.013732  \n",
       "chlorides            -0.221141 -0.128907  \n",
       "free sulfur dioxide  -0.069408 -0.050656  \n",
       "total sulfur dioxide -0.205654 -0.185100  \n",
       "density              -0.496180 -0.174919  \n",
       "pH                    0.205633 -0.057731  \n",
       "sulphates             0.093595  0.251397  \n",
       "alcohol               1.000000  0.476166  \n",
       "quality               0.476166  1.000000  "
      ]
     },
     "execution_count": 5,
     "metadata": {},
     "output_type": "execute_result"
    }
   ],
   "source": [
    "df.corr()"
   ]
  },
  {
   "cell_type": "code",
   "execution_count": 6,
   "id": "42d78ff3",
   "metadata": {},
   "outputs": [
    {
     "data": {
      "text/plain": [
       "<AxesSubplot:>"
      ]
     },
     "execution_count": 6,
     "metadata": {},
     "output_type": "execute_result"
    },
    {
     "data": {
      "image/png": "[encoded data removed]",
      "text/plain": [
       "<Figure size 864x864 with 2 Axes>"
      ]
     },
     "metadata": {
      "needs_background": "light"
     },
     "output_type": "display_data"
    }
   ],
   "source": [
    "fig = plt.figure()\n",
    "fig.set_size_inches(12,12)\n",
    "sns.heatmap(df.corr(), cmap = 'YlGnBu', annot=True)"
   ]
  },
  {
   "cell_type": "code",
   "execution_count": 7,
   "id": "35f74c93",
   "metadata": {},
   "outputs": [
    {
     "data": {
      "text/html": [
       "<div>\n",
       "<style scoped>\n",
       "    .dataframe tbody tr th:only-of-type {\n",
       "        vertical-align: middle;\n",
       "    }\n",
       "\n",
       "    .dataframe tbody tr th {\n",
       "        vertical-align: top;\n",
       "    }\n",
       "\n",
       "    .dataframe thead th {\n",
       "        text-align: right;\n",
       "    }\n",
       "</style>\n",
       "<table border=\"1\" class=\"dataframe\">\n",
       "  <thead>\n",
       "    <tr style=\"text-align: right;\">\n",
       "      <th></th>\n",
       "      <th>fixed acidity</th>\n",
       "      <th>volatile acidity</th>\n",
       "      <th>citric acid</th>\n",
       "      <th>residual sugar</th>\n",
       "      <th>chlorides</th>\n",
       "      <th>free sulfur dioxide</th>\n",
       "      <th>total sulfur dioxide</th>\n",
       "      <th>density</th>\n",
       "      <th>pH</th>\n",
       "      <th>sulphates</th>\n",
       "      <th>alcohol</th>\n",
       "    </tr>\n",
       "  </thead>\n",
       "  <tbody>\n",
       "    <tr>\n",
       "      <th>0</th>\n",
       "      <td>7.4</td>\n",
       "      <td>0.70</td>\n",
       "      <td>0.00</td>\n",
       "      <td>1.9</td>\n",
       "      <td>0.076</td>\n",
       "      <td>11.0</td>\n",
       "      <td>34.0</td>\n",
       "      <td>0.9978</td>\n",
       "      <td>3.51</td>\n",
       "      <td>0.56</td>\n",
       "      <td>9.4</td>\n",
       "    </tr>\n",
       "    <tr>\n",
       "      <th>1</th>\n",
       "      <td>7.8</td>\n",
       "      <td>0.88</td>\n",
       "      <td>0.00</td>\n",
       "      <td>2.6</td>\n",
       "      <td>0.098</td>\n",
       "      <td>25.0</td>\n",
       "      <td>67.0</td>\n",
       "      <td>0.9968</td>\n",
       "      <td>3.20</td>\n",
       "      <td>0.68</td>\n",
       "      <td>9.8</td>\n",
       "    </tr>\n",
       "    <tr>\n",
       "      <th>2</th>\n",
       "      <td>7.8</td>\n",
       "      <td>0.76</td>\n",
       "      <td>0.04</td>\n",
       "      <td>2.3</td>\n",
       "      <td>0.092</td>\n",
       "      <td>15.0</td>\n",
       "      <td>54.0</td>\n",
       "      <td>0.9970</td>\n",
       "      <td>3.26</td>\n",
       "      <td>0.65</td>\n",
       "      <td>9.8</td>\n",
       "    </tr>\n",
       "    <tr>\n",
       "      <th>3</th>\n",
       "      <td>11.2</td>\n",
       "      <td>0.28</td>\n",
       "      <td>0.56</td>\n",
       "      <td>1.9</td>\n",
       "      <td>0.075</td>\n",
       "      <td>17.0</td>\n",
       "      <td>60.0</td>\n",
       "      <td>0.9980</td>\n",
       "      <td>3.16</td>\n",
       "      <td>0.58</td>\n",
       "      <td>9.8</td>\n",
       "    </tr>\n",
       "    <tr>\n",
       "      <th>4</th>\n",
       "      <td>7.4</td>\n",
       "      <td>0.70</td>\n",
       "      <td>0.00</td>\n",
       "      <td>1.9</td>\n",
       "      <td>0.076</td>\n",
       "      <td>11.0</td>\n",
       "      <td>34.0</td>\n",
       "      <td>0.9978</td>\n",
       "      <td>3.51</td>\n",
       "      <td>0.56</td>\n",
       "      <td>9.4</td>\n",
       "    </tr>\n",
       "  </tbody>\n",
       "</table>\n",
       "</div>"
      ],
      "text/plain": [
       "   fixed acidity  volatile acidity  citric acid  residual sugar  chlorides  \\\n",
       "0            7.4              0.70         0.00             1.9      0.076   \n",
       "1            7.8              0.88         0.00             2.6      0.098   \n",
       "2            7.8              0.76         0.04             2.3      0.092   \n",
       "3           11.2              0.28         0.56             1.9      0.075   \n",
       "4            7.4              0.70         0.00             1.9      0.076   \n",
       "\n",
       "   free sulfur dioxide  total sulfur dioxide  density    pH  sulphates  \\\n",
       "0                 11.0                  34.0   0.9978  3.51       0.56   \n",
       "1                 25.0                  67.0   0.9968  3.20       0.68   \n",
       "2                 15.0                  54.0   0.9970  3.26       0.65   \n",
       "3                 17.0                  60.0   0.9980  3.16       0.58   \n",
       "4                 11.0                  34.0   0.9978  3.51       0.56   \n",
       "\n",
       "   alcohol  \n",
       "0      9.4  \n",
       "1      9.8  \n",
       "2      9.8  \n",
       "3      9.8  \n",
       "4      9.4  "
      ]
     },
     "execution_count": 7,
     "metadata": {},
     "output_type": "execute_result"
    }
   ],
   "source": [
    "X = df.drop(columns=['quality'])\n",
    "X.head()"
   ]
  },
  {
   "cell_type": "code",
   "execution_count": 8,
   "id": "a9c6977f",
   "metadata": {},
   "outputs": [
    {
     "data": {
      "text/html": [
       "<div>\n",
       "<style scoped>\n",
       "    .dataframe tbody tr th:only-of-type {\n",
       "        vertical-align: middle;\n",
       "    }\n",
       "\n",
       "    .dataframe tbody tr th {\n",
       "        vertical-align: top;\n",
       "    }\n",
       "\n",
       "    .dataframe thead th {\n",
       "        text-align: right;\n",
       "    }\n",
       "</style>\n",
       "<table border=\"1\" class=\"dataframe\">\n",
       "  <thead>\n",
       "    <tr style=\"text-align: right;\">\n",
       "      <th></th>\n",
       "      <th>quality</th>\n",
       "    </tr>\n",
       "  </thead>\n",
       "  <tbody>\n",
       "    <tr>\n",
       "      <th>0</th>\n",
       "      <td>5</td>\n",
       "    </tr>\n",
       "    <tr>\n",
       "      <th>1</th>\n",
       "      <td>5</td>\n",
       "    </tr>\n",
       "    <tr>\n",
       "      <th>2</th>\n",
       "      <td>5</td>\n",
       "    </tr>\n",
       "    <tr>\n",
       "      <th>3</th>\n",
       "      <td>6</td>\n",
       "    </tr>\n",
       "    <tr>\n",
       "      <th>4</th>\n",
       "      <td>5</td>\n",
       "    </tr>\n",
       "  </tbody>\n",
       "</table>\n",
       "</div>"
      ],
      "text/plain": [
       "   quality\n",
       "0        5\n",
       "1        5\n",
       "2        5\n",
       "3        6\n",
       "4        5"
      ]
     },
     "execution_count": 8,
     "metadata": {},
     "output_type": "execute_result"
    }
   ],
   "source": [
    "Y = df[['quality']]\n",
    "Y.head()"
   ]
  },
  {
   "cell_type": "code",
   "execution_count": 9,
   "id": "2d751da3",
   "metadata": {},
   "outputs": [],
   "source": [
    "x_train, x_test, y_train, y_test = train_test_split(X, Y, test_size=0.2, random_state=150)"
   ]
  },
  {
   "cell_type": "code",
   "execution_count": 10,
   "id": "dc009541",
   "metadata": {},
   "outputs": [
    {
     "data": {
      "text/html": [
       "<div>\n",
       "<style scoped>\n",
       "    .dataframe tbody tr th:only-of-type {\n",
       "        vertical-align: middle;\n",
       "    }\n",
       "\n",
       "    .dataframe tbody tr th {\n",
       "        vertical-align: top;\n",
       "    }\n",
       "\n",
       "    .dataframe thead th {\n",
       "        text-align: right;\n",
       "    }\n",
       "</style>\n",
       "<table border=\"1\" class=\"dataframe\">\n",
       "  <thead>\n",
       "    <tr style=\"text-align: right;\">\n",
       "      <th></th>\n",
       "      <th>fixed acidity</th>\n",
       "      <th>volatile acidity</th>\n",
       "      <th>citric acid</th>\n",
       "      <th>residual sugar</th>\n",
       "      <th>chlorides</th>\n",
       "      <th>free sulfur dioxide</th>\n",
       "      <th>total sulfur dioxide</th>\n",
       "      <th>density</th>\n",
       "      <th>pH</th>\n",
       "      <th>sulphates</th>\n",
       "      <th>alcohol</th>\n",
       "    </tr>\n",
       "  </thead>\n",
       "  <tbody>\n",
       "    <tr>\n",
       "      <th>139</th>\n",
       "      <td>7.8</td>\n",
       "      <td>0.56</td>\n",
       "      <td>0.19</td>\n",
       "      <td>2.0</td>\n",
       "      <td>0.081</td>\n",
       "      <td>17.0</td>\n",
       "      <td>108.0</td>\n",
       "      <td>0.99620</td>\n",
       "      <td>3.32</td>\n",
       "      <td>0.54</td>\n",
       "      <td>9.5</td>\n",
       "    </tr>\n",
       "    <tr>\n",
       "      <th>876</th>\n",
       "      <td>7.1</td>\n",
       "      <td>0.47</td>\n",
       "      <td>0.00</td>\n",
       "      <td>2.2</td>\n",
       "      <td>0.067</td>\n",
       "      <td>7.0</td>\n",
       "      <td>14.0</td>\n",
       "      <td>0.99517</td>\n",
       "      <td>3.40</td>\n",
       "      <td>0.58</td>\n",
       "      <td>10.9</td>\n",
       "    </tr>\n",
       "    <tr>\n",
       "      <th>363</th>\n",
       "      <td>12.5</td>\n",
       "      <td>0.46</td>\n",
       "      <td>0.63</td>\n",
       "      <td>2.0</td>\n",
       "      <td>0.071</td>\n",
       "      <td>6.0</td>\n",
       "      <td>15.0</td>\n",
       "      <td>0.99880</td>\n",
       "      <td>2.99</td>\n",
       "      <td>0.87</td>\n",
       "      <td>10.2</td>\n",
       "    </tr>\n",
       "    <tr>\n",
       "      <th>1328</th>\n",
       "      <td>6.5</td>\n",
       "      <td>0.52</td>\n",
       "      <td>0.11</td>\n",
       "      <td>1.8</td>\n",
       "      <td>0.073</td>\n",
       "      <td>13.0</td>\n",
       "      <td>38.0</td>\n",
       "      <td>0.99550</td>\n",
       "      <td>3.34</td>\n",
       "      <td>0.52</td>\n",
       "      <td>9.3</td>\n",
       "    </tr>\n",
       "    <tr>\n",
       "      <th>138</th>\n",
       "      <td>7.8</td>\n",
       "      <td>0.56</td>\n",
       "      <td>0.19</td>\n",
       "      <td>2.1</td>\n",
       "      <td>0.081</td>\n",
       "      <td>15.0</td>\n",
       "      <td>105.0</td>\n",
       "      <td>0.99620</td>\n",
       "      <td>3.33</td>\n",
       "      <td>0.54</td>\n",
       "      <td>9.5</td>\n",
       "    </tr>\n",
       "  </tbody>\n",
       "</table>\n",
       "</div>"
      ],
      "text/plain": [
       "      fixed acidity  volatile acidity  citric acid  residual sugar  chlorides  \\\n",
       "139             7.8              0.56         0.19             2.0      0.081   \n",
       "876             7.1              0.47         0.00             2.2      0.067   \n",
       "363            12.5              0.46         0.63             2.0      0.071   \n",
       "1328            6.5              0.52         0.11             1.8      0.073   \n",
       "138             7.8              0.56         0.19             2.1      0.081   \n",
       "\n",
       "      free sulfur dioxide  total sulfur dioxide  density    pH  sulphates  \\\n",
       "139                  17.0                 108.0  0.99620  3.32       0.54   \n",
       "876                   7.0                  14.0  0.99517  3.40       0.58   \n",
       "363                   6.0                  15.0  0.99880  2.99       0.87   \n",
       "1328                 13.0                  38.0  0.99550  3.34       0.52   \n",
       "138                  15.0                 105.0  0.99620  3.33       0.54   \n",
       "\n",
       "      alcohol  \n",
       "139       9.5  \n",
       "876      10.9  \n",
       "363      10.2  \n",
       "1328      9.3  \n",
       "138       9.5  "
      ]
     },
     "execution_count": 10,
     "metadata": {},
     "output_type": "execute_result"
    }
   ],
   "source": [
    "x_train.head()"
   ]
  },
  {
   "cell_type": "code",
   "execution_count": 11,
   "id": "712d486e",
   "metadata": {},
   "outputs": [
    {
     "data": {
      "text/html": [
       "<div>\n",
       "<style scoped>\n",
       "    .dataframe tbody tr th:only-of-type {\n",
       "        vertical-align: middle;\n",
       "    }\n",
       "\n",
       "    .dataframe tbody tr th {\n",
       "        vertical-align: top;\n",
       "    }\n",
       "\n",
       "    .dataframe thead th {\n",
       "        text-align: right;\n",
       "    }\n",
       "</style>\n",
       "<table border=\"1\" class=\"dataframe\">\n",
       "  <thead>\n",
       "    <tr style=\"text-align: right;\">\n",
       "      <th></th>\n",
       "      <th>quality</th>\n",
       "    </tr>\n",
       "  </thead>\n",
       "  <tbody>\n",
       "    <tr>\n",
       "      <th>139</th>\n",
       "      <td>5</td>\n",
       "    </tr>\n",
       "    <tr>\n",
       "      <th>876</th>\n",
       "      <td>4</td>\n",
       "    </tr>\n",
       "    <tr>\n",
       "      <th>363</th>\n",
       "      <td>5</td>\n",
       "    </tr>\n",
       "    <tr>\n",
       "      <th>1328</th>\n",
       "      <td>5</td>\n",
       "    </tr>\n",
       "    <tr>\n",
       "      <th>138</th>\n",
       "      <td>5</td>\n",
       "    </tr>\n",
       "  </tbody>\n",
       "</table>\n",
       "</div>"
      ],
      "text/plain": [
       "      quality\n",
       "139         5\n",
       "876         4\n",
       "363         5\n",
       "1328        5\n",
       "138         5"
      ]
     },
     "execution_count": 11,
     "metadata": {},
     "output_type": "execute_result"
    }
   ],
   "source": [
    "y_train.head()"
   ]
  },
  {
   "cell_type": "code",
   "execution_count": 12,
   "id": "1ed75279",
   "metadata": {},
   "outputs": [
    {
     "data": {
      "text/plain": [
       "DecisionTreeClassifier()"
      ]
     },
     "execution_count": 12,
     "metadata": {},
     "output_type": "execute_result"
    }
   ],
   "source": [
    "mod = DecisionTreeClassifier()\n",
    "mod.fit(x_train, y_train)"
   ]
  },
  {
   "cell_type": "code",
   "execution_count": 13,
   "id": "87640e61",
   "metadata": {},
   "outputs": [
    {
     "data": {
      "text/plain": [
       "1.0"
      ]
     },
     "execution_count": 13,
     "metadata": {},
     "output_type": "execute_result"
    }
   ],
   "source": [
    "# on the training dataset\n",
    "mod.score(x_train, y_train) # kinda overfitting on the training datset"
   ]
  },
  {
   "cell_type": "code",
   "execution_count": 14,
   "id": "e65972a7",
   "metadata": {},
   "outputs": [
    {
     "data": {
      "text/plain": [
       "0.6625"
      ]
     },
     "execution_count": 14,
     "metadata": {},
     "output_type": "execute_result"
    }
   ],
   "source": [
    "# on the test dataset\n",
    "mod.score(x_test, y_test)"
   ]
  },
  {
   "cell_type": "markdown",
   "id": "f302f30e",
   "metadata": {},
   "source": [
    "### trying w removing the duplicate records: "
   ]
  },
  {
   "cell_type": "code",
   "execution_count": 15,
   "id": "0fa2f59b",
   "metadata": {},
   "outputs": [
    {
     "data": {
      "text/html": [
       "<div>\n",
       "<style scoped>\n",
       "    .dataframe tbody tr th:only-of-type {\n",
       "        vertical-align: middle;\n",
       "    }\n",
       "\n",
       "    .dataframe tbody tr th {\n",
       "        vertical-align: top;\n",
       "    }\n",
       "\n",
       "    .dataframe thead th {\n",
       "        text-align: right;\n",
       "    }\n",
       "</style>\n",
       "<table border=\"1\" class=\"dataframe\">\n",
       "  <thead>\n",
       "    <tr style=\"text-align: right;\">\n",
       "      <th></th>\n",
       "      <th>fixed acidity</th>\n",
       "      <th>volatile acidity</th>\n",
       "      <th>citric acid</th>\n",
       "      <th>residual sugar</th>\n",
       "      <th>chlorides</th>\n",
       "      <th>free sulfur dioxide</th>\n",
       "      <th>total sulfur dioxide</th>\n",
       "      <th>density</th>\n",
       "      <th>pH</th>\n",
       "      <th>sulphates</th>\n",
       "      <th>alcohol</th>\n",
       "      <th>quality</th>\n",
       "    </tr>\n",
       "  </thead>\n",
       "  <tbody>\n",
       "    <tr>\n",
       "      <th>0</th>\n",
       "      <td>7.4</td>\n",
       "      <td>0.700</td>\n",
       "      <td>0.00</td>\n",
       "      <td>1.9</td>\n",
       "      <td>0.076</td>\n",
       "      <td>11.0</td>\n",
       "      <td>34.0</td>\n",
       "      <td>0.99780</td>\n",
       "      <td>3.51</td>\n",
       "      <td>0.56</td>\n",
       "      <td>9.4</td>\n",
       "      <td>5</td>\n",
       "    </tr>\n",
       "    <tr>\n",
       "      <th>1</th>\n",
       "      <td>7.8</td>\n",
       "      <td>0.880</td>\n",
       "      <td>0.00</td>\n",
       "      <td>2.6</td>\n",
       "      <td>0.098</td>\n",
       "      <td>25.0</td>\n",
       "      <td>67.0</td>\n",
       "      <td>0.99680</td>\n",
       "      <td>3.20</td>\n",
       "      <td>0.68</td>\n",
       "      <td>9.8</td>\n",
       "      <td>5</td>\n",
       "    </tr>\n",
       "    <tr>\n",
       "      <th>2</th>\n",
       "      <td>7.8</td>\n",
       "      <td>0.760</td>\n",
       "      <td>0.04</td>\n",
       "      <td>2.3</td>\n",
       "      <td>0.092</td>\n",
       "      <td>15.0</td>\n",
       "      <td>54.0</td>\n",
       "      <td>0.99700</td>\n",
       "      <td>3.26</td>\n",
       "      <td>0.65</td>\n",
       "      <td>9.8</td>\n",
       "      <td>5</td>\n",
       "    </tr>\n",
       "    <tr>\n",
       "      <th>3</th>\n",
       "      <td>11.2</td>\n",
       "      <td>0.280</td>\n",
       "      <td>0.56</td>\n",
       "      <td>1.9</td>\n",
       "      <td>0.075</td>\n",
       "      <td>17.0</td>\n",
       "      <td>60.0</td>\n",
       "      <td>0.99800</td>\n",
       "      <td>3.16</td>\n",
       "      <td>0.58</td>\n",
       "      <td>9.8</td>\n",
       "      <td>6</td>\n",
       "    </tr>\n",
       "    <tr>\n",
       "      <th>5</th>\n",
       "      <td>7.4</td>\n",
       "      <td>0.660</td>\n",
       "      <td>0.00</td>\n",
       "      <td>1.8</td>\n",
       "      <td>0.075</td>\n",
       "      <td>13.0</td>\n",
       "      <td>40.0</td>\n",
       "      <td>0.99780</td>\n",
       "      <td>3.51</td>\n",
       "      <td>0.56</td>\n",
       "      <td>9.4</td>\n",
       "      <td>5</td>\n",
       "    </tr>\n",
       "    <tr>\n",
       "      <th>...</th>\n",
       "      <td>...</td>\n",
       "      <td>...</td>\n",
       "      <td>...</td>\n",
       "      <td>...</td>\n",
       "      <td>...</td>\n",
       "      <td>...</td>\n",
       "      <td>...</td>\n",
       "      <td>...</td>\n",
       "      <td>...</td>\n",
       "      <td>...</td>\n",
       "      <td>...</td>\n",
       "      <td>...</td>\n",
       "    </tr>\n",
       "    <tr>\n",
       "      <th>1593</th>\n",
       "      <td>6.8</td>\n",
       "      <td>0.620</td>\n",
       "      <td>0.08</td>\n",
       "      <td>1.9</td>\n",
       "      <td>0.068</td>\n",
       "      <td>28.0</td>\n",
       "      <td>38.0</td>\n",
       "      <td>0.99651</td>\n",
       "      <td>3.42</td>\n",
       "      <td>0.82</td>\n",
       "      <td>9.5</td>\n",
       "      <td>6</td>\n",
       "    </tr>\n",
       "    <tr>\n",
       "      <th>1594</th>\n",
       "      <td>6.2</td>\n",
       "      <td>0.600</td>\n",
       "      <td>0.08</td>\n",
       "      <td>2.0</td>\n",
       "      <td>0.090</td>\n",
       "      <td>32.0</td>\n",
       "      <td>44.0</td>\n",
       "      <td>0.99490</td>\n",
       "      <td>3.45</td>\n",
       "      <td>0.58</td>\n",
       "      <td>10.5</td>\n",
       "      <td>5</td>\n",
       "    </tr>\n",
       "    <tr>\n",
       "      <th>1595</th>\n",
       "      <td>5.9</td>\n",
       "      <td>0.550</td>\n",
       "      <td>0.10</td>\n",
       "      <td>2.2</td>\n",
       "      <td>0.062</td>\n",
       "      <td>39.0</td>\n",
       "      <td>51.0</td>\n",
       "      <td>0.99512</td>\n",
       "      <td>3.52</td>\n",
       "      <td>0.76</td>\n",
       "      <td>11.2</td>\n",
       "      <td>6</td>\n",
       "    </tr>\n",
       "    <tr>\n",
       "      <th>1597</th>\n",
       "      <td>5.9</td>\n",
       "      <td>0.645</td>\n",
       "      <td>0.12</td>\n",
       "      <td>2.0</td>\n",
       "      <td>0.075</td>\n",
       "      <td>32.0</td>\n",
       "      <td>44.0</td>\n",
       "      <td>0.99547</td>\n",
       "      <td>3.57</td>\n",
       "      <td>0.71</td>\n",
       "      <td>10.2</td>\n",
       "      <td>5</td>\n",
       "    </tr>\n",
       "    <tr>\n",
       "      <th>1598</th>\n",
       "      <td>6.0</td>\n",
       "      <td>0.310</td>\n",
       "      <td>0.47</td>\n",
       "      <td>3.6</td>\n",
       "      <td>0.067</td>\n",
       "      <td>18.0</td>\n",
       "      <td>42.0</td>\n",
       "      <td>0.99549</td>\n",
       "      <td>3.39</td>\n",
       "      <td>0.66</td>\n",
       "      <td>11.0</td>\n",
       "      <td>6</td>\n",
       "    </tr>\n",
       "  </tbody>\n",
       "</table>\n",
       "<p>1359 rows × 12 columns</p>\n",
       "</div>"
      ],
      "text/plain": [
       "      fixed acidity  volatile acidity  citric acid  residual sugar  chlorides  \\\n",
       "0               7.4             0.700         0.00             1.9      0.076   \n",
       "1               7.8             0.880         0.00             2.6      0.098   \n",
       "2               7.8             0.760         0.04             2.3      0.092   \n",
       "3              11.2             0.280         0.56             1.9      0.075   \n",
       "5               7.4             0.660         0.00             1.8      0.075   \n",
       "...             ...               ...          ...             ...        ...   \n",
       "1593            6.8             0.620         0.08             1.9      0.068   \n",
       "1594            6.2             0.600         0.08             2.0      0.090   \n",
       "1595            5.9             0.550         0.10             2.2      0.062   \n",
       "1597            5.9             0.645         0.12             2.0      0.075   \n",
       "1598            6.0             0.310         0.47             3.6      0.067   \n",
       "\n",
       "      free sulfur dioxide  total sulfur dioxide  density    pH  sulphates  \\\n",
       "0                    11.0                  34.0  0.99780  3.51       0.56   \n",
       "1                    25.0                  67.0  0.99680  3.20       0.68   \n",
       "2                    15.0                  54.0  0.99700  3.26       0.65   \n",
       "3                    17.0                  60.0  0.99800  3.16       0.58   \n",
       "5                    13.0                  40.0  0.99780  3.51       0.56   \n",
       "...                   ...                   ...      ...   ...        ...   \n",
       "1593                 28.0                  38.0  0.99651  3.42       0.82   \n",
       "1594                 32.0                  44.0  0.99490  3.45       0.58   \n",
       "1595                 39.0                  51.0  0.99512  3.52       0.76   \n",
       "1597                 32.0                  44.0  0.99547  3.57       0.71   \n",
       "1598                 18.0                  42.0  0.99549  3.39       0.66   \n",
       "\n",
       "      alcohol  quality  \n",
       "0         9.4        5  \n",
       "1         9.8        5  \n",
       "2         9.8        5  \n",
       "3         9.8        6  \n",
       "5         9.4        5  \n",
       "...       ...      ...  \n",
       "1593      9.5        6  \n",
       "1594     10.5        5  \n",
       "1595     11.2        6  \n",
       "1597     10.2        5  \n",
       "1598     11.0        6  \n",
       "\n",
       "[1359 rows x 12 columns]"
      ]
     },
     "execution_count": 15,
     "metadata": {},
     "output_type": "execute_result"
    }
   ],
   "source": [
    "df1 = df.drop_duplicates()\n",
    "df1"
   ]
  },
  {
   "cell_type": "code",
   "execution_count": 16,
   "id": "30183f54",
   "metadata": {},
   "outputs": [],
   "source": [
    "X1 = df1.drop(columns=['quality'])\n",
    "Y1 = df1[['quality']]"
   ]
  },
  {
   "cell_type": "code",
   "execution_count": 17,
   "id": "e097eefe",
   "metadata": {},
   "outputs": [
    {
     "data": {
      "text/plain": [
       "DecisionTreeClassifier()"
      ]
     },
     "execution_count": 17,
     "metadata": {},
     "output_type": "execute_result"
    }
   ],
   "source": [
    "x1_train, x1_test, y1_train, y1_test = train_test_split(X1, Y1, test_size=0.4, random_state=500)\n",
    "mod1 = DecisionTreeClassifier()\n",
    "mod1.fit(x1_train, y1_train)"
   ]
  },
  {
   "cell_type": "code",
   "execution_count": 18,
   "id": "15f7ba75",
   "metadata": {},
   "outputs": [
    {
     "data": {
      "text/plain": [
       "0.49264705882352944"
      ]
     },
     "execution_count": 18,
     "metadata": {},
     "output_type": "execute_result"
    }
   ],
   "source": [
    "mod1.score(x1_test, y1_test)\n",
    "\n",
    "# the accuracy decreased even more after dropping the duplicate records"
   ]
  },
  {
   "cell_type": "markdown",
   "id": "bc98b238",
   "metadata": {},
   "source": [
    "### Implementing the criteria = `entropy`"
   ]
  },
  {
   "cell_type": "code",
   "execution_count": 19,
   "id": "bcc7a6ae",
   "metadata": {},
   "outputs": [
    {
     "data": {
      "text/plain": [
       "DecisionTreeClassifier(criterion='entropy')"
      ]
     },
     "execution_count": 19,
     "metadata": {},
     "output_type": "execute_result"
    }
   ],
   "source": [
    "mod2 = DecisionTreeClassifier(criterion='entropy')\n",
    "mod2.fit(x1_train, y1_train)"
   ]
  },
  {
   "cell_type": "code",
   "execution_count": 20,
   "id": "2c94fd64",
   "metadata": {},
   "outputs": [
    {
     "data": {
      "text/plain": [
       "0.49080882352941174"
      ]
     },
     "execution_count": 20,
     "metadata": {},
     "output_type": "execute_result"
    }
   ],
   "source": [
    "mod2.score(x1_test, y1_test)\n",
    "\n",
    "# decreased even more"
   ]
  },
  {
   "cell_type": "code",
   "execution_count": 21,
   "id": "563cf13e",
   "metadata": {},
   "outputs": [],
   "source": [
    "dotFile = open('dtree_meta.dot', 'w')\n",
    "tree.export_graphviz(mod2, dotFile, feature_names=X1.columns)    "
   ]
  },
  {
   "cell_type": "markdown",
   "id": "c91d39fd",
   "metadata": {},
   "source": [
    "## # Visualizing the Decision Tree:"
   ]
  },
  {
   "cell_type": "code",
   "execution_count": 22,
   "id": "6282e55f",
   "metadata": {},
   "outputs": [],
   "source": [
    "from sklearn import tree\n",
    "import matplotlib.pyplot as plt\n",
    "%matplotlib inline"
   ]
  },
  {
   "cell_type": "code",
   "execution_count": 23,
   "id": "a7df3088",
   "metadata": {},
   "outputs": [
    {
     "data": {
      "text/plain": [
       "[Text(0.4526542467948718, 0.975, 'X[10] <= 10.35\\nentropy = 1.718\\nsamples = 815\\nvalue = [7, 32, 359, 315, 94, 8]'),\n",
       " Text(0.1818309294871795, 0.925, 'X[1] <= 0.335\\nentropy = 1.338\\nsamples = 446\\nvalue = [6, 16, 281, 132, 10, 1]'),\n",
       " Text(0.04358974358974359, 0.875, 'X[4] <= 0.097\\nentropy = 1.498\\nsamples = 42\\nvalue = [0, 1, 7, 27, 6, 1]'),\n",
       " Text(0.03076923076923077, 0.825, 'X[9] <= 0.51\\nentropy = 1.297\\nsamples = 37\\nvalue = [0, 1, 3, 27, 5, 1]'),\n",
       " Text(0.020512820512820513, 0.775, 'X[10] <= 9.35\\nentropy = 0.918\\nsamples = 3\\nvalue = [0, 1, 2, 0, 0, 0]'),\n",
       " Text(0.015384615384615385, 0.725, 'entropy = 0.0\\nsamples = 1\\nvalue = [0, 1, 0, 0, 0, 0]'),\n",
       " Text(0.02564102564102564, 0.725, 'entropy = 0.0\\nsamples = 2\\nvalue = [0, 0, 2, 0, 0, 0]'),\n",
       " Text(0.041025641025641026, 0.775, 'X[3] <= 14.45\\nentropy = 0.97\\nsamples = 34\\nvalue = [0, 0, 1, 27, 5, 1]'),\n",
       " Text(0.035897435897435895, 0.725, 'X[4] <= 0.076\\nentropy = 0.802\\nsamples = 33\\nvalue = [0, 0, 0, 27, 5, 1]'),\n",
       " Text(0.03076923076923077, 0.675, 'X[1] <= 0.325\\nentropy = 1.105\\nsamples = 19\\nvalue = [0, 0, 0, 13, 5, 1]'),\n",
       " Text(0.02564102564102564, 0.625, 'X[0] <= 11.7\\nentropy = 0.852\\nsamples = 18\\nvalue = [0, 0, 0, 13, 5, 0]'),\n",
       " Text(0.020512820512820513, 0.575, 'X[3] <= 1.45\\nentropy = 0.696\\nsamples = 16\\nvalue = [0, 0, 0, 13, 3, 0]'),\n",
       " Text(0.010256410256410256, 0.525, 'X[8] <= 3.29\\nentropy = 0.918\\nsamples = 3\\nvalue = [0, 0, 0, 1, 2, 0]'),\n",
       " Text(0.005128205128205128, 0.475, 'entropy = 0.0\\nsamples = 1\\nvalue = [0, 0, 0, 0, 1, 0]'),\n",
       " Text(0.015384615384615385, 0.475, 'X[9] <= 0.73\\nentropy = 1.0\\nsamples = 2\\nvalue = [0, 0, 0, 1, 1, 0]'),\n",
       " Text(0.010256410256410256, 0.425, 'entropy = 0.0\\nsamples = 1\\nvalue = [0, 0, 0, 0, 1, 0]'),\n",
       " Text(0.020512820512820513, 0.425, 'entropy = 0.0\\nsamples = 1\\nvalue = [0, 0, 0, 1, 0, 0]'),\n",
       " Text(0.03076923076923077, 0.525, 'X[6] <= 64.0\\nentropy = 0.391\\nsamples = 13\\nvalue = [0, 0, 0, 12, 1, 0]'),\n",
       " Text(0.02564102564102564, 0.475, 'entropy = 0.0\\nsamples = 10\\nvalue = [0, 0, 0, 10, 0, 0]'),\n",
       " Text(0.035897435897435895, 0.475, 'X[6] <= 70.0\\nentropy = 0.918\\nsamples = 3\\nvalue = [0, 0, 0, 2, 1, 0]'),\n",
       " Text(0.03076923076923077, 0.425, 'entropy = 0.0\\nsamples = 1\\nvalue = [0, 0, 0, 0, 1, 0]'),\n",
       " Text(0.041025641025641026, 0.425, 'entropy = 0.0\\nsamples = 2\\nvalue = [0, 0, 0, 2, 0, 0]'),\n",
       " Text(0.03076923076923077, 0.575, 'entropy = 0.0\\nsamples = 2\\nvalue = [0, 0, 0, 0, 2, 0]'),\n",
       " Text(0.035897435897435895, 0.625, 'entropy = 0.0\\nsamples = 1\\nvalue = [0, 0, 0, 0, 0, 1]'),\n",
       " Text(0.041025641025641026, 0.675, 'entropy = 0.0\\nsamples = 14\\nvalue = [0, 0, 0, 14, 0, 0]'),\n",
       " Text(0.046153846153846156, 0.725, 'entropy = 0.0\\nsamples = 1\\nvalue = [0, 0, 1, 0, 0, 0]'),\n",
       " Text(0.05641025641025641, 0.825, 'X[9] <= 0.995\\nentropy = 0.722\\nsamples = 5\\nvalue = [0, 0, 4, 0, 1, 0]'),\n",
       " Text(0.05128205128205128, 0.775, 'entropy = 0.0\\nsamples = 4\\nvalue = [0, 0, 4, 0, 0, 0]'),\n",
       " Text(0.06153846153846154, 0.775, 'entropy = 0.0\\nsamples = 1\\nvalue = [0, 0, 0, 0, 1, 0]'),\n",
       " Text(0.3200721153846154, 0.875, 'X[6] <= 52.5\\nentropy = 1.218\\nsamples = 404\\nvalue = [6, 15, 274, 105, 4, 0]'),\n",
       " Text(0.20232371794871795, 0.825, 'X[1] <= 0.572\\nentropy = 1.485\\nsamples = 219\\nvalue = [6, 13, 123, 73, 4, 0]'),\n",
       " Text(0.11217948717948718, 0.775, 'X[9] <= 0.585\\nentropy = 1.356\\nsamples = 103\\nvalue = [0, 4, 46, 50, 3, 0]'),\n",
       " Text(0.08846153846153847, 0.725, 'X[9] <= 0.475\\nentropy = 1.318\\nsamples = 40\\nvalue = [0, 4, 23, 13, 0, 0]'),\n",
       " Text(0.08333333333333333, 0.675, 'entropy = 0.0\\nsamples = 9\\nvalue = [0, 0, 9, 0, 0, 0]'),\n",
       " Text(0.09358974358974359, 0.675, 'X[9] <= 0.565\\nentropy = 1.425\\nsamples = 31\\nvalue = [0, 4, 14, 13, 0, 0]'),\n",
       " Text(0.07948717948717948, 0.625, 'X[3] <= 1.95\\nentropy = 1.382\\nsamples = 24\\nvalue = [0, 3, 8, 13, 0, 0]'),\n",
       " Text(0.06666666666666667, 0.575, 'X[10] <= 9.75\\nentropy = 1.281\\nsamples = 12\\nvalue = [0, 1, 7, 4, 0, 0]'),\n",
       " Text(0.06153846153846154, 0.525, 'X[5] <= 16.5\\nentropy = 0.986\\nsamples = 9\\nvalue = [0, 1, 7, 1, 0, 0]'),\n",
       " Text(0.05641025641025641, 0.475, 'X[4] <= 0.089\\nentropy = 0.544\\nsamples = 8\\nvalue = [0, 0, 7, 1, 0, 0]'),\n",
       " Text(0.05128205128205128, 0.425, 'entropy = 0.0\\nsamples = 6\\nvalue = [0, 0, 6, 0, 0, 0]'),\n",
       " Text(0.06153846153846154, 0.425, 'X[0] <= 7.8\\nentropy = 1.0\\nsamples = 2\\nvalue = [0, 0, 1, 1, 0, 0]'),\n",
       " Text(0.05641025641025641, 0.375, 'entropy = 0.0\\nsamples = 1\\nvalue = [0, 0, 0, 1, 0, 0]'),\n",
       " Text(0.06666666666666667, 0.375, 'entropy = 0.0\\nsamples = 1\\nvalue = [0, 0, 1, 0, 0, 0]'),\n",
       " Text(0.06666666666666667, 0.475, 'entropy = 0.0\\nsamples = 1\\nvalue = [0, 1, 0, 0, 0, 0]'),\n",
       " Text(0.07179487179487179, 0.525, 'entropy = 0.0\\nsamples = 3\\nvalue = [0, 0, 0, 3, 0, 0]'),\n",
       " Text(0.09230769230769231, 0.575, 'X[4] <= 0.069\\nentropy = 1.041\\nsamples = 12\\nvalue = [0, 2, 1, 9, 0, 0]'),\n",
       " Text(0.08205128205128205, 0.525, 'X[9] <= 0.535\\nentropy = 1.0\\nsamples = 2\\nvalue = [0, 1, 1, 0, 0, 0]'),\n",
       " Text(0.07692307692307693, 0.475, 'entropy = 0.0\\nsamples = 1\\nvalue = [0, 0, 1, 0, 0, 0]'),\n",
       " Text(0.08717948717948718, 0.475, 'entropy = 0.0\\nsamples = 1\\nvalue = [0, 1, 0, 0, 0, 0]'),\n",
       " Text(0.10256410256410256, 0.525, 'X[6] <= 14.5\\nentropy = 0.469\\nsamples = 10\\nvalue = [0, 1, 0, 9, 0, 0]'),\n",
       " Text(0.09743589743589744, 0.475, 'entropy = 0.0\\nsamples = 1\\nvalue = [0, 1, 0, 0, 0, 0]'),\n",
       " Text(0.1076923076923077, 0.475, 'entropy = 0.0\\nsamples = 9\\nvalue = [0, 0, 0, 9, 0, 0]'),\n",
       " Text(0.1076923076923077, 0.625, 'X[3] <= 4.0\\nentropy = 0.592\\nsamples = 7\\nvalue = [0, 1, 6, 0, 0, 0]'),\n",
       " Text(0.10256410256410256, 0.575, 'entropy = 0.0\\nsamples = 6\\nvalue = [0, 0, 6, 0, 0, 0]'),\n",
       " Text(0.11282051282051282, 0.575, 'entropy = 0.0\\nsamples = 1\\nvalue = [0, 1, 0, 0, 0, 0]'),\n",
       " Text(0.1358974358974359, 0.725, 'X[7] <= 0.996\\nentropy = 1.191\\nsamples = 63\\nvalue = [0, 0, 23, 37, 3, 0]'),\n",
       " Text(0.12307692307692308, 0.675, 'X[1] <= 0.425\\nentropy = 0.65\\nsamples = 6\\nvalue = [0, 0, 0, 5, 1, 0]'),\n",
       " Text(0.11794871794871795, 0.625, 'entropy = 0.0\\nsamples = 1\\nvalue = [0, 0, 0, 0, 1, 0]'),\n",
       " Text(0.1282051282051282, 0.625, 'entropy = 0.0\\nsamples = 5\\nvalue = [0, 0, 0, 5, 0, 0]'),\n",
       " Text(0.14871794871794872, 0.675, 'X[6] <= 43.5\\nentropy = 1.165\\nsamples = 57\\nvalue = [0, 0, 23, 32, 2, 0]'),\n",
       " Text(0.13846153846153847, 0.625, 'X[4] <= 0.168\\nentropy = 0.998\\nsamples = 42\\nvalue = [0, 0, 20, 22, 0, 0]'),\n",
       " Text(0.13333333333333333, 0.575, 'X[4] <= 0.094\\nentropy = 0.991\\nsamples = 36\\nvalue = [0, 0, 20, 16, 0, 0]'),\n",
       " Text(0.1282051282051282, 0.525, 'X[6] <= 41.0\\nentropy = 0.985\\nsamples = 28\\nvalue = [0, 0, 12, 16, 0, 0]'),\n",
       " Text(0.12307692307692308, 0.475, 'X[7] <= 0.997\\nentropy = 0.943\\nsamples = 25\\nvalue = [0, 0, 9, 16, 0, 0]'),\n",
       " Text(0.11282051282051282, 0.425, 'X[2] <= 0.01\\nentropy = 0.863\\nsamples = 7\\nvalue = [0, 0, 5, 2, 0, 0]'),\n",
       " Text(0.1076923076923077, 0.375, 'entropy = 0.0\\nsamples = 2\\nvalue = [0, 0, 0, 2, 0, 0]'),\n",
       " Text(0.11794871794871795, 0.375, 'entropy = 0.0\\nsamples = 5\\nvalue = [0, 0, 5, 0, 0, 0]'),\n",
       " Text(0.13333333333333333, 0.425, 'X[9] <= 0.635\\nentropy = 0.764\\nsamples = 18\\nvalue = [0, 0, 4, 14, 0, 0]'),\n",
       " Text(0.1282051282051282, 0.375, 'entropy = 0.0\\nsamples = 6\\nvalue = [0, 0, 0, 6, 0, 0]'),\n",
       " Text(0.13846153846153847, 0.375, 'X[9] <= 0.645\\nentropy = 0.918\\nsamples = 12\\nvalue = [0, 0, 4, 8, 0, 0]'),\n",
       " Text(0.13333333333333333, 0.325, 'entropy = 0.0\\nsamples = 2\\nvalue = [0, 0, 2, 0, 0, 0]'),\n",
       " Text(0.14358974358974358, 0.325, 'X[3] <= 2.15\\nentropy = 0.722\\nsamples = 10\\nvalue = [0, 0, 2, 8, 0, 0]'),\n",
       " Text(0.13846153846153847, 0.275, 'entropy = 0.0\\nsamples = 6\\nvalue = [0, 0, 0, 6, 0, 0]'),\n",
       " Text(0.14871794871794872, 0.275, 'X[0] <= 11.75\\nentropy = 1.0\\nsamples = 4\\nvalue = [0, 0, 2, 2, 0, 0]'),\n",
       " Text(0.14358974358974358, 0.225, 'entropy = 0.0\\nsamples = 2\\nvalue = [0, 0, 2, 0, 0, 0]'),\n",
       " Text(0.15384615384615385, 0.225, 'entropy = 0.0\\nsamples = 2\\nvalue = [0, 0, 0, 2, 0, 0]'),\n",
       " Text(0.13333333333333333, 0.475, 'entropy = 0.0\\nsamples = 3\\nvalue = [0, 0, 3, 0, 0, 0]'),\n",
       " Text(0.13846153846153847, 0.525, 'entropy = 0.0\\nsamples = 8\\nvalue = [0, 0, 8, 0, 0, 0]'),\n",
       " Text(0.14358974358974358, 0.575, 'entropy = 0.0\\nsamples = 6\\nvalue = [0, 0, 0, 6, 0, 0]'),\n",
       " Text(0.15897435897435896, 0.625, 'X[2] <= 0.325\\nentropy = 1.242\\nsamples = 15\\nvalue = [0, 0, 3, 10, 2, 0]'),\n",
       " Text(0.15384615384615385, 0.575, 'entropy = 0.0\\nsamples = 10\\nvalue = [0, 0, 0, 10, 0, 0]'),\n",
       " Text(0.1641025641025641, 0.575, 'X[1] <= 0.422\\nentropy = 0.971\\nsamples = 5\\nvalue = [0, 0, 3, 0, 2, 0]'),\n",
       " Text(0.15897435897435896, 0.525, 'entropy = 0.0\\nsamples = 3\\nvalue = [0, 0, 3, 0, 0, 0]'),\n",
       " Text(0.16923076923076924, 0.525, 'entropy = 0.0\\nsamples = 2\\nvalue = [0, 0, 0, 0, 2, 0]'),\n",
       " Text(0.29246794871794873, 0.775, 'X[4] <= 0.193\\nentropy = 1.422\\nsamples = 116\\nvalue = [6, 9, 77, 23, 1, 0]'),\n",
       " Text(0.2657051282051282, 0.725, 'X[3] <= 2.15\\nentropy = 1.358\\nsamples = 113\\nvalue = [4, 9, 77, 22, 1, 0]'),\n",
       " Text(0.22756410256410256, 0.675, 'X[1] <= 0.712\\nentropy = 1.524\\nsamples = 68\\nvalue = [2, 9, 42, 14, 1, 0]'),\n",
       " Text(0.1987179487179487, 0.625, 'X[7] <= 0.996\\nentropy = 1.415\\nsamples = 49\\nvalue = [0, 5, 29, 14, 1, 0]'),\n",
       " Text(0.18461538461538463, 0.575, 'X[0] <= 5.75\\nentropy = 0.439\\nsamples = 11\\nvalue = [0, 1, 10, 0, 0, 0]'),\n",
       " Text(0.1794871794871795, 0.525, 'entropy = 0.0\\nsamples = 1\\nvalue = [0, 1, 0, 0, 0, 0]'),\n",
       " Text(0.18974358974358974, 0.525, 'entropy = 0.0\\nsamples = 10\\nvalue = [0, 0, 10, 0, 0, 0]'),\n",
       " Text(0.2128205128205128, 0.575, 'X[8] <= 3.355\\nentropy = 1.511\\nsamples = 38\\nvalue = [0, 4, 19, 14, 1, 0]'),\n",
       " Text(0.2, 0.525, 'X[3] <= 2.05\\nentropy = 1.493\\nsamples = 14\\nvalue = [0, 4, 3, 7, 0, 0]'),\n",
       " Text(0.19487179487179487, 0.475, 'X[3] <= 1.45\\nentropy = 1.241\\nsamples = 11\\nvalue = [0, 1, 3, 7, 0, 0]'),\n",
       " Text(0.18974358974358974, 0.425, 'entropy = 0.0\\nsamples = 1\\nvalue = [0, 1, 0, 0, 0, 0]'),\n",
       " Text(0.2, 0.425, 'X[7] <= 0.997\\nentropy = 0.881\\nsamples = 10\\nvalue = [0, 0, 3, 7, 0, 0]'),\n",
       " Text(0.19487179487179487, 0.375, 'entropy = 0.0\\nsamples = 4\\nvalue = [0, 0, 0, 4, 0, 0]'),\n",
       " Text(0.20512820512820512, 0.375, 'X[7] <= 0.998\\nentropy = 1.0\\nsamples = 6\\nvalue = [0, 0, 3, 3, 0, 0]'),\n",
       " Text(0.2, 0.325, 'X[1] <= 0.68\\nentropy = 0.811\\nsamples = 4\\nvalue = [0, 0, 3, 1, 0, 0]'),\n",
       " Text(0.19487179487179487, 0.275, 'entropy = 0.0\\nsamples = 3\\nvalue = [0, 0, 3, 0, 0, 0]'),\n",
       " Text(0.20512820512820512, 0.275, 'entropy = 0.0\\nsamples = 1\\nvalue = [0, 0, 0, 1, 0, 0]'),\n",
       " Text(0.21025641025641026, 0.325, 'entropy = 0.0\\nsamples = 2\\nvalue = [0, 0, 0, 2, 0, 0]'),\n",
       " Text(0.20512820512820512, 0.475, 'entropy = 0.0\\nsamples = 3\\nvalue = [0, 3, 0, 0, 0, 0]'),\n",
       " Text(0.22564102564102564, 0.525, 'X[9] <= 0.575\\nentropy = 1.099\\nsamples = 24\\nvalue = [0, 0, 16, 7, 1, 0]'),\n",
       " Text(0.2153846153846154, 0.475, 'X[3] <= 1.95\\nentropy = 0.544\\nsamples = 8\\nvalue = [0, 0, 7, 0, 1, 0]'),\n",
       " Text(0.21025641025641026, 0.425, 'entropy = 0.0\\nsamples = 7\\nvalue = [0, 0, 7, 0, 0, 0]'),\n",
       " Text(0.2205128205128205, 0.425, 'entropy = 0.0\\nsamples = 1\\nvalue = [0, 0, 0, 0, 1, 0]'),\n",
       " Text(0.2358974358974359, 0.475, 'X[0] <= 6.95\\nentropy = 0.989\\nsamples = 16\\nvalue = [0, 0, 9, 7, 0, 0]'),\n",
       " Text(0.23076923076923078, 0.425, 'entropy = 0.0\\nsamples = 6\\nvalue = [0, 0, 6, 0, 0, 0]'),\n",
       " Text(0.24102564102564103, 0.425, 'X[7] <= 0.997\\nentropy = 0.881\\nsamples = 10\\nvalue = [0, 0, 3, 7, 0, 0]'),\n",
       " Text(0.2358974358974359, 0.375, 'X[6] <= 29.0\\nentropy = 0.544\\nsamples = 8\\nvalue = [0, 0, 1, 7, 0, 0]'),\n",
       " Text(0.23076923076923078, 0.325, 'X[0] <= 7.05\\nentropy = 0.918\\nsamples = 3\\nvalue = [0, 0, 1, 2, 0, 0]'),\n",
       " Text(0.22564102564102564, 0.275, 'entropy = 0.0\\nsamples = 2\\nvalue = [0, 0, 0, 2, 0, 0]'),\n",
       " Text(0.2358974358974359, 0.275, 'entropy = 0.0\\nsamples = 1\\nvalue = [0, 0, 1, 0, 0, 0]'),\n",
       " Text(0.24102564102564103, 0.325, 'entropy = 0.0\\nsamples = 5\\nvalue = [0, 0, 0, 5, 0, 0]'),\n",
       " Text(0.24615384615384617, 0.375, 'entropy = 0.0\\nsamples = 2\\nvalue = [0, 0, 2, 0, 0, 0]'),\n",
       " Text(0.2564102564102564, 0.625, 'X[9] <= 0.545\\nentropy = 1.19\\nsamples = 19\\nvalue = [2, 4, 13, 0, 0, 0]'),\n",
       " Text(0.24615384615384617, 0.575, 'X[3] <= 1.65\\nentropy = 0.946\\nsamples = 11\\nvalue = [0, 4, 7, 0, 0, 0]'),\n",
       " Text(0.24102564102564103, 0.525, 'entropy = 0.0\\nsamples = 2\\nvalue = [0, 2, 0, 0, 0, 0]'),\n",
       " Text(0.2512820512820513, 0.525, 'X[1] <= 0.86\\nentropy = 0.764\\nsamples = 9\\nvalue = [0, 2, 7, 0, 0, 0]'),\n",
       " Text(0.24615384615384617, 0.475, 'entropy = 0.0\\nsamples = 6\\nvalue = [0, 0, 6, 0, 0, 0]'),\n",
       " Text(0.2564102564102564, 0.475, 'X[0] <= 7.8\\nentropy = 0.918\\nsamples = 3\\nvalue = [0, 2, 1, 0, 0, 0]'),\n",
       " Text(0.2512820512820513, 0.425, 'entropy = 0.0\\nsamples = 1\\nvalue = [0, 0, 1, 0, 0, 0]'),\n",
       " Text(0.26153846153846155, 0.425, 'entropy = 0.0\\nsamples = 2\\nvalue = [0, 2, 0, 0, 0, 0]'),\n",
       " Text(0.26666666666666666, 0.575, 'X[8] <= 3.3\\nentropy = 0.811\\nsamples = 8\\nvalue = [2, 0, 6, 0, 0, 0]'),\n",
       " Text(0.26153846153846155, 0.525, 'entropy = 0.0\\nsamples = 5\\nvalue = [0, 0, 5, 0, 0, 0]'),\n",
       " Text(0.2717948717948718, 0.525, 'X[8] <= 3.585\\nentropy = 0.918\\nsamples = 3\\nvalue = [2, 0, 1, 0, 0, 0]'),\n",
       " Text(0.26666666666666666, 0.475, 'entropy = 0.0\\nsamples = 2\\nvalue = [2, 0, 0, 0, 0, 0]'),\n",
       " Text(0.27692307692307694, 0.475, 'entropy = 0.0\\nsamples = 1\\nvalue = [0, 0, 1, 0, 0, 0]'),\n",
       " Text(0.3038461538461538, 0.675, 'X[7] <= 0.998\\nentropy = 0.925\\nsamples = 45\\nvalue = [2, 0, 35, 8, 0, 0]'),\n",
       " Text(0.28205128205128205, 0.625, 'X[1] <= 0.95\\nentropy = 0.391\\nsamples = 26\\nvalue = [0, 0, 24, 2, 0, 0]'),\n",
       " Text(0.27692307692307694, 0.575, 'entropy = 0.0\\nsamples = 23\\nvalue = [0, 0, 23, 0, 0, 0]'),\n",
       " Text(0.28717948717948716, 0.575, 'X[8] <= 3.375\\nentropy = 0.918\\nsamples = 3\\nvalue = [0, 0, 1, 2, 0, 0]'),\n",
       " Text(0.28205128205128205, 0.525, 'entropy = 0.0\\nsamples = 2\\nvalue = [0, 0, 0, 2, 0, 0]'),\n",
       " Text(0.2923076923076923, 0.525, 'entropy = 0.0\\nsamples = 1\\nvalue = [0, 0, 1, 0, 0, 0]'),\n",
       " Text(0.32564102564102565, 0.625, 'X[9] <= 0.695\\nentropy = 1.324\\nsamples = 19\\nvalue = [2, 0, 11, 6, 0, 0]'),\n",
       " Text(0.3128205128205128, 0.575, 'X[4] <= 0.083\\nentropy = 1.149\\nsamples = 14\\nvalue = [2, 0, 10, 2, 0, 0]'),\n",
       " Text(0.30256410256410254, 0.525, 'X[8] <= 3.205\\nentropy = 0.971\\nsamples = 5\\nvalue = [2, 0, 3, 0, 0, 0]'),\n",
       " Text(0.29743589743589743, 0.475, 'entropy = 0.0\\nsamples = 3\\nvalue = [0, 0, 3, 0, 0, 0]'),\n",
       " Text(0.3076923076923077, 0.475, 'entropy = 0.0\\nsamples = 2\\nvalue = [2, 0, 0, 0, 0, 0]'),\n",
       " Text(0.3230769230769231, 0.525, 'X[7] <= 0.999\\nentropy = 0.764\\nsamples = 9\\nvalue = [0, 0, 7, 2, 0, 0]'),\n",
       " Text(0.31794871794871793, 0.475, 'entropy = 0.0\\nsamples = 5\\nvalue = [0, 0, 5, 0, 0, 0]'),\n",
       " Text(0.3282051282051282, 0.475, 'X[4] <= 0.094\\nentropy = 1.0\\nsamples = 4\\nvalue = [0, 0, 2, 2, 0, 0]'),\n",
       " Text(0.3230769230769231, 0.425, 'entropy = 0.0\\nsamples = 2\\nvalue = [0, 0, 0, 2, 0, 0]'),\n",
       " Text(0.3333333333333333, 0.425, 'entropy = 0.0\\nsamples = 2\\nvalue = [0, 0, 2, 0, 0, 0]'),\n",
       " Text(0.3384615384615385, 0.575, 'X[1] <= 0.695\\nentropy = 0.722\\nsamples = 5\\nvalue = [0, 0, 1, 4, 0, 0]'),\n",
       " Text(0.3333333333333333, 0.525, 'entropy = 0.0\\nsamples = 4\\nvalue = [0, 0, 0, 4, 0, 0]'),\n",
       " Text(0.3435897435897436, 0.525, 'entropy = 0.0\\nsamples = 1\\nvalue = [0, 0, 1, 0, 0, 0]'),\n",
       " Text(0.3192307692307692, 0.725, 'X[6] <= 15.5\\nentropy = 0.918\\nsamples = 3\\nvalue = [2, 0, 0, 1, 0, 0]'),\n",
       " Text(0.3141025641025641, 0.675, 'entropy = 0.0\\nsamples = 1\\nvalue = [0, 0, 0, 1, 0, 0]'),\n",
       " Text(0.3243589743589744, 0.675, 'entropy = 0.0\\nsamples = 2\\nvalue = [2, 0, 0, 0, 0, 0]'),\n",
       " Text(0.4378205128205128, 0.825, 'X[6] <= 114.5\\nentropy = 0.748\\nsamples = 185\\nvalue = [0, 2, 151, 32, 0, 0]'),\n",
       " Text(0.4326923076923077, 0.775, 'X[9] <= 1.32\\nentropy = 0.839\\nsamples = 152\\nvalue = [0, 2, 118, 32, 0, 0]'),\n",
       " Text(0.40897435897435896, 0.725, 'X[4] <= 0.097\\nentropy = 0.791\\nsamples = 150\\nvalue = [0, 1, 118, 31, 0, 0]'),\n",
       " Text(0.3769230769230769, 0.675, 'X[2] <= 0.115\\nentropy = 0.895\\nsamples = 112\\nvalue = [0, 1, 82, 29, 0, 0]'),\n",
       " Text(0.35384615384615387, 0.625, 'X[8] <= 3.545\\nentropy = 0.258\\nsamples = 23\\nvalue = [0, 0, 22, 1, 0, 0]'),\n",
       " Text(0.3487179487179487, 0.575, 'entropy = 0.0\\nsamples = 21\\nvalue = [0, 0, 21, 0, 0, 0]'),\n",
       " Text(0.358974358974359, 0.575, 'X[8] <= 3.56\\nentropy = 1.0\\nsamples = 2\\nvalue = [0, 0, 1, 1, 0, 0]'),\n",
       " Text(0.35384615384615387, 0.525, 'entropy = 0.0\\nsamples = 1\\nvalue = [0, 0, 0, 1, 0, 0]'),\n",
       " Text(0.3641025641025641, 0.525, 'entropy = 0.0\\nsamples = 1\\nvalue = [0, 0, 1, 0, 0, 0]'),\n",
       " Text(0.4, 0.625, 'X[4] <= 0.09\\nentropy = 0.981\\nsamples = 89\\nvalue = [0, 1, 60, 28, 0, 0]'),\n",
       " Text(0.37948717948717947, 0.575, 'X[4] <= 0.083\\nentropy = 0.833\\nsamples = 72\\nvalue = [0, 0, 53, 19, 0, 0]'),\n",
       " Text(0.37435897435897436, 0.525, 'X[0] <= 8.25\\nentropy = 0.907\\nsamples = 59\\nvalue = [0, 0, 40, 19, 0, 0]'),\n",
       " Text(0.358974358974359, 0.475, 'X[10] <= 9.225\\nentropy = 0.976\\nsamples = 44\\nvalue = [0, 0, 26, 18, 0, 0]'),\n",
       " Text(0.35384615384615387, 0.425, 'entropy = 0.0\\nsamples = 6\\nvalue = [0, 0, 6, 0, 0, 0]'),\n",
       " Text(0.3641025641025641, 0.425, 'X[10] <= 10.05\\nentropy = 0.998\\nsamples = 38\\nvalue = [0, 0, 20, 18, 0, 0]'),\n",
       " Text(0.358974358974359, 0.375, 'X[0] <= 7.85\\nentropy = 0.994\\nsamples = 33\\nvalue = [0, 0, 15, 18, 0, 0]'),\n",
       " Text(0.35384615384615387, 0.325, 'X[3] <= 2.45\\nentropy = 0.983\\nsamples = 26\\nvalue = [0, 0, 15, 11, 0, 0]'),\n",
       " Text(0.3487179487179487, 0.275, 'X[9] <= 0.535\\nentropy = 0.932\\nsamples = 23\\nvalue = [0, 0, 15, 8, 0, 0]'),\n",
       " Text(0.3435897435897436, 0.225, 'entropy = 0.0\\nsamples = 6\\nvalue = [0, 0, 6, 0, 0, 0]'),\n",
       " Text(0.35384615384615387, 0.225, 'X[4] <= 0.078\\nentropy = 0.998\\nsamples = 17\\nvalue = [0, 0, 9, 8, 0, 0]'),\n",
       " Text(0.3435897435897436, 0.175, 'X[8] <= 3.27\\nentropy = 0.592\\nsamples = 7\\nvalue = [0, 0, 6, 1, 0, 0]'),\n",
       " Text(0.3384615384615385, 0.125, 'entropy = 0.0\\nsamples = 1\\nvalue = [0, 0, 0, 1, 0, 0]'),\n",
       " Text(0.3487179487179487, 0.125, 'entropy = 0.0\\nsamples = 6\\nvalue = [0, 0, 6, 0, 0, 0]'),\n",
       " Text(0.3641025641025641, 0.175, 'X[0] <= 7.45\\nentropy = 0.881\\nsamples = 10\\nvalue = [0, 0, 3, 7, 0, 0]'),\n",
       " Text(0.358974358974359, 0.125, 'entropy = 0.0\\nsamples = 4\\nvalue = [0, 0, 0, 4, 0, 0]'),\n",
       " Text(0.36923076923076925, 0.125, 'X[6] <= 68.5\\nentropy = 1.0\\nsamples = 6\\nvalue = [0, 0, 3, 3, 0, 0]'),\n",
       " Text(0.3641025641025641, 0.075, 'X[0] <= 7.55\\nentropy = 0.811\\nsamples = 4\\nvalue = [0, 0, 1, 3, 0, 0]'),\n",
       " Text(0.358974358974359, 0.025, 'entropy = 0.0\\nsamples = 1\\nvalue = [0, 0, 1, 0, 0, 0]'),\n",
       " Text(0.36923076923076925, 0.025, 'entropy = 0.0\\nsamples = 3\\nvalue = [0, 0, 0, 3, 0, 0]'),\n",
       " Text(0.37435897435897436, 0.075, 'entropy = 0.0\\nsamples = 2\\nvalue = [0, 0, 2, 0, 0, 0]'),\n",
       " Text(0.358974358974359, 0.275, 'entropy = 0.0\\nsamples = 3\\nvalue = [0, 0, 0, 3, 0, 0]'),\n",
       " Text(0.3641025641025641, 0.325, 'entropy = 0.0\\nsamples = 7\\nvalue = [0, 0, 0, 7, 0, 0]'),\n",
       " Text(0.36923076923076925, 0.375, 'entropy = 0.0\\nsamples = 5\\nvalue = [0, 0, 5, 0, 0, 0]'),\n",
       " Text(0.38974358974358975, 0.475, 'X[8] <= 3.115\\nentropy = 0.353\\nsamples = 15\\nvalue = [0, 0, 14, 1, 0, 0]'),\n",
       " Text(0.38461538461538464, 0.425, 'X[4] <= 0.078\\nentropy = 1.0\\nsamples = 2\\nvalue = [0, 0, 1, 1, 0, 0]'),\n",
       " Text(0.37948717948717947, 0.375, 'entropy = 0.0\\nsamples = 1\\nvalue = [0, 0, 0, 1, 0, 0]'),\n",
       " Text(0.38974358974358975, 0.375, 'entropy = 0.0\\nsamples = 1\\nvalue = [0, 0, 1, 0, 0, 0]'),\n",
       " Text(0.39487179487179486, 0.425, 'entropy = 0.0\\nsamples = 13\\nvalue = [0, 0, 13, 0, 0, 0]'),\n",
       " Text(0.38461538461538464, 0.525, 'entropy = 0.0\\nsamples = 13\\nvalue = [0, 0, 13, 0, 0, 0]'),\n",
       " Text(0.4205128205128205, 0.575, 'X[9] <= 0.615\\nentropy = 1.253\\nsamples = 17\\nvalue = [0, 1, 7, 9, 0, 0]'),\n",
       " Text(0.4153846153846154, 0.525, 'X[3] <= 3.5\\nentropy = 1.157\\nsamples = 10\\nvalue = [0, 1, 7, 2, 0, 0]'),\n",
       " Text(0.41025641025641024, 0.475, 'X[3] <= 2.35\\nentropy = 0.544\\nsamples = 8\\nvalue = [0, 1, 7, 0, 0, 0]'),\n",
       " Text(0.40512820512820513, 0.425, 'X[4] <= 0.093\\nentropy = 1.0\\nsamples = 2\\nvalue = [0, 1, 1, 0, 0, 0]'),\n",
       " Text(0.4, 0.375, 'entropy = 0.0\\nsamples = 1\\nvalue = [0, 0, 1, 0, 0, 0]'),\n",
       " Text(0.41025641025641024, 0.375, 'entropy = 0.0\\nsamples = 1\\nvalue = [0, 1, 0, 0, 0, 0]'),\n",
       " Text(0.4153846153846154, 0.425, 'entropy = 0.0\\nsamples = 6\\nvalue = [0, 0, 6, 0, 0, 0]'),\n",
       " Text(0.4205128205128205, 0.475, 'entropy = 0.0\\nsamples = 2\\nvalue = [0, 0, 0, 2, 0, 0]'),\n",
       " Text(0.4256410256410256, 0.525, 'entropy = 0.0\\nsamples = 7\\nvalue = [0, 0, 0, 7, 0, 0]'),\n",
       " Text(0.441025641025641, 0.675, 'X[3] <= 11.75\\nentropy = 0.297\\nsamples = 38\\nvalue = [0, 0, 36, 2, 0, 0]'),\n",
       " Text(0.4358974358974359, 0.625, 'X[7] <= 0.996\\nentropy = 0.179\\nsamples = 37\\nvalue = [0, 0, 36, 1, 0, 0]'),\n",
       " Text(0.4307692307692308, 0.575, 'entropy = 0.0\\nsamples = 1\\nvalue = [0, 0, 0, 1, 0, 0]'),\n",
       " Text(0.441025641025641, 0.575, 'entropy = 0.0\\nsamples = 36\\nvalue = [0, 0, 36, 0, 0, 0]'),\n",
       " Text(0.4461538461538462, 0.625, 'entropy = 0.0\\nsamples = 1\\nvalue = [0, 0, 0, 1, 0, 0]'),\n",
       " Text(0.4564102564102564, 0.725, 'X[4] <= 0.512\\nentropy = 1.0\\nsamples = 2\\nvalue = [0, 1, 0, 1, 0, 0]'),\n",
       " Text(0.4512820512820513, 0.675, 'entropy = 0.0\\nsamples = 1\\nvalue = [0, 0, 0, 1, 0, 0]'),\n",
       " Text(0.46153846153846156, 0.675, 'entropy = 0.0\\nsamples = 1\\nvalue = [0, 1, 0, 0, 0, 0]'),\n",
       " Text(0.44294871794871793, 0.775, 'entropy = 0.0\\nsamples = 33\\nvalue = [0, 0, 33, 0, 0, 0]'),\n",
       " Text(0.7234775641025641, 0.925, 'X[9] <= 0.625\\nentropy = 1.79\\nsamples = 369\\nvalue = [1, 16, 78, 183, 84, 7]'),\n",
       " Text(0.6089743589743589, 0.875, 'X[1] <= 1.015\\nentropy = 1.682\\nsamples = 160\\nvalue = [1, 15, 50, 81, 13, 0]'),\n",
       " Text(0.5717948717948718, 0.825, 'X[3] <= 3.85\\nentropy = 1.586\\nsamples = 154\\nvalue = [0, 11, 49, 81, 13, 0]'),\n",
       " Text(0.5205128205128206, 0.775, 'X[1] <= 0.385\\nentropy = 1.446\\nsamples = 138\\nvalue = [0, 6, 45, 78, 9, 0]'),\n",
       " Text(0.48205128205128206, 0.725, 'X[9] <= 0.585\\nentropy = 1.27\\nsamples = 35\\nvalue = [0, 0, 6, 23, 6, 0]'),\n",
       " Text(0.4717948717948718, 0.675, 'X[7] <= 0.994\\nentropy = 0.764\\nsamples = 25\\nvalue = [0, 0, 1, 21, 3, 0]'),\n",
       " Text(0.4666666666666667, 0.625, 'X[5] <= 7.5\\nentropy = 1.241\\nsamples = 11\\nvalue = [0, 0, 1, 7, 3, 0]'),\n",
       " Text(0.4564102564102564, 0.575, 'X[4] <= 0.064\\nentropy = 0.971\\nsamples = 5\\nvalue = [0, 0, 0, 2, 3, 0]'),\n",
       " Text(0.4512820512820513, 0.525, 'entropy = 0.0\\nsamples = 2\\nvalue = [0, 0, 0, 2, 0, 0]'),\n",
       " Text(0.46153846153846156, 0.525, 'entropy = 0.0\\nsamples = 3\\nvalue = [0, 0, 0, 0, 3, 0]'),\n",
       " Text(0.47692307692307695, 0.575, 'X[10] <= 11.7\\nentropy = 0.65\\nsamples = 6\\nvalue = [0, 0, 1, 5, 0, 0]'),\n",
       " Text(0.4717948717948718, 0.525, 'entropy = 0.0\\nsamples = 1\\nvalue = [0, 0, 1, 0, 0, 0]'),\n",
       " Text(0.48205128205128206, 0.525, 'entropy = 0.0\\nsamples = 5\\nvalue = [0, 0, 0, 5, 0, 0]'),\n",
       " Text(0.47692307692307695, 0.625, 'entropy = 0.0\\nsamples = 14\\nvalue = [0, 0, 0, 14, 0, 0]'),\n",
       " Text(0.49230769230769234, 0.675, 'X[7] <= 0.994\\nentropy = 1.485\\nsamples = 10\\nvalue = [0, 0, 5, 2, 3, 0]'),\n",
       " Text(0.48717948717948717, 0.625, 'entropy = 0.0\\nsamples = 3\\nvalue = [0, 0, 0, 0, 3, 0]'),\n",
       " Text(0.49743589743589745, 0.625, 'X[10] <= 10.75\\nentropy = 0.863\\nsamples = 7\\nvalue = [0, 0, 5, 2, 0, 0]'),\n",
       " Text(0.49230769230769234, 0.575, 'entropy = 0.0\\nsamples = 4\\nvalue = [0, 0, 4, 0, 0, 0]'),\n",
       " Text(0.5025641025641026, 0.575, 'X[2] <= 0.615\\nentropy = 0.918\\nsamples = 3\\nvalue = [0, 0, 1, 2, 0, 0]'),\n",
       " Text(0.49743589743589745, 0.525, 'entropy = 0.0\\nsamples = 2\\nvalue = [0, 0, 0, 2, 0, 0]'),\n",
       " Text(0.5076923076923077, 0.525, 'entropy = 0.0\\nsamples = 1\\nvalue = [0, 0, 1, 0, 0, 0]'),\n",
       " Text(0.558974358974359, 0.725, 'X[5] <= 8.5\\nentropy = 1.401\\nsamples = 103\\nvalue = [0, 6, 39, 55, 3, 0]'),\n",
       " Text(0.5384615384615384, 0.675, 'X[4] <= 0.087\\nentropy = 1.426\\nsamples = 36\\nvalue = [0, 5, 18, 13, 0, 0]'),\n",
       " Text(0.5282051282051282, 0.625, 'X[4] <= 0.08\\nentropy = 1.44\\nsamples = 29\\nvalue = [0, 4, 12, 13, 0, 0]'),\n",
       " Text(0.5230769230769231, 0.575, 'X[1] <= 0.722\\nentropy = 1.435\\nsamples = 22\\nvalue = [0, 4, 12, 6, 0, 0]'),\n",
       " Text(0.517948717948718, 0.525, 'X[9] <= 0.615\\nentropy = 1.371\\nsamples = 20\\nvalue = [0, 4, 12, 4, 0, 0]'),\n",
       " Text(0.5128205128205128, 0.475, 'X[3] <= 2.55\\nentropy = 1.224\\nsamples = 18\\nvalue = [0, 4, 12, 2, 0, 0]'),\n",
       " Text(0.5076923076923077, 0.425, 'X[0] <= 7.0\\nentropy = 1.459\\nsamples = 12\\nvalue = [0, 4, 6, 2, 0, 0]'),\n",
       " Text(0.49743589743589745, 0.375, 'X[8] <= 3.81\\nentropy = 1.061\\nsamples = 8\\nvalue = [0, 1, 6, 1, 0, 0]'),\n",
       " Text(0.49230769230769234, 0.325, 'X[7] <= 0.992\\nentropy = 0.592\\nsamples = 7\\nvalue = [0, 0, 6, 1, 0, 0]'),\n",
       " Text(0.48717948717948717, 0.275, 'entropy = 0.0\\nsamples = 1\\nvalue = [0, 0, 0, 1, 0, 0]'),\n",
       " Text(0.49743589743589745, 0.275, 'entropy = 0.0\\nsamples = 6\\nvalue = [0, 0, 6, 0, 0, 0]'),\n",
       " Text(0.5025641025641026, 0.325, 'entropy = 0.0\\nsamples = 1\\nvalue = [0, 1, 0, 0, 0, 0]'),\n",
       " Text(0.517948717948718, 0.375, 'X[4] <= 0.073\\nentropy = 0.811\\nsamples = 4\\nvalue = [0, 3, 0, 1, 0, 0]'),\n",
       " Text(0.5128205128205128, 0.325, 'entropy = 0.0\\nsamples = 3\\nvalue = [0, 3, 0, 0, 0, 0]'),\n",
       " Text(0.5230769230769231, 0.325, 'entropy = 0.0\\nsamples = 1\\nvalue = [0, 0, 0, 1, 0, 0]'),\n",
       " Text(0.517948717948718, 0.425, 'entropy = 0.0\\nsamples = 6\\nvalue = [0, 0, 6, 0, 0, 0]'),\n",
       " Text(0.5230769230769231, 0.475, 'entropy = 0.0\\nsamples = 2\\nvalue = [0, 0, 0, 2, 0, 0]'),\n",
       " Text(0.5282051282051282, 0.525, 'entropy = 0.0\\nsamples = 2\\nvalue = [0, 0, 0, 2, 0, 0]'),\n",
       " Text(0.5333333333333333, 0.575, 'entropy = 0.0\\nsamples = 7\\nvalue = [0, 0, 0, 7, 0, 0]'),\n",
       " Text(0.5487179487179488, 0.625, 'X[1] <= 0.395\\nentropy = 0.592\\nsamples = 7\\nvalue = [0, 1, 6, 0, 0, 0]'),\n",
       " Text(0.5435897435897435, 0.575, 'entropy = 0.0\\nsamples = 1\\nvalue = [0, 1, 0, 0, 0, 0]'),\n",
       " Text(0.5538461538461539, 0.575, 'entropy = 0.0\\nsamples = 6\\nvalue = [0, 0, 6, 0, 0, 0]'),\n",
       " Text(0.5794871794871795, 0.675, 'X[6] <= 18.5\\nentropy = 1.238\\nsamples = 67\\nvalue = [0, 1, 21, 42, 3, 0]'),\n",
       " Text(0.5692307692307692, 0.625, 'X[4] <= 0.084\\nentropy = 1.0\\nsamples = 4\\nvalue = [0, 0, 0, 2, 2, 0]'),\n",
       " Text(0.5641025641025641, 0.575, 'entropy = 0.0\\nsamples = 2\\nvalue = [0, 0, 0, 2, 0, 0]'),\n",
       " Text(0.5743589743589743, 0.575, 'entropy = 0.0\\nsamples = 2\\nvalue = [0, 0, 0, 0, 2, 0]'),\n",
       " Text(0.5897435897435898, 0.625, 'X[8] <= 3.575\\nentropy = 1.134\\nsamples = 63\\nvalue = [0, 1, 21, 40, 1, 0]'),\n",
       " Text(0.5846153846153846, 0.575, 'X[7] <= 0.998\\nentropy = 1.203\\nsamples = 54\\nvalue = [0, 1, 21, 31, 1, 0]'),\n",
       " Text(0.5794871794871795, 0.525, 'X[6] <= 43.5\\nentropy = 1.245\\nsamples = 48\\nvalue = [0, 1, 21, 25, 1, 0]'),\n",
       " Text(0.5641025641025641, 0.475, 'X[9] <= 0.615\\nentropy = 1.091\\nsamples = 29\\nvalue = [0, 0, 9, 19, 1, 0]'),\n",
       " Text(0.558974358974359, 0.425, 'X[4] <= 0.054\\nentropy = 0.906\\nsamples = 28\\nvalue = [0, 0, 9, 19, 0, 0]'),\n",
       " Text(0.5538461538461539, 0.375, 'entropy = 0.0\\nsamples = 3\\nvalue = [0, 0, 3, 0, 0, 0]'),\n",
       " Text(0.5641025641025641, 0.375, 'X[3] <= 2.25\\nentropy = 0.795\\nsamples = 25\\nvalue = [0, 0, 6, 19, 0, 0]'),\n",
       " Text(0.558974358974359, 0.325, 'entropy = 0.0\\nsamples = 12\\nvalue = [0, 0, 0, 12, 0, 0]'),\n",
       " Text(0.5692307692307692, 0.325, 'X[9] <= 0.565\\nentropy = 0.996\\nsamples = 13\\nvalue = [0, 0, 6, 7, 0, 0]'),\n",
       " Text(0.558974358974359, 0.275, 'X[1] <= 0.618\\nentropy = 0.65\\nsamples = 6\\nvalue = [0, 0, 5, 1, 0, 0]'),\n",
       " Text(0.5538461538461539, 0.225, 'entropy = 0.0\\nsamples = 5\\nvalue = [0, 0, 5, 0, 0, 0]'),\n",
       " Text(0.5641025641025641, 0.225, 'entropy = 0.0\\nsamples = 1\\nvalue = [0, 0, 0, 1, 0, 0]'),\n",
       " Text(0.5794871794871795, 0.275, 'X[4] <= 0.069\\nentropy = 0.592\\nsamples = 7\\nvalue = [0, 0, 1, 6, 0, 0]'),\n",
       " Text(0.5743589743589743, 0.225, 'entropy = 0.0\\nsamples = 1\\nvalue = [0, 0, 1, 0, 0, 0]'),\n",
       " Text(0.5846153846153846, 0.225, 'entropy = 0.0\\nsamples = 6\\nvalue = [0, 0, 0, 6, 0, 0]'),\n",
       " Text(0.5692307692307692, 0.425, 'entropy = 0.0\\nsamples = 1\\nvalue = [0, 0, 0, 0, 1, 0]'),\n",
       " Text(0.5948717948717949, 0.475, 'X[7] <= 0.995\\nentropy = 1.167\\nsamples = 19\\nvalue = [0, 1, 12, 6, 0, 0]'),\n",
       " Text(0.5846153846153846, 0.425, 'X[2] <= 0.045\\nentropy = 1.0\\nsamples = 12\\nvalue = [0, 0, 6, 6, 0, 0]'),\n",
       " Text(0.5794871794871795, 0.375, 'entropy = 0.0\\nsamples = 3\\nvalue = [0, 0, 3, 0, 0, 0]'),\n",
       " Text(0.5897435897435898, 0.375, 'X[9] <= 0.565\\nentropy = 0.918\\nsamples = 9\\nvalue = [0, 0, 3, 6, 0, 0]'),\n",
       " Text(0.5846153846153846, 0.325, 'entropy = 0.0\\nsamples = 3\\nvalue = [0, 0, 0, 3, 0, 0]'),\n",
       " Text(0.5948717948717949, 0.325, 'X[7] <= 0.993\\nentropy = 1.0\\nsamples = 6\\nvalue = [0, 0, 3, 3, 0, 0]'),\n",
       " Text(0.5897435897435898, 0.275, 'entropy = 0.0\\nsamples = 2\\nvalue = [0, 0, 0, 2, 0, 0]'),\n",
       " Text(0.6, 0.275, 'X[8] <= 3.27\\nentropy = 0.811\\nsamples = 4\\nvalue = [0, 0, 3, 1, 0, 0]'),\n",
       " Text(0.5948717948717949, 0.225, 'entropy = 0.0\\nsamples = 1\\nvalue = [0, 0, 0, 1, 0, 0]'),\n",
       " Text(0.6051282051282051, 0.225, 'entropy = 0.0\\nsamples = 3\\nvalue = [0, 0, 3, 0, 0, 0]'),\n",
       " Text(0.6051282051282051, 0.425, 'X[7] <= 0.997\\nentropy = 0.592\\nsamples = 7\\nvalue = [0, 1, 6, 0, 0, 0]'),\n",
       " Text(0.6, 0.375, 'entropy = 0.0\\nsamples = 5\\nvalue = [0, 0, 5, 0, 0, 0]'),\n",
       " Text(0.6102564102564103, 0.375, 'X[4] <= 0.094\\nentropy = 1.0\\nsamples = 2\\nvalue = [0, 1, 1, 0, 0, 0]'),\n",
       " Text(0.6051282051282051, 0.325, 'entropy = 0.0\\nsamples = 1\\nvalue = [0, 1, 0, 0, 0, 0]'),\n",
       " Text(0.6153846153846154, 0.325, 'entropy = 0.0\\nsamples = 1\\nvalue = [0, 0, 1, 0, 0, 0]'),\n",
       " Text(0.5897435897435898, 0.525, 'entropy = 0.0\\nsamples = 6\\nvalue = [0, 0, 0, 6, 0, 0]'),\n",
       " Text(0.5948717948717949, 0.575, 'entropy = 0.0\\nsamples = 9\\nvalue = [0, 0, 0, 9, 0, 0]'),\n",
       " Text(0.6230769230769231, 0.775, 'X[4] <= 0.069\\nentropy = 1.977\\nsamples = 16\\nvalue = [0, 5, 4, 3, 4, 0]'),\n",
       " Text(0.6102564102564103, 0.725, 'X[9] <= 0.575\\nentropy = 0.985\\nsamples = 7\\nvalue = [0, 4, 0, 0, 3, 0]'),\n",
       " Text(0.6051282051282051, 0.675, 'X[2] <= 0.54\\nentropy = 0.722\\nsamples = 5\\nvalue = [0, 4, 0, 0, 1, 0]'),\n",
       " Text(0.6, 0.625, 'entropy = 0.0\\nsamples = 4\\nvalue = [0, 4, 0, 0, 0, 0]'),\n",
       " Text(0.6102564102564103, 0.625, 'entropy = 0.0\\nsamples = 1\\nvalue = [0, 0, 0, 0, 1, 0]'),\n",
       " Text(0.6153846153846154, 0.675, 'entropy = 0.0\\nsamples = 2\\nvalue = [0, 0, 0, 0, 2, 0]'),\n",
       " Text(0.6358974358974359, 0.725, 'X[3] <= 4.5\\nentropy = 1.753\\nsamples = 9\\nvalue = [0, 1, 4, 3, 1, 0]'),\n",
       " Text(0.6256410256410256, 0.675, 'X[7] <= 0.996\\nentropy = 1.0\\nsamples = 2\\nvalue = [0, 1, 0, 0, 1, 0]'),\n",
       " Text(0.6205128205128205, 0.625, 'entropy = 0.0\\nsamples = 1\\nvalue = [0, 0, 0, 0, 1, 0]'),\n",
       " Text(0.6307692307692307, 0.625, 'entropy = 0.0\\nsamples = 1\\nvalue = [0, 1, 0, 0, 0, 0]'),\n",
       " Text(0.6461538461538462, 0.675, 'X[10] <= 10.9\\nentropy = 0.985\\nsamples = 7\\nvalue = [0, 0, 4, 3, 0, 0]'),\n",
       " Text(0.6410256410256411, 0.625, 'entropy = 0.0\\nsamples = 2\\nvalue = [0, 0, 0, 2, 0, 0]'),\n",
       " Text(0.6512820512820513, 0.625, 'X[10] <= 12.35\\nentropy = 0.722\\nsamples = 5\\nvalue = [0, 0, 4, 1, 0, 0]'),\n",
       " Text(0.6461538461538462, 0.575, 'entropy = 0.0\\nsamples = 4\\nvalue = [0, 0, 4, 0, 0, 0]'),\n",
       " Text(0.6564102564102564, 0.575, 'entropy = 0.0\\nsamples = 1\\nvalue = [0, 0, 0, 1, 0, 0]'),\n",
       " Text(0.6461538461538462, 0.825, 'X[1] <= 1.147\\nentropy = 1.252\\nsamples = 6\\nvalue = [1, 4, 1, 0, 0, 0]'),\n",
       " Text(0.6410256410256411, 0.775, 'entropy = 0.0\\nsamples = 4\\nvalue = [0, 4, 0, 0, 0, 0]'),\n",
       " Text(0.6512820512820513, 0.775, 'X[4] <= 0.09\\nentropy = 1.0\\nsamples = 2\\nvalue = [1, 0, 1, 0, 0, 0]'),\n",
       " Text(0.6461538461538462, 0.725, 'entropy = 0.0\\nsamples = 1\\nvalue = [0, 0, 1, 0, 0, 0]'),\n",
       " Text(0.6564102564102564, 0.725, 'entropy = 0.0\\nsamples = 1\\nvalue = [1, 0, 0, 0, 0, 0]'),\n",
       " Text(0.8379807692307693, 0.875, 'X[10] <= 11.55\\nentropy = 1.624\\nsamples = 209\\nvalue = [0, 1, 28, 102, 71, 7]'),\n",
       " Text(0.7201923076923077, 0.825, 'X[0] <= 6.95\\nentropy = 1.452\\nsamples = 121\\nvalue = [0, 1, 23, 70, 27, 0]'),\n",
       " Text(0.6717948717948717, 0.775, 'X[4] <= 0.119\\nentropy = 0.549\\nsamples = 21\\nvalue = [0, 1, 0, 19, 1, 0]'),\n",
       " Text(0.6666666666666666, 0.725, 'entropy = 0.0\\nsamples = 18\\nvalue = [0, 0, 0, 18, 0, 0]'),\n",
       " Text(0.676923076923077, 0.725, 'X[4] <= 0.122\\nentropy = 1.585\\nsamples = 3\\nvalue = [0, 1, 0, 1, 1, 0]'),\n",
       " Text(0.6717948717948717, 0.675, 'entropy = 0.0\\nsamples = 1\\nvalue = [0, 0, 0, 0, 1, 0]'),\n",
       " Text(0.6820512820512821, 0.675, 'X[3] <= 3.3\\nentropy = 1.0\\nsamples = 2\\nvalue = [0, 1, 0, 1, 0, 0]'),\n",
       " Text(0.676923076923077, 0.625, 'entropy = 0.0\\nsamples = 1\\nvalue = [0, 0, 0, 1, 0, 0]'),\n",
       " Text(0.6871794871794872, 0.625, 'entropy = 0.0\\nsamples = 1\\nvalue = [0, 1, 0, 0, 0, 0]'),\n",
       " Text(0.7685897435897436, 0.775, 'X[1] <= 0.375\\nentropy = 1.488\\nsamples = 100\\nvalue = [0, 0, 23, 51, 26, 0]'),\n",
       " Text(0.7166666666666667, 0.725, 'X[8] <= 3.25\\nentropy = 1.539\\nsamples = 40\\nvalue = [0, 0, 10, 12, 18, 0]'),\n",
       " Text(0.7025641025641025, 0.675, 'X[0] <= 10.45\\nentropy = 0.896\\nsamples = 16\\nvalue = [0, 0, 0, 5, 11, 0]'),\n",
       " Text(0.6974358974358974, 0.625, 'X[5] <= 10.0\\nentropy = 0.991\\nsamples = 9\\nvalue = [0, 0, 0, 5, 4, 0]'),\n",
       " Text(0.6923076923076923, 0.575, 'entropy = 0.0\\nsamples = 4\\nvalue = [0, 0, 0, 4, 0, 0]'),\n",
       " Text(0.7025641025641025, 0.575, 'X[9] <= 0.71\\nentropy = 0.722\\nsamples = 5\\nvalue = [0, 0, 0, 1, 4, 0]'),\n",
       " Text(0.6974358974358974, 0.525, 'entropy = 0.0\\nsamples = 1\\nvalue = [0, 0, 0, 1, 0, 0]'),\n",
       " Text(0.7076923076923077, 0.525, 'entropy = 0.0\\nsamples = 4\\nvalue = [0, 0, 0, 0, 4, 0]'),\n",
       " Text(0.7076923076923077, 0.625, 'entropy = 0.0\\nsamples = 7\\nvalue = [0, 0, 0, 0, 7, 0]'),\n",
       " Text(0.7307692307692307, 0.675, 'X[9] <= 0.715\\nentropy = 1.563\\nsamples = 24\\nvalue = [0, 0, 10, 7, 7, 0]'),\n",
       " Text(0.7256410256410256, 0.625, 'entropy = 0.0\\nsamples = 5\\nvalue = [0, 0, 5, 0, 0, 0]'),\n",
       " Text(0.735897435897436, 0.625, 'X[0] <= 8.05\\nentropy = 1.568\\nsamples = 19\\nvalue = [0, 0, 5, 7, 7, 0]'),\n",
       " Text(0.7230769230769231, 0.575, 'X[8] <= 3.38\\nentropy = 0.971\\nsamples = 5\\nvalue = [0, 0, 3, 0, 2, 0]'),\n",
       " Text(0.717948717948718, 0.525, 'entropy = 0.0\\nsamples = 3\\nvalue = [0, 0, 3, 0, 0, 0]'),\n",
       " Text(0.7282051282051282, 0.525, 'entropy = 0.0\\nsamples = 2\\nvalue = [0, 0, 0, 0, 2, 0]'),\n",
       " Text(0.7487179487179487, 0.575, 'X[2] <= 0.535\\nentropy = 1.432\\nsamples = 14\\nvalue = [0, 0, 2, 7, 5, 0]'),\n",
       " Text(0.7384615384615385, 0.525, 'X[0] <= 9.6\\nentropy = 0.764\\nsamples = 9\\nvalue = [0, 0, 0, 7, 2, 0]'),\n",
       " Text(0.7333333333333333, 0.475, 'entropy = 0.0\\nsamples = 5\\nvalue = [0, 0, 0, 5, 0, 0]'),\n",
       " Text(0.7435897435897436, 0.475, 'X[5] <= 24.0\\nentropy = 1.0\\nsamples = 4\\nvalue = [0, 0, 0, 2, 2, 0]'),\n",
       " Text(0.7384615384615385, 0.425, 'entropy = 0.0\\nsamples = 2\\nvalue = [0, 0, 0, 2, 0, 0]'),\n",
       " Text(0.7487179487179487, 0.425, 'entropy = 0.0\\nsamples = 2\\nvalue = [0, 0, 0, 0, 2, 0]'),\n",
       " Text(0.7589743589743589, 0.525, 'X[8] <= 3.29\\nentropy = 0.971\\nsamples = 5\\nvalue = [0, 0, 2, 0, 3, 0]'),\n",
       " Text(0.7538461538461538, 0.475, 'entropy = 0.0\\nsamples = 2\\nvalue = [0, 0, 2, 0, 0, 0]'),\n",
       " Text(0.764102564102564, 0.475, 'entropy = 0.0\\nsamples = 3\\nvalue = [0, 0, 0, 0, 3, 0]'),\n",
       " Text(0.8205128205128205, 0.725, 'X[3] <= 4.1\\nentropy = 1.27\\nsamples = 60\\nvalue = [0, 0, 13, 39, 8, 0]'),\n",
       " Text(0.8102564102564103, 0.675, 'X[2] <= 0.655\\nentropy = 1.142\\nsamples = 53\\nvalue = [0, 0, 8, 38, 7, 0]'),\n",
       " Text(0.8051282051282052, 0.625, 'X[8] <= 3.325\\nentropy = 1.064\\nsamples = 51\\nvalue = [0, 0, 8, 38, 5, 0]'),\n",
       " Text(0.7897435897435897, 0.575, 'X[8] <= 3.19\\nentropy = 0.602\\nsamples = 34\\nvalue = [0, 0, 5, 29, 0, 0]'),\n",
       " Text(0.7846153846153846, 0.525, 'X[7] <= 0.997\\nentropy = 0.896\\nsamples = 16\\nvalue = [0, 0, 5, 11, 0, 0]'),\n",
       " Text(0.7743589743589744, 0.475, 'X[8] <= 3.155\\nentropy = 0.985\\nsamples = 7\\nvalue = [0, 0, 4, 3, 0, 0]'),\n",
       " Text(0.7692307692307693, 0.425, 'X[7] <= 0.997\\nentropy = 0.811\\nsamples = 4\\nvalue = [0, 0, 1, 3, 0, 0]'),\n",
       " Text(0.764102564102564, 0.375, 'entropy = 0.0\\nsamples = 3\\nvalue = [0, 0, 0, 3, 0, 0]'),\n",
       " Text(0.7743589743589744, 0.375, 'entropy = 0.0\\nsamples = 1\\nvalue = [0, 0, 1, 0, 0, 0]'),\n",
       " Text(0.7794871794871795, 0.425, 'entropy = 0.0\\nsamples = 3\\nvalue = [0, 0, 3, 0, 0, 0]'),\n",
       " Text(0.7948717948717948, 0.475, 'X[6] <= 69.0\\nentropy = 0.503\\nsamples = 9\\nvalue = [0, 0, 1, 8, 0, 0]'),\n",
       " Text(0.7897435897435897, 0.425, 'entropy = 0.0\\nsamples = 8\\nvalue = [0, 0, 0, 8, 0, 0]'),\n",
       " Text(0.8, 0.425, 'entropy = 0.0\\nsamples = 1\\nvalue = [0, 0, 1, 0, 0, 0]'),\n",
       " Text(0.7948717948717948, 0.525, 'entropy = 0.0\\nsamples = 18\\nvalue = [0, 0, 0, 18, 0, 0]'),\n",
       " Text(0.8205128205128205, 0.575, 'X[4] <= 0.067\\nentropy = 1.447\\nsamples = 17\\nvalue = [0, 0, 3, 9, 5, 0]'),\n",
       " Text(0.8153846153846154, 0.525, 'entropy = 0.0\\nsamples = 3\\nvalue = [0, 0, 0, 0, 3, 0]'),\n",
       " Text(0.8256410256410256, 0.525, 'X[9] <= 0.7\\nentropy = 1.287\\nsamples = 14\\nvalue = [0, 0, 3, 9, 2, 0]'),\n",
       " Text(0.8153846153846154, 0.475, 'X[3] <= 2.0\\nentropy = 1.0\\nsamples = 6\\nvalue = [0, 0, 3, 3, 0, 0]'),\n",
       " Text(0.8102564102564103, 0.425, 'entropy = 0.0\\nsamples = 2\\nvalue = [0, 0, 2, 0, 0, 0]'),\n",
       " Text(0.8205128205128205, 0.425, 'X[4] <= 0.095\\nentropy = 0.811\\nsamples = 4\\nvalue = [0, 0, 1, 3, 0, 0]'),\n",
       " Text(0.8153846153846154, 0.375, 'entropy = 0.0\\nsamples = 3\\nvalue = [0, 0, 0, 3, 0, 0]'),\n",
       " Text(0.8256410256410256, 0.375, 'entropy = 0.0\\nsamples = 1\\nvalue = [0, 0, 1, 0, 0, 0]'),\n",
       " Text(0.8358974358974359, 0.475, 'X[7] <= 0.998\\nentropy = 0.811\\nsamples = 8\\nvalue = [0, 0, 0, 6, 2, 0]'),\n",
       " Text(0.8307692307692308, 0.425, 'entropy = 0.0\\nsamples = 5\\nvalue = [0, 0, 0, 5, 0, 0]'),\n",
       " Text(0.841025641025641, 0.425, 'X[0] <= 8.4\\nentropy = 0.918\\nsamples = 3\\nvalue = [0, 0, 0, 1, 2, 0]'),\n",
       " Text(0.8358974358974359, 0.375, 'entropy = 0.0\\nsamples = 1\\nvalue = [0, 0, 0, 1, 0, 0]'),\n",
       " Text(0.8461538461538461, 0.375, 'entropy = 0.0\\nsamples = 2\\nvalue = [0, 0, 0, 0, 2, 0]'),\n",
       " Text(0.8153846153846154, 0.625, 'entropy = 0.0\\nsamples = 2\\nvalue = [0, 0, 0, 0, 2, 0]'),\n",
       " Text(0.8307692307692308, 0.675, 'X[10] <= 10.45\\nentropy = 1.149\\nsamples = 7\\nvalue = [0, 0, 5, 1, 1, 0]'),\n",
       " Text(0.8256410256410256, 0.625, 'entropy = 0.0\\nsamples = 1\\nvalue = [0, 0, 0, 1, 0, 0]'),\n",
       " Text(0.8358974358974359, 0.625, 'X[2] <= 0.34\\nentropy = 0.65\\nsamples = 6\\nvalue = [0, 0, 5, 0, 1, 0]'),\n",
       " Text(0.8307692307692308, 0.575, 'entropy = 0.0\\nsamples = 1\\nvalue = [0, 0, 0, 0, 1, 0]'),\n",
       " Text(0.841025641025641, 0.575, 'entropy = 0.0\\nsamples = 5\\nvalue = [0, 0, 5, 0, 0, 0]'),\n",
       " Text(0.9557692307692308, 0.825, 'X[3] <= 4.75\\nentropy = 1.556\\nsamples = 88\\nvalue = [0, 0, 5, 32, 44, 7]'),\n",
       " Text(0.926923076923077, 0.775, 'X[5] <= 18.5\\nentropy = 1.445\\nsamples = 82\\nvalue = [0, 0, 3, 32, 42, 5]'),\n",
       " Text(0.8923076923076924, 0.725, 'X[9] <= 0.695\\nentropy = 1.346\\nsamples = 57\\nvalue = [0, 0, 3, 17, 35, 2]'),\n",
       " Text(0.8666666666666667, 0.675, 'X[6] <= 24.5\\nentropy = 1.418\\nsamples = 21\\nvalue = [0, 0, 3, 11, 7, 0]'),\n",
       " Text(0.8564102564102564, 0.625, 'X[2] <= 0.565\\nentropy = 0.881\\nsamples = 10\\nvalue = [0, 0, 0, 3, 7, 0]'),\n",
       " Text(0.8512820512820513, 0.575, 'entropy = 0.0\\nsamples = 7\\nvalue = [0, 0, 0, 0, 7, 0]'),\n",
       " Text(0.8615384615384616, 0.575, 'entropy = 0.0\\nsamples = 3\\nvalue = [0, 0, 0, 3, 0, 0]'),\n",
       " Text(0.8769230769230769, 0.625, 'X[8] <= 3.34\\nentropy = 0.845\\nsamples = 11\\nvalue = [0, 0, 3, 8, 0, 0]'),\n",
       " Text(0.8717948717948718, 0.575, 'entropy = 0.0\\nsamples = 4\\nvalue = [0, 0, 0, 4, 0, 0]'),\n",
       " Text(0.882051282051282, 0.575, 'X[7] <= 0.994\\nentropy = 0.985\\nsamples = 7\\nvalue = [0, 0, 3, 4, 0, 0]'),\n",
       " Text(0.8769230769230769, 0.525, 'entropy = 0.0\\nsamples = 2\\nvalue = [0, 0, 0, 2, 0, 0]'),\n",
       " Text(0.8871794871794871, 0.525, 'X[4] <= 0.064\\nentropy = 0.971\\nsamples = 5\\nvalue = [0, 0, 3, 2, 0, 0]'),\n",
       " Text(0.882051282051282, 0.475, 'entropy = 0.0\\nsamples = 2\\nvalue = [0, 0, 2, 0, 0, 0]'),\n",
       " Text(0.8923076923076924, 0.475, 'X[1] <= 0.61\\nentropy = 0.918\\nsamples = 3\\nvalue = [0, 0, 1, 2, 0, 0]'),\n",
       " Text(0.8871794871794871, 0.425, 'entropy = 0.0\\nsamples = 2\\nvalue = [0, 0, 0, 2, 0, 0]'),\n",
       " Text(0.8974358974358975, 0.425, 'entropy = 0.0\\nsamples = 1\\nvalue = [0, 0, 1, 0, 0, 0]'),\n",
       " Text(0.9179487179487179, 0.675, 'X[5] <= 9.5\\nentropy = 0.944\\nsamples = 36\\nvalue = [0, 0, 0, 6, 28, 2]'),\n",
       " Text(0.9128205128205128, 0.625, 'X[8] <= 3.205\\nentropy = 1.449\\nsamples = 14\\nvalue = [0, 0, 0, 6, 6, 2]'),\n",
       " Text(0.9025641025641026, 0.575, 'X[3] <= 3.6\\nentropy = 0.918\\nsamples = 3\\nvalue = [0, 0, 0, 0, 1, 2]'),\n",
       " Text(0.8974358974358975, 0.525, 'entropy = 0.0\\nsamples = 2\\nvalue = [0, 0, 0, 0, 0, 2]'),\n",
       " Text(0.9076923076923077, 0.525, 'entropy = 0.0\\nsamples = 1\\nvalue = [0, 0, 0, 0, 1, 0]'),\n",
       " Text(0.9230769230769231, 0.575, 'X[2] <= 0.41\\nentropy = 0.994\\nsamples = 11\\nvalue = [0, 0, 0, 6, 5, 0]'),\n",
       " Text(0.9179487179487179, 0.525, 'entropy = 0.0\\nsamples = 4\\nvalue = [0, 0, 0, 0, 4, 0]'),\n",
       " Text(0.9282051282051282, 0.525, 'X[0] <= 10.8\\nentropy = 0.592\\nsamples = 7\\nvalue = [0, 0, 0, 6, 1, 0]'),\n",
       " Text(0.9230769230769231, 0.475, 'entropy = 0.0\\nsamples = 6\\nvalue = [0, 0, 0, 6, 0, 0]'),\n",
       " Text(0.9333333333333333, 0.475, 'entropy = 0.0\\nsamples = 1\\nvalue = [0, 0, 0, 0, 1, 0]'),\n",
       " Text(0.9230769230769231, 0.625, 'entropy = 0.0\\nsamples = 22\\nvalue = [0, 0, 0, 0, 22, 0]'),\n",
       " Text(0.9615384615384616, 0.725, 'X[7] <= 0.995\\nentropy = 1.323\\nsamples = 25\\nvalue = [0, 0, 0, 15, 7, 3]'),\n",
       " Text(0.9487179487179487, 0.675, 'X[5] <= 35.5\\nentropy = 1.189\\nsamples = 12\\nvalue = [0, 0, 0, 8, 1, 3]'),\n",
       " Text(0.9384615384615385, 0.625, 'X[8] <= 3.495\\nentropy = 0.722\\nsamples = 10\\nvalue = [0, 0, 0, 8, 0, 2]'),\n",
       " Text(0.9333333333333333, 0.575, 'entropy = 0.0\\nsamples = 6\\nvalue = [0, 0, 0, 6, 0, 0]'),\n",
       " Text(0.9435897435897436, 0.575, 'X[2] <= 0.02\\nentropy = 1.0\\nsamples = 4\\nvalue = [0, 0, 0, 2, 0, 2]'),\n",
       " Text(0.9384615384615385, 0.525, 'entropy = 0.0\\nsamples = 2\\nvalue = [0, 0, 0, 2, 0, 0]'),\n",
       " Text(0.9487179487179487, 0.525, 'entropy = 0.0\\nsamples = 2\\nvalue = [0, 0, 0, 0, 0, 2]'),\n",
       " Text(0.958974358974359, 0.625, 'X[10] <= 11.7\\nentropy = 1.0\\nsamples = 2\\nvalue = [0, 0, 0, 0, 1, 1]'),\n",
       " Text(0.9538461538461539, 0.575, 'entropy = 0.0\\nsamples = 1\\nvalue = [0, 0, 0, 0, 1, 0]'),\n",
       " Text(0.9641025641025641, 0.575, 'entropy = 0.0\\nsamples = 1\\nvalue = [0, 0, 0, 0, 0, 1]'),\n",
       " Text(0.9743589743589743, 0.675, 'X[7] <= 0.995\\nentropy = 0.996\\nsamples = 13\\nvalue = [0, 0, 0, 7, 6, 0]'),\n",
       " Text(0.9692307692307692, 0.625, 'entropy = 0.0\\nsamples = 3\\nvalue = [0, 0, 0, 0, 3, 0]'),\n",
       " Text(0.9794871794871794, 0.625, 'X[3] <= 2.35\\nentropy = 0.881\\nsamples = 10\\nvalue = [0, 0, 0, 7, 3, 0]'),\n",
       " Text(0.9743589743589743, 0.575, 'entropy = 0.0\\nsamples = 5\\nvalue = [0, 0, 0, 5, 0, 0]'),\n",
       " Text(0.9846153846153847, 0.575, 'X[1] <= 0.52\\nentropy = 0.971\\nsamples = 5\\nvalue = [0, 0, 0, 2, 3, 0]'),\n",
       " Text(0.9794871794871794, 0.525, 'X[6] <= 41.0\\nentropy = 0.918\\nsamples = 3\\nvalue = [0, 0, 0, 2, 1, 0]'),\n",
       " Text(0.9743589743589743, 0.475, 'entropy = 0.0\\nsamples = 1\\nvalue = [0, 0, 0, 0, 1, 0]'),\n",
       " Text(0.9846153846153847, 0.475, 'entropy = 0.0\\nsamples = 2\\nvalue = [0, 0, 0, 2, 0, 0]'),\n",
       " Text(0.9897435897435898, 0.525, 'entropy = 0.0\\nsamples = 2\\nvalue = [0, 0, 0, 0, 2, 0]'),\n",
       " Text(0.9846153846153847, 0.775, 'X[6] <= 30.5\\nentropy = 1.585\\nsamples = 6\\nvalue = [0, 0, 2, 0, 2, 2]'),\n",
       " Text(0.9794871794871794, 0.725, 'entropy = 0.0\\nsamples = 2\\nvalue = [0, 0, 0, 0, 0, 2]'),\n",
       " Text(0.9897435897435898, 0.725, 'X[0] <= 11.95\\nentropy = 1.0\\nsamples = 4\\nvalue = [0, 0, 2, 0, 2, 0]'),\n",
       " Text(0.9846153846153847, 0.675, 'entropy = 0.0\\nsamples = 2\\nvalue = [0, 0, 0, 0, 2, 0]'),\n",
       " Text(0.9948717948717949, 0.675, 'entropy = 0.0\\nsamples = 2\\nvalue = [0, 0, 2, 0, 0, 0]')]"
      ]
     },
     "execution_count": 23,
     "metadata": {},
     "output_type": "execute_result"
    },
    {
     "data": {
      "image/png": "[encoded data removed]",
      "text/plain": [
       "<Figure size 1440x1440 with 1 Axes>"
      ]
     },
     "metadata": {
      "needs_background": "light"
     },
     "output_type": "display_data"
    }
   ],
   "source": [
    "plt.figure(figsize=(20, 20))\n",
    "tree.plot_tree(mod2, filled=True)"
   ]
  },
  {
   "cell_type": "code",
   "execution_count": 24,
   "id": "645378d7",
   "metadata": {},
   "outputs": [],
   "source": [
    "dt1 = df.head(30)\n",
    "dt1.head()\n",
    "\n",
    "x1 = dt1.drop(columns=['quality'])\n",
    "y1 = dt1['quality']"
   ]
  },
  {
   "cell_type": "code",
   "execution_count": 25,
   "id": "75cc1cfa",
   "metadata": {},
   "outputs": [
    {
     "data": {
      "text/plain": [
       "0    5\n",
       "1    5\n",
       "2    5\n",
       "3    6\n",
       "4    5\n",
       "Name: quality, dtype: int64"
      ]
     },
     "execution_count": 25,
     "metadata": {},
     "output_type": "execute_result"
    }
   ],
   "source": [
    "x1.head()\n",
    "y1.head()"
   ]
  },
  {
   "cell_type": "code",
   "execution_count": 26,
   "id": "c0c0f977",
   "metadata": {},
   "outputs": [
    {
     "data": {
      "text/plain": [
       "DecisionTreeClassifier(criterion='entropy')"
      ]
     },
     "execution_count": 26,
     "metadata": {},
     "output_type": "execute_result"
    }
   ],
   "source": [
    "mod_dt1 = DecisionTreeClassifier(criterion='entropy')\n",
    "mod_dt1.fit(x1, y1)"
   ]
  },
  {
   "cell_type": "code",
   "execution_count": 27,
   "id": "6ef892af",
   "metadata": {},
   "outputs": [
    {
     "data": {
      "image/png": "[encoded data removed]",
      "text/plain": [
       "<Figure size 1800x1800 with 1 Axes>"
      ]
     },
     "metadata": {
      "needs_background": "light"
     },
     "output_type": "display_data"
    }
   ],
   "source": [
    "# Visualizing..\n",
    "\n",
    "plt.figure(figsize=(25, 25))\n",
    "tree.plot_tree(mod_dt1, filled=True, class_names=[str(i) for i in set(y1)],\n",
    "              feature_names=x1.columns)\n",
    "\n",
    "# saving the decision tree as img\n",
    "plt.savefig('decision_tree_entropy')"
   ]
  },
  {
   "cell_type": "code",
   "execution_count": 28,
   "id": "466461b8",
   "metadata": {},
   "outputs": [
    {
     "data": {
      "text/plain": [
       "Index(['fixed acidity', 'volatile acidity', 'citric acid', 'residual sugar',\n",
       "       'chlorides', 'free sulfur dioxide', 'total sulfur dioxide', 'density',\n",
       "       'pH', 'sulphates', 'alcohol'],\n",
       "      dtype='object')"
      ]
     },
     "execution_count": 28,
     "metadata": {},
     "output_type": "execute_result"
    }
   ],
   "source": [
    "x1.columns"
   ]
  },
  {
   "cell_type": "code",
   "execution_count": 29,
   "id": "0ed6e488",
   "metadata": {},
   "outputs": [
    {
     "name": "stdout",
     "output_type": "stream",
     "text": [
      "0.58\n",
      "0.5373333333333333\n"
     ]
    }
   ],
   "source": [
    "print(x1['volatile acidity'].median())\n",
    "print(x1['volatile acidity'].mean())\n",
    "\n",
    "## As we can see threshold the decision tree is trying to use to divide the branches is neither\n",
    "# the median nor mean\n",
    "\n",
    "## in the live class sir told that there's some custom mechanism built in each algorithm to \n",
    "# compute the thresholds."
   ]
  },
  {
   "cell_type": "code",
   "execution_count": 30,
   "id": "842511b7",
   "metadata": {},
   "outputs": [
    {
     "data": {
      "text/plain": [
       "1.0"
      ]
     },
     "execution_count": 30,
     "metadata": {},
     "output_type": "execute_result"
    }
   ],
   "source": [
    "mod_dt1.score(x1, y1)\n",
    "\n",
    "## shamelessly overfitted.."
   ]
  },
  {
   "cell_type": "code",
   "execution_count": 31,
   "id": "53ccbf6d",
   "metadata": {},
   "outputs": [
    {
     "data": {
      "text/plain": [
       "0.4375"
      ]
     },
     "execution_count": 31,
     "metadata": {},
     "output_type": "execute_result"
    }
   ],
   "source": [
    "mod_dt1.score(x_test, y_test)"
   ]
  },
  {
   "cell_type": "code",
   "execution_count": 32,
   "id": "316e4b95",
   "metadata": {},
   "outputs": [
    {
     "data": {
      "text/plain": [
       "0.4375"
      ]
     },
     "execution_count": 32,
     "metadata": {},
     "output_type": "execute_result"
    }
   ],
   "source": [
    "mod_dt1.score(x1_test, y1_test)"
   ]
  },
  {
   "cell_type": "markdown",
   "id": "70c08ad6",
   "metadata": {},
   "source": [
    "## It's better to discard the further branches from a certain step in a decision tree if the `concrete decision` can be made from that ceratin step itself consequently reducing the complexity and not to spend computational power unnecessarily.\n",
    "### Here comes the concept of `pre-pruning` and `post-pruning`"
   ]
  },
  {
   "cell_type": "code",
   "execution_count": 33,
   "id": "69c8f311",
   "metadata": {},
   "outputs": [
    {
     "data": {
      "text/plain": [
       "{'ccp_alphas': array([0.        , 0.06666667, 0.09182958, 0.10150722, 0.10817042,\n",
       "        0.13333333, 0.19562766, 0.27679444, 0.31285482]),\n",
       " 'impurities': array([0.        , 0.06666667, 0.15849625, 0.26000347, 0.36817388,\n",
       "        0.50150722, 0.69713487, 0.97392931, 1.28678413])}"
      ]
     },
     "execution_count": 33,
     "metadata": {},
     "output_type": "execute_result"
    }
   ],
   "source": [
    "# Compute the pruning path during Minimal Cost-Complexity Pruning.\n",
    "path = mod_dt1.cost_complexity_pruning_path(x1, y1)\n",
    "path\n",
    "\n",
    "## kind of `thresh probab` to discard a certain branch if its cost complexity is higher than the \n",
    "# `thresh`"
   ]
  },
  {
   "cell_type": "markdown",
   "id": "66f59d0c",
   "metadata": {},
   "source": [
    "### ccp_alphas: \n",
    "\n",
    "**Complexity parameter used for `Minimal Cost-Complexity Pruning`. The\n",
    "subtree with the largest cost complexity that is smaller than\n",
    "``ccp_alpha`` will be chosen. By default, no pruning is performed.**"
   ]
  },
  {
   "cell_type": "markdown",
   "id": "c9b5ce9a",
   "metadata": {},
   "source": [
    "- ### `pre-pruning`"
   ]
  },
  {
   "cell_type": "code",
   "execution_count": 34,
   "id": "28a3753a",
   "metadata": {},
   "outputs": [
    {
     "data": {
      "text/plain": [
       "array([0.        , 0.06666667, 0.09182958, 0.10150722, 0.10817042,\n",
       "       0.13333333, 0.19562766, 0.27679444, 0.31285482])"
      ]
     },
     "execution_count": 34,
     "metadata": {},
     "output_type": "execute_result"
    }
   ],
   "source": [
    "alphas = path['ccp_alphas']\n",
    "alphas"
   ]
  },
  {
   "cell_type": "markdown",
   "id": "551d1d7c",
   "metadata": {},
   "source": [
    "### building model for each ccp_alpha:"
   ]
  },
  {
   "cell_type": "code",
   "execution_count": 35,
   "id": "c47570e2",
   "metadata": {},
   "outputs": [],
   "source": [
    "models = []\n",
    "for ccp in alphas:\n",
    "    model = DecisionTreeClassifier(ccp_alpha=ccp)\n",
    "    model.fit(x1, y1)\n",
    "    models.append(model)"
   ]
  },
  {
   "cell_type": "code",
   "execution_count": 36,
   "id": "782663ad",
   "metadata": {},
   "outputs": [
    {
     "data": {
      "text/plain": [
       "[DecisionTreeClassifier(),\n",
       " DecisionTreeClassifier(ccp_alpha=0.06666666666666667),\n",
       " DecisionTreeClassifier(ccp_alpha=0.09182958340544896),\n",
       " DecisionTreeClassifier(ccp_alpha=0.10150721594810842),\n",
       " DecisionTreeClassifier(ccp_alpha=0.10817041659455104),\n",
       " DecisionTreeClassifier(ccp_alpha=0.13333333333333336),\n",
       " DecisionTreeClassifier(ccp_alpha=0.1956276577222191),\n",
       " DecisionTreeClassifier(ccp_alpha=0.27679443603470466),\n",
       " DecisionTreeClassifier(ccp_alpha=0.3128548240716781)]"
      ]
     },
     "execution_count": 36,
     "metadata": {},
     "output_type": "execute_result"
    }
   ],
   "source": [
    "models"
   ]
  },
  {
   "cell_type": "code",
   "execution_count": 37,
   "id": "91633b55",
   "metadata": {},
   "outputs": [
    {
     "data": {
      "text/plain": [
       "[1.0, 0.8333333333333334, 0.8, 0.8, 0.8, 0.7, 0.7, 0.7, 0.7]"
      ]
     },
     "execution_count": 37,
     "metadata": {},
     "output_type": "execute_result"
    }
   ],
   "source": [
    "train_scores = [i.score(x1, y1) for i in models]\n",
    "train_scores"
   ]
  },
  {
   "cell_type": "code",
   "execution_count": 38,
   "id": "ddf147e8",
   "metadata": {},
   "outputs": [
    {
     "data": {
      "text/plain": [
       "[0.34375,\n",
       " 0.4125,\n",
       " 0.4125,\n",
       " 0.446875,\n",
       " 0.446875,\n",
       " 0.43125,\n",
       " 0.43125,\n",
       " 0.43125,\n",
       " 0.43125]"
      ]
     },
     "execution_count": 38,
     "metadata": {},
     "output_type": "execute_result"
    }
   ],
   "source": [
    "test_scores = [i.score(x_test, y_test) for i in models]\n",
    "test_scores"
   ]
  },
  {
   "cell_type": "markdown",
   "id": "f5fbf0f1",
   "metadata": {},
   "source": [
    "## Why do `decision trees` overfit so much?\n",
    "\n",
    "**Decision trees are prone to overfitting, especially when a tree is particularly deep. This is due to the amount of specificity we look at leading to smaller sample of events that meet the previous assumptions. This small sample could lead to unsound conclusions.**"
   ]
  },
  {
   "cell_type": "code",
   "execution_count": 39,
   "id": "b27d29bc",
   "metadata": {},
   "outputs": [
    {
     "data": {
      "image/png": "[encoded data removed]",
      "text/plain": [
       "<Figure size 432x288 with 1 Axes>"
      ]
     },
     "metadata": {
      "needs_background": "light"
     },
     "output_type": "display_data"
    }
   ],
   "source": [
    "fig, ax = plt.subplots()\n",
    "ax.set_xlabel(\"ccp_alpha\")\n",
    "ax.set_ylabel(\"accuracy\")\n",
    "\n",
    "ax.plot(alphas, train_scores, marker='o', label='train', drawstyle='steps-post')\n",
    "ax.plot(alphas, test_scores, marker='o', label='test', drawstyle='steps-post')\n",
    "\n",
    "ax.legend()\n",
    "plt.show()"
   ]
  },
  {
   "cell_type": "code",
   "execution_count": 40,
   "id": "532f45a6",
   "metadata": {},
   "outputs": [],
   "source": [
    "### Manual Hyperparameter tuning: "
   ]
  },
  {
   "cell_type": "code",
   "execution_count": 41,
   "id": "9493b83a",
   "metadata": {},
   "outputs": [
    {
     "data": {
      "text/plain": [
       "[DecisionTreeClassifier(),\n",
       " DecisionTreeClassifier(ccp_alpha=0.0006701664246621245),\n",
       " DecisionTreeClassifier(ccp_alpha=0.0007107825716113442),\n",
       " DecisionTreeClassifier(ccp_alpha=0.0007167057597081053),\n",
       " DecisionTreeClassifier(ccp_alpha=0.0007217176880976721),\n",
       " DecisionTreeClassifier(ccp_alpha=0.0007217176880976721),\n",
       " DecisionTreeClassifier(ccp_alpha=0.0007260136267173017),\n",
       " DecisionTreeClassifier(ccp_alpha=0.0007260136267173017),\n",
       " DecisionTreeClassifier(ccp_alpha=0.0007260136267173017),\n",
       " DecisionTreeClassifier(ccp_alpha=0.0007285521359016277),\n",
       " DecisionTreeClassifier(ccp_alpha=0.0007297367735209802),\n",
       " DecisionTreeClassifier(ccp_alpha=0.000744629360735694),\n",
       " DecisionTreeClassifier(ccp_alpha=0.0007505863956215791),\n",
       " DecisionTreeClassifier(ccp_alpha=0.0007539372277448899),\n",
       " DecisionTreeClassifier(ccp_alpha=0.0007574276778733386),\n",
       " DecisionTreeClassifier(ccp_alpha=0.000758864922043876),\n",
       " DecisionTreeClassifier(ccp_alpha=0.0007627910524609549),\n",
       " DecisionTreeClassifier(ccp_alpha=0.0007818608287724785),\n",
       " DecisionTreeClassifier(ccp_alpha=0.0007818608287724785),\n",
       " DecisionTreeClassifier(ccp_alpha=0.0007818608287724785),\n",
       " DecisionTreeClassifier(ccp_alpha=0.0007818608287724785),\n",
       " DecisionTreeClassifier(ccp_alpha=0.0007818608287724785),\n",
       " DecisionTreeClassifier(ccp_alpha=0.0007818608287724785),\n",
       " DecisionTreeClassifier(ccp_alpha=0.0007818608287724785),\n",
       " DecisionTreeClassifier(ccp_alpha=0.0007818608287724785),\n",
       " DecisionTreeClassifier(ccp_alpha=0.0007818608287724785),\n",
       " DecisionTreeClassifier(ccp_alpha=0.0007818608287724785),\n",
       " DecisionTreeClassifier(ccp_alpha=0.0007818608287724785),\n",
       " DecisionTreeClassifier(ccp_alpha=0.0007818608287724785),\n",
       " DecisionTreeClassifier(ccp_alpha=0.0007818608287724785),\n",
       " DecisionTreeClassifier(ccp_alpha=0.0007818608287724785),\n",
       " DecisionTreeClassifier(ccp_alpha=0.0007818608287724785),\n",
       " DecisionTreeClassifier(ccp_alpha=0.0007818608287724785),\n",
       " DecisionTreeClassifier(ccp_alpha=0.0007818608287724785),\n",
       " DecisionTreeClassifier(ccp_alpha=0.0007818608287724785),\n",
       " DecisionTreeClassifier(ccp_alpha=0.0007818608287724785),\n",
       " DecisionTreeClassifier(ccp_alpha=0.0007818608287724785),\n",
       " DecisionTreeClassifier(ccp_alpha=0.0008935552328828326),\n",
       " DecisionTreeClassifier(ccp_alpha=0.0009382329945269741),\n",
       " DecisionTreeClassifier(ccp_alpha=0.0009382329945269741),\n",
       " DecisionTreeClassifier(ccp_alpha=0.000990357049778473),\n",
       " DecisionTreeClassifier(ccp_alpha=0.000990357049778473),\n",
       " DecisionTreeClassifier(ccp_alpha=0.0009990443923203894),\n",
       " DecisionTreeClassifier(ccp_alpha=0.0010424811050299713),\n",
       " DecisionTreeClassifier(ccp_alpha=0.0010424811050299713),\n",
       " DecisionTreeClassifier(ccp_alpha=0.0010424811050299713),\n",
       " DecisionTreeClassifier(ccp_alpha=0.0010424811050299713),\n",
       " DecisionTreeClassifier(ccp_alpha=0.0010424811050299713),\n",
       " DecisionTreeClassifier(ccp_alpha=0.0010424811050299713),\n",
       " DecisionTreeClassifier(ccp_alpha=0.0010424811050299713),\n",
       " DecisionTreeClassifier(ccp_alpha=0.0010424811050299713),\n",
       " DecisionTreeClassifier(ccp_alpha=0.0010424811050299713),\n",
       " DecisionTreeClassifier(ccp_alpha=0.0010424811050299713),\n",
       " DecisionTreeClassifier(ccp_alpha=0.0010424811050299713),\n",
       " DecisionTreeClassifier(ccp_alpha=0.0010424811050299713),\n",
       " DecisionTreeClassifier(ccp_alpha=0.0010424811050299713),\n",
       " DecisionTreeClassifier(ccp_alpha=0.0010424811050299713),\n",
       " DecisionTreeClassifier(ccp_alpha=0.0011169440411035406),\n",
       " DecisionTreeClassifier(ccp_alpha=0.0011391628204158156),\n",
       " DecisionTreeClassifier(ccp_alpha=0.0011727912431587176),\n",
       " DecisionTreeClassifier(ccp_alpha=0.0011727912431587176),\n",
       " DecisionTreeClassifier(ccp_alpha=0.0011727912431587176),\n",
       " DecisionTreeClassifier(ccp_alpha=0.0011727912431587176),\n",
       " DecisionTreeClassifier(ccp_alpha=0.0011727912431587176),\n",
       " DecisionTreeClassifier(ccp_alpha=0.0011727912431587178),\n",
       " DecisionTreeClassifier(ccp_alpha=0.0011727912431587178),\n",
       " DecisionTreeClassifier(ccp_alpha=0.0011727912431587178),\n",
       " DecisionTreeClassifier(ccp_alpha=0.0011727912431587178),\n",
       " DecisionTreeClassifier(ccp_alpha=0.0011727912431587178),\n",
       " DecisionTreeClassifier(ccp_alpha=0.0011727912431587178),\n",
       " DecisionTreeClassifier(ccp_alpha=0.0011727912431587178),\n",
       " DecisionTreeClassifier(ccp_alpha=0.0011727912431587178),\n",
       " DecisionTreeClassifier(ccp_alpha=0.0011727912431587178),\n",
       " DecisionTreeClassifier(ccp_alpha=0.00119140697717711),\n",
       " DecisionTreeClassifier(ccp_alpha=0.0011932835632676737),\n",
       " DecisionTreeClassifier(ccp_alpha=0.0012162279558682997),\n",
       " DecisionTreeClassifier(ccp_alpha=0.00122644835885879),\n",
       " DecisionTreeClassifier(ccp_alpha=0.0012509773260359653),\n",
       " DecisionTreeClassifier(ccp_alpha=0.0012509773260359653),\n",
       " DecisionTreeClassifier(ccp_alpha=0.0012509773260359653),\n",
       " DecisionTreeClassifier(ccp_alpha=0.0012584236196433226),\n",
       " DecisionTreeClassifier(ccp_alpha=0.0012584236196433226),\n",
       " DecisionTreeClassifier(ccp_alpha=0.0012865914995335958),\n",
       " DecisionTreeClassifier(ccp_alpha=0.001286827354987223),\n",
       " DecisionTreeClassifier(ccp_alpha=0.0012965858743810266),\n",
       " DecisionTreeClassifier(ccp_alpha=0.0013010411419494606),\n",
       " DecisionTreeClassifier(ccp_alpha=0.0013031013812874641),\n",
       " DecisionTreeClassifier(ccp_alpha=0.0013031013812874641),\n",
       " DecisionTreeClassifier(ccp_alpha=0.0013031013812874641),\n",
       " DecisionTreeClassifier(ccp_alpha=0.0013031013812874641),\n",
       " DecisionTreeClassifier(ccp_alpha=0.0013031013812874641),\n",
       " DecisionTreeClassifier(ccp_alpha=0.0013031013812874641),\n",
       " DecisionTreeClassifier(ccp_alpha=0.0013155118706330586),\n",
       " DecisionTreeClassifier(ccp_alpha=0.00133271732177127),\n",
       " DecisionTreeClassifier(ccp_alpha=0.0013354814762164254),\n",
       " DecisionTreeClassifier(ccp_alpha=0.001336816351060513),\n",
       " DecisionTreeClassifier(ccp_alpha=0.001340332849324249),\n",
       " DecisionTreeClassifier(ccp_alpha=0.001340332849324249),\n",
       " DecisionTreeClassifier(ccp_alpha=0.001340332849324249),\n",
       " DecisionTreeClassifier(ccp_alpha=0.001340332849324249),\n",
       " DecisionTreeClassifier(ccp_alpha=0.0013527433386698435),\n",
       " DecisionTreeClassifier(ccp_alpha=0.0013682564503518374),\n",
       " DecisionTreeClassifier(ccp_alpha=0.0013682564503518374),\n",
       " DecisionTreeClassifier(ccp_alpha=0.0013682564503518376),\n",
       " DecisionTreeClassifier(ccp_alpha=0.001374771957258274),\n",
       " DecisionTreeClassifier(ccp_alpha=0.0013981925631651984),\n",
       " DecisionTreeClassifier(ccp_alpha=0.0014073494917904614),\n",
       " DecisionTreeClassifier(ccp_alpha=0.0014073494917904614),\n",
       " DecisionTreeClassifier(ccp_alpha=0.0014073494917904617),\n",
       " DecisionTreeClassifier(ccp_alpha=0.0014073494917904617),\n",
       " DecisionTreeClassifier(ccp_alpha=0.0014249498221351226),\n",
       " DecisionTreeClassifier(ccp_alpha=0.0014334115194162105),\n",
       " DecisionTreeClassifier(ccp_alpha=0.001436192528461641),\n",
       " DecisionTreeClassifier(ccp_alpha=0.0014402699477387764),\n",
       " DecisionTreeClassifier(ccp_alpha=0.0014452578956097323),\n",
       " DecisionTreeClassifier(ccp_alpha=0.001445841101822337),\n",
       " DecisionTreeClassifier(ccp_alpha=0.001446442533229086),\n",
       " DecisionTreeClassifier(ccp_alpha=0.0014520272534346034),\n",
       " DecisionTreeClassifier(ccp_alpha=0.0014582324981074004),\n",
       " DecisionTreeClassifier(ccp_alpha=0.00145947354704196),\n",
       " DecisionTreeClassifier(ccp_alpha=0.0014594735470419603),\n",
       " DecisionTreeClassifier(ccp_alpha=0.0014698983580922593),\n",
       " DecisionTreeClassifier(ccp_alpha=0.001471738030630548),\n",
       " DecisionTreeClassifier(ccp_alpha=0.001471738030630548),\n",
       " DecisionTreeClassifier(ccp_alpha=0.001472847482270963),\n",
       " DecisionTreeClassifier(ccp_alpha=0.0014926434003838234),\n",
       " DecisionTreeClassifier(ccp_alpha=0.0015078744554897798),\n",
       " DecisionTreeClassifier(ccp_alpha=0.0015190438959008143),\n",
       " DecisionTreeClassifier(ccp_alpha=0.0015190438959008154),\n",
       " DecisionTreeClassifier(ccp_alpha=0.0015264901895081725),\n",
       " DecisionTreeClassifier(ccp_alpha=0.001563721657544957),\n",
       " DecisionTreeClassifier(ccp_alpha=0.001563721657544957),\n",
       " DecisionTreeClassifier(ccp_alpha=0.001563721657544957),\n",
       " DecisionTreeClassifier(ccp_alpha=0.001563721657544957),\n",
       " DecisionTreeClassifier(ccp_alpha=0.0015637216575449574),\n",
       " DecisionTreeClassifier(ccp_alpha=0.0015644129580124856),\n",
       " DecisionTreeClassifier(ccp_alpha=0.0015953684053762237),\n",
       " DecisionTreeClassifier(ccp_alpha=0.0016246977609049196),\n",
       " DecisionTreeClassifier(ccp_alpha=0.0016347999147060914),\n",
       " DecisionTreeClassifier(ccp_alpha=0.0016381845936185267),\n",
       " DecisionTreeClassifier(ccp_alpha=0.001675416061655311),\n",
       " DecisionTreeClassifier(ccp_alpha=0.0016754160616553112),\n",
       " DecisionTreeClassifier(ccp_alpha=0.0016772834707104466),\n",
       " DecisionTreeClassifier(ccp_alpha=0.0016810007818608289),\n",
       " DecisionTreeClassifier(ccp_alpha=0.0016940317956737026),\n",
       " DecisionTreeClassifier(ccp_alpha=0.0017147159445830285),\n",
       " DecisionTreeClassifier(ccp_alpha=0.0017170277024023055),\n",
       " DecisionTreeClassifier(ccp_alpha=0.0017200938232994518),\n",
       " DecisionTreeClassifier(ccp_alpha=0.0017302263346664814),\n",
       " DecisionTreeClassifier(ccp_alpha=0.0017591868647380765),\n",
       " DecisionTreeClassifier(ccp_alpha=0.0017731486652518705),\n",
       " DecisionTreeClassifier(ccp_alpha=0.0017952137852795536),\n",
       " DecisionTreeClassifier(ccp_alpha=0.0018183516609637448),\n",
       " DecisionTreeClassifier(ccp_alpha=0.00182434193380245),\n",
       " DecisionTreeClassifier(ccp_alpha=0.0018375857953908522),\n",
       " DecisionTreeClassifier(ccp_alpha=0.0018440858941249875),\n",
       " DecisionTreeClassifier(ccp_alpha=0.0018677786465120315),\n",
       " DecisionTreeClassifier(ccp_alpha=0.0019185156470719637),\n",
       " DecisionTreeClassifier(ccp_alpha=0.0019358922532841782),\n",
       " DecisionTreeClassifier(ccp_alpha=0.001993096059041974),\n",
       " DecisionTreeClassifier(ccp_alpha=0.002019807140995569),\n",
       " DecisionTreeClassifier(ccp_alpha=0.002029598010833352),\n",
       " DecisionTreeClassifier(ccp_alpha=0.0020621579358874125),\n",
       " DecisionTreeClassifier(ccp_alpha=0.0020827154835404843),\n",
       " DecisionTreeClassifier(ccp_alpha=0.0021106813162695623),\n",
       " DecisionTreeClassifier(ccp_alpha=0.002147014656787917),\n",
       " DecisionTreeClassifier(ccp_alpha=0.002171835635479107),\n",
       " DecisionTreeClassifier(ccp_alpha=0.002178040880151904),\n",
       " DecisionTreeClassifier(ccp_alpha=0.002195586744399125),\n",
       " DecisionTreeClassifier(ccp_alpha=0.00228823479190819),\n",
       " DecisionTreeClassifier(ccp_alpha=0.0023195204586916856),\n",
       " DecisionTreeClassifier(ccp_alpha=0.0023455824863174357),\n",
       " DecisionTreeClassifier(ccp_alpha=0.002363414399956106),\n",
       " DecisionTreeClassifier(ccp_alpha=0.0023716445139431853),\n",
       " DecisionTreeClassifier(ccp_alpha=0.0023887796142906155),\n",
       " DecisionTreeClassifier(ccp_alpha=0.002391026778185864),\n",
       " DecisionTreeClassifier(ccp_alpha=0.002397869939861255),\n",
       " DecisionTreeClassifier(ccp_alpha=0.002439164284355838),\n",
       " DecisionTreeClassifier(ccp_alpha=0.0024458201003713397),\n",
       " DecisionTreeClassifier(ccp_alpha=0.0024479690234185947),\n",
       " DecisionTreeClassifier(ccp_alpha=0.0024883990572525288),\n",
       " DecisionTreeClassifier(ccp_alpha=0.0025258448440621997),\n",
       " DecisionTreeClassifier(ccp_alpha=0.0026722040013674097),\n",
       " DecisionTreeClassifier(ccp_alpha=0.002701763530536009),\n",
       " DecisionTreeClassifier(ccp_alpha=0.002727966586449776),\n",
       " DecisionTreeClassifier(ccp_alpha=0.002733304507151268),\n",
       " DecisionTreeClassifier(ccp_alpha=0.0029579549654976216),\n",
       " DecisionTreeClassifier(ccp_alpha=0.002970536151700863),\n",
       " DecisionTreeClassifier(ccp_alpha=0.0030288608627664264),\n",
       " DecisionTreeClassifier(ccp_alpha=0.003069380543346642),\n",
       " DecisionTreeClassifier(ccp_alpha=0.0031357442765431627),\n",
       " DecisionTreeClassifier(ccp_alpha=0.003394922019669973),\n",
       " DecisionTreeClassifier(ccp_alpha=0.0034253246496112402),\n",
       " DecisionTreeClassifier(ccp_alpha=0.0034404076188173463),\n",
       " DecisionTreeClassifier(ccp_alpha=0.0036985083321835386),\n",
       " DecisionTreeClassifier(ccp_alpha=0.003860226299632086),\n",
       " DecisionTreeClassifier(ccp_alpha=0.003861094543353087),\n",
       " DecisionTreeClassifier(ccp_alpha=0.003989789817412492),\n",
       " DecisionTreeClassifier(ccp_alpha=0.003991304182001942),\n",
       " DecisionTreeClassifier(ccp_alpha=0.004251833649800809),\n",
       " DecisionTreeClassifier(ccp_alpha=0.004598514797699349),\n",
       " DecisionTreeClassifier(ccp_alpha=0.004846715431570878),\n",
       " DecisionTreeClassifier(ccp_alpha=0.00490356420260897),\n",
       " DecisionTreeClassifier(ccp_alpha=0.006055491434693944),\n",
       " DecisionTreeClassifier(ccp_alpha=0.006863204812647766),\n",
       " DecisionTreeClassifier(ccp_alpha=0.008007180159283894),\n",
       " DecisionTreeClassifier(ccp_alpha=0.012035334011119114),\n",
       " DecisionTreeClassifier(ccp_alpha=0.0127775572359283),\n",
       " DecisionTreeClassifier(ccp_alpha=0.014588863105259198),\n",
       " DecisionTreeClassifier(ccp_alpha=0.05739602228611651)]"
      ]
     },
     "execution_count": 41,
     "metadata": {},
     "output_type": "execute_result"
    }
   ],
   "source": [
    "### let's check the same for substantail amount of datset (i.e for our foremost model `mod`)\n",
    "\n",
    "path = mod.cost_complexity_pruning_path(x_train, y_train)\n",
    "alphas = path['ccp_alphas']\n",
    "\n",
    "models = []\n",
    "for ccp in alphas:\n",
    "    model = DecisionTreeClassifier(ccp_alpha=ccp)\n",
    "    model.fit(x_train, y_train)\n",
    "    models.append(model)\n",
    "\n",
    "models"
   ]
  },
  {
   "cell_type": "code",
   "execution_count": 42,
   "id": "82f5c135",
   "metadata": {},
   "outputs": [
    {
     "data": {
      "text/plain": [
       "[1.0,\n",
       " 0.9992181391712275,\n",
       " 0.9984362783424551,\n",
       " 0.9976544175136826,\n",
       " 0.9960906958561376,\n",
       " 0.9960906958561376,\n",
       " 0.9937451133698202,\n",
       " 0.9937451133698202,\n",
       " 0.9937451133698202,\n",
       " 0.9921813917122753,\n",
       " 0.9913995308835027,\n",
       " 0.9906176700547302,\n",
       " 0.9898358092259578,\n",
       " 0.9890539483971853,\n",
       " 0.9882720875684128,\n",
       " 0.9874902267396404,\n",
       " 0.9867083659108679,\n",
       " 0.9679437060203284,\n",
       " 0.9695074276778733,\n",
       " 0.9687255668491008,\n",
       " 0.9695074276778733,\n",
       " 0.9695074276778733,\n",
       " 0.9702892885066459,\n",
       " 0.9687255668491008,\n",
       " 0.9695074276778733,\n",
       " 0.9702892885066459,\n",
       " 0.9687255668491008,\n",
       " 0.9695074276778733,\n",
       " 0.9695074276778733,\n",
       " 0.9687255668491008,\n",
       " 0.9695074276778733,\n",
       " 0.9702892885066459,\n",
       " 0.9702892885066459,\n",
       " 0.9695074276778733,\n",
       " 0.9679437060203284,\n",
       " 0.9687255668491008,\n",
       " 0.9695074276778733,\n",
       " 0.9671618451915559,\n",
       " 0.9640344018764659,\n",
       " 0.9640344018764659,\n",
       " 0.9609069585613761,\n",
       " 0.9632525410476935,\n",
       " 0.9601250977326036,\n",
       " 0.9491790461297889,\n",
       " 0.9507427677873339,\n",
       " 0.9499609069585614,\n",
       " 0.9491790461297889,\n",
       " 0.9507427677873339,\n",
       " 0.9491790461297889,\n",
       " 0.9491790461297889,\n",
       " 0.9499609069585614,\n",
       " 0.9499609069585614,\n",
       " 0.9499609069585614,\n",
       " 0.9499609069585614,\n",
       " 0.9499609069585614,\n",
       " 0.9491790461297889,\n",
       " 0.9499609069585614,\n",
       " 0.947615324472244,\n",
       " 0.9452697419859265,\n",
       " 0.9405785770132916,\n",
       " 0.9390148553557467,\n",
       " 0.9421422986708365,\n",
       " 0.9382329945269742,\n",
       " 0.9421422986708365,\n",
       " 0.9335418295543393,\n",
       " 0.9351055512118843,\n",
       " 0.9343236903831118,\n",
       " 0.9335418295543393,\n",
       " 0.9304143862392494,\n",
       " 0.9319781078967944,\n",
       " 0.9311962470680218,\n",
       " 0.9343236903831118,\n",
       " 0.9319781078967944,\n",
       " 0.9335418295543393,\n",
       " 0.9288506645817045,\n",
       " 0.9327599687255669,\n",
       " 0.9272869429241595,\n",
       " 0.9241594996090696,\n",
       " 0.9265050820953871,\n",
       " 0.9225957779515246,\n",
       " 0.924941360437842,\n",
       " 0.9218139171227522,\n",
       " 0.9233776387802971,\n",
       " 0.9171227521501173,\n",
       " 0.9155590304925724,\n",
       " 0.9147771696637998,\n",
       " 0.9077404222048475,\n",
       " 0.9053948397185301,\n",
       " 0.9093041438623924,\n",
       " 0.9061767005473026,\n",
       " 0.90852228303362,\n",
       " 0.90852228303362,\n",
       " 0.9069585613760751,\n",
       " 0.9038311180609852,\n",
       " 0.8991399530883503,\n",
       " 0.8960125097732604,\n",
       " 0.8897576231430805,\n",
       " 0.8913213448006255,\n",
       " 0.8897576231430805,\n",
       " 0.893666927286943,\n",
       " 0.8897576231430805,\n",
       " 0.890539483971853,\n",
       " 0.887412040656763,\n",
       " 0.8858483189992181,\n",
       " 0.8881939014855356,\n",
       " 0.8850664581704457,\n",
       " 0.8835027365129007,\n",
       " 0.8788115715402658,\n",
       " 0.8835027365129007,\n",
       " 0.8835027365129007,\n",
       " 0.8772478498827209,\n",
       " 0.8835027365129007,\n",
       " 0.8803752931978108,\n",
       " 0.8733385457388585,\n",
       " 0.8764659890539483,\n",
       " 0.872556684910086,\n",
       " 0.874120406567631,\n",
       " 0.870992963252541,\n",
       " 0.874120406567631,\n",
       " 0.8702111024237685,\n",
       " 0.8702111024237685,\n",
       " 0.8678655199374511,\n",
       " 0.8647380766223612,\n",
       " 0.8678655199374511,\n",
       " 0.8608287724784989,\n",
       " 0.8608287724784989,\n",
       " 0.8616106333072713,\n",
       " 0.8569194683346364,\n",
       " 0.8600469116497264,\n",
       " 0.8592650508209538,\n",
       " 0.853010164190774,\n",
       " 0.8514464425332291,\n",
       " 0.8522283033620016,\n",
       " 0.8522283033620016,\n",
       " 0.8498827208756842,\n",
       " 0.8498827208756842,\n",
       " 0.8498827208756842,\n",
       " 0.8436278342455042,\n",
       " 0.8412822517591869,\n",
       " 0.8397185301016419,\n",
       " 0.838154808444097,\n",
       " 0.838154808444097,\n",
       " 0.836591086786552,\n",
       " 0.835027365129007,\n",
       " 0.8334636434714621,\n",
       " 0.8311180609851446,\n",
       " 0.8303362001563722,\n",
       " 0.8295543393275997,\n",
       " 0.8209538702111024,\n",
       " 0.8193901485535575,\n",
       " 0.818608287724785,\n",
       " 0.8170445660672401,\n",
       " 0.8162627052384676,\n",
       " 0.8146989835809226,\n",
       " 0.8146989835809226,\n",
       " 0.8123534010946052,\n",
       " 0.8100078186082877,\n",
       " 0.8092259577795152,\n",
       " 0.8037529319781079,\n",
       " 0.8021892103205629,\n",
       " 0.7998436278342455,\n",
       " 0.7998436278342455,\n",
       " 0.7967161845191556,\n",
       " 0.7943706020328382,\n",
       " 0.7928068803752932,\n",
       " 0.7873338545738858,\n",
       " 0.7849882720875684,\n",
       " 0.7826426896012509,\n",
       " 0.7787333854573886,\n",
       " 0.7724784988272088,\n",
       " 0.7709147771696638,\n",
       " 0.7693510555121188,\n",
       " 0.763096168881939,\n",
       " 0.7615324472243941,\n",
       " 0.7615324472243941,\n",
       " 0.7615324472243941,\n",
       " 0.7584050039093041,\n",
       " 0.7544956997654417,\n",
       " 0.7458952306489445,\n",
       " 0.7443315089913995,\n",
       " 0.7365129007036747,\n",
       " 0.7310398749022674,\n",
       " 0.7279124315871774,\n",
       " 0.7200938232994527,\n",
       " 0.7154026583268178,\n",
       " 0.7075840500390931,\n",
       " 0.7021110242376857,\n",
       " 0.6958561376075059,\n",
       " 0.6935105551211884,\n",
       " 0.6872556684910086,\n",
       " 0.6849100860046912,\n",
       " 0.6810007818608288,\n",
       " 0.6724003127443315,\n",
       " 0.6622361219702892,\n",
       " 0.6505082095387021,\n",
       " 0.6450351837372947,\n",
       " 0.6426896012509773,\n",
       " 0.6426896012509773,\n",
       " 0.6395621579358874,\n",
       " 0.6348709929632526,\n",
       " 0.6293979671618452,\n",
       " 0.6247068021892104,\n",
       " 0.619233776387803,\n",
       " 0.6012509773260359,\n",
       " 0.6012509773260359,\n",
       " 0.5856137607505864,\n",
       " 0.5856137607505864,\n",
       " 0.5598123534010946,\n",
       " 0.5598123534010946,\n",
       " 0.4245504300234558]"
      ]
     },
     "execution_count": 42,
     "metadata": {},
     "output_type": "execute_result"
    }
   ],
   "source": [
    "train_scores = [i.score(x_train, y_train) for i in models]\n",
    "train_scores"
   ]
  },
  {
   "cell_type": "code",
   "execution_count": 43,
   "id": "98bdb528",
   "metadata": {},
   "outputs": [
    {
     "data": {
      "text/plain": [
       "[0.628125,\n",
       " 0.646875,\n",
       " 0.6375,\n",
       " 0.646875,\n",
       " 0.63125,\n",
       " 0.61875,\n",
       " 0.63125,\n",
       " 0.634375,\n",
       " 0.634375,\n",
       " 0.640625,\n",
       " 0.628125,\n",
       " 0.621875,\n",
       " 0.634375,\n",
       " 0.6375,\n",
       " 0.625,\n",
       " 0.6375,\n",
       " 0.634375,\n",
       " 0.621875,\n",
       " 0.625,\n",
       " 0.609375,\n",
       " 0.61875,\n",
       " 0.61875,\n",
       " 0.6125,\n",
       " 0.6125,\n",
       " 0.615625,\n",
       " 0.625,\n",
       " 0.609375,\n",
       " 0.60625,\n",
       " 0.6125,\n",
       " 0.621875,\n",
       " 0.621875,\n",
       " 0.625,\n",
       " 0.615625,\n",
       " 0.625,\n",
       " 0.625,\n",
       " 0.61875,\n",
       " 0.621875,\n",
       " 0.61875,\n",
       " 0.61875,\n",
       " 0.615625,\n",
       " 0.621875,\n",
       " 0.60625,\n",
       " 0.6125,\n",
       " 0.609375,\n",
       " 0.603125,\n",
       " 0.603125,\n",
       " 0.61875,\n",
       " 0.596875,\n",
       " 0.625,\n",
       " 0.6125,\n",
       " 0.6125,\n",
       " 0.603125,\n",
       " 0.6125,\n",
       " 0.61875,\n",
       " 0.6125,\n",
       " 0.61875,\n",
       " 0.60625,\n",
       " 0.615625,\n",
       " 0.603125,\n",
       " 0.6,\n",
       " 0.590625,\n",
       " 0.61875,\n",
       " 0.60625,\n",
       " 0.6125,\n",
       " 0.603125,\n",
       " 0.609375,\n",
       " 0.6125,\n",
       " 0.6125,\n",
       " 0.615625,\n",
       " 0.603125,\n",
       " 0.603125,\n",
       " 0.60625,\n",
       " 0.6,\n",
       " 0.621875,\n",
       " 0.60625,\n",
       " 0.59375,\n",
       " 0.60625,\n",
       " 0.596875,\n",
       " 0.60625,\n",
       " 0.60625,\n",
       " 0.6,\n",
       " 0.603125,\n",
       " 0.6125,\n",
       " 0.609375,\n",
       " 0.6,\n",
       " 0.60625,\n",
       " 0.609375,\n",
       " 0.59375,\n",
       " 0.6,\n",
       " 0.596875,\n",
       " 0.60625,\n",
       " 0.603125,\n",
       " 0.6,\n",
       " 0.596875,\n",
       " 0.60625,\n",
       " 0.60625,\n",
       " 0.60625,\n",
       " 0.59375,\n",
       " 0.603125,\n",
       " 0.596875,\n",
       " 0.6,\n",
       " 0.60625,\n",
       " 0.6,\n",
       " 0.59375,\n",
       " 0.603125,\n",
       " 0.59375,\n",
       " 0.603125,\n",
       " 0.603125,\n",
       " 0.615625,\n",
       " 0.615625,\n",
       " 0.596875,\n",
       " 0.61875,\n",
       " 0.621875,\n",
       " 0.6125,\n",
       " 0.6125,\n",
       " 0.6,\n",
       " 0.61875,\n",
       " 0.6125,\n",
       " 0.60625,\n",
       " 0.60625,\n",
       " 0.61875,\n",
       " 0.603125,\n",
       " 0.60625,\n",
       " 0.6125,\n",
       " 0.59375,\n",
       " 0.603125,\n",
       " 0.60625,\n",
       " 0.6,\n",
       " 0.596875,\n",
       " 0.609375,\n",
       " 0.6,\n",
       " 0.60625,\n",
       " 0.6,\n",
       " 0.60625,\n",
       " 0.603125,\n",
       " 0.59375,\n",
       " 0.615625,\n",
       " 0.60625,\n",
       " 0.609375,\n",
       " 0.60625,\n",
       " 0.615625,\n",
       " 0.61875,\n",
       " 0.61875,\n",
       " 0.6125,\n",
       " 0.6125,\n",
       " 0.615625,\n",
       " 0.6125,\n",
       " 0.61875,\n",
       " 0.621875,\n",
       " 0.61875,\n",
       " 0.61875,\n",
       " 0.628125,\n",
       " 0.625,\n",
       " 0.63125,\n",
       " 0.63125,\n",
       " 0.625,\n",
       " 0.61875,\n",
       " 0.615625,\n",
       " 0.615625,\n",
       " 0.615625,\n",
       " 0.6125,\n",
       " 0.609375,\n",
       " 0.609375,\n",
       " 0.6125,\n",
       " 0.609375,\n",
       " 0.6,\n",
       " 0.596875,\n",
       " 0.59375,\n",
       " 0.6,\n",
       " 0.603125,\n",
       " 0.6,\n",
       " 0.6,\n",
       " 0.60625,\n",
       " 0.603125,\n",
       " 0.60625,\n",
       " 0.6,\n",
       " 0.603125,\n",
       " 0.60625,\n",
       " 0.60625,\n",
       " 0.60625,\n",
       " 0.60625,\n",
       " 0.6,\n",
       " 0.60625,\n",
       " 0.6,\n",
       " 0.609375,\n",
       " 0.609375,\n",
       " 0.60625,\n",
       " 0.6,\n",
       " 0.603125,\n",
       " 0.6125,\n",
       " 0.615625,\n",
       " 0.615625,\n",
       " 0.615625,\n",
       " 0.60625,\n",
       " 0.584375,\n",
       " 0.578125,\n",
       " 0.553125,\n",
       " 0.553125,\n",
       " 0.55,\n",
       " 0.546875,\n",
       " 0.559375,\n",
       " 0.553125,\n",
       " 0.553125,\n",
       " 0.5375,\n",
       " 0.5375,\n",
       " 0.53125,\n",
       " 0.53125,\n",
       " 0.565625,\n",
       " 0.565625,\n",
       " 0.43125]"
      ]
     },
     "execution_count": 43,
     "metadata": {},
     "output_type": "execute_result"
    }
   ],
   "source": [
    "test_scores = [i.score(x_test, y_test) for i in models]\n",
    "test_scores"
   ]
  },
  {
   "cell_type": "code",
   "execution_count": 44,
   "id": "862a9727",
   "metadata": {},
   "outputs": [
    {
     "data": {
      "image/png": "[encoded data removed]",
      "text/plain": [
       "<Figure size 432x288 with 1 Axes>"
      ]
     },
     "metadata": {
      "needs_background": "light"
     },
     "output_type": "display_data"
    }
   ],
   "source": [
    "# let's visualize..\n",
    "\n",
    "fig, ax = plt.subplots()\n",
    "ax.set_xlabel(\"ccp_alpha\")\n",
    "ax.set_ylabel(\"accuracy\")\n",
    "\n",
    "ax.plot(alphas, train_scores, marker='o', label='train', drawstyle='steps-post')\n",
    "ax.plot(alphas, test_scores, marker='o', label='test', drawstyle='steps-post')\n",
    "\n",
    "ax.legend()\n",
    "plt.show()"
   ]
  },
  {
   "cell_type": "markdown",
   "id": "4295727c",
   "metadata": {},
   "source": [
    "## We can very well deal with the less accuracy whatsoever but the main  idea is to have a `robust model` i.e. to reduce the difference between `test accuracy` and `train accuracy` as much as possible.\n",
    "\n",
    "### The reason for all this being so apparent that I could almost laugh i.e. if it is for the smaller dataset our model won't be able to generalize well."
   ]
  },
  {
   "cell_type": "markdown",
   "id": "e850f810",
   "metadata": {},
   "source": [
    "### Possible solutions if my model is being overfitted:\n",
    "\n",
    "- ### Increase the dataset size so that it would be able to generalize well.\n",
    "- ### Hyperparameter tuning using cost_complexity_pruning."
   ]
  },
  {
   "cell_type": "code",
   "execution_count": 45,
   "id": "bf4da51a",
   "metadata": {},
   "outputs": [
    {
     "data": {
      "text/plain": [
       "DecisionTreeClassifier(ccp_alpha=0.015)"
      ]
     },
     "execution_count": 45,
     "metadata": {},
     "output_type": "execute_result"
    }
   ],
   "source": [
    "## Let's now build the model with suitable `ccp_alpha` val..\n",
    "# using alpha = 0.015 as interpreted from the above graph\n",
    "\n",
    "tree_mod = DecisionTreeClassifier(ccp_alpha=0.015)\n",
    "tree_mod.fit(x_train, y_train)"
   ]
  },
  {
   "cell_type": "code",
   "execution_count": 46,
   "id": "550e247a",
   "metadata": {},
   "outputs": [
    {
     "name": "stdout",
     "output_type": "stream",
     "text": [
      "0.5598123534010946\n",
      "0.565625\n"
     ]
    }
   ],
   "source": [
    "print(tree_mod.score(x_train, y_train))\n",
    "print(tree_mod.score(x_test, y_test))\n",
    "\n",
    "# hence, we successed in removing the `overfitting`"
   ]
  },
  {
   "cell_type": "code",
   "execution_count": 47,
   "id": "9c36a0c8",
   "metadata": {},
   "outputs": [
    {
     "data": {
      "text/plain": [
       "[Text(0.5, 0.75, 'X[10] <= 10.25\\ngini = 0.641\\nsamples = 1279\\nvalue = [9, 43, 543, 516, 153, 15]'),\n",
       " Text(0.25, 0.25, 'gini = 0.528\\nsamples = 688\\nvalue = [6, 25, 418, 218, 20, 1]'),\n",
       " Text(0.75, 0.25, 'gini = 0.649\\nsamples = 591\\nvalue = [3, 18, 125, 298, 133, 14]')]"
      ]
     },
     "execution_count": 47,
     "metadata": {},
     "output_type": "execute_result"
    },
    {
     "data": {
      "image/png": "[encoded data removed]",
      "text/plain": [
       "<Figure size 720x720 with 1 Axes>"
      ]
     },
     "metadata": {
      "needs_background": "light"
     },
     "output_type": "display_data"
    }
   ],
   "source": [
    "plt.figure(figsize=(10, 10))\n",
    "tree.plot_tree(tree_mod, filled=True)"
   ]
  },
  {
   "cell_type": "code",
   "execution_count": 48,
   "id": "412fedd5",
   "metadata": {},
   "outputs": [],
   "source": [
    "### If we keep doing this way manually like we've been doing up till now, then we'll have to \n",
    "# create 100s of models because ccp alpha is not the only hyperparameter to be tuned; there still \n",
    "# are many hyperparameteres which also require tuning and that too simutaneously.\n",
    "\n",
    "# --> So for that we have GridSearchCV and RandomSearchCV"
   ]
  },
  {
   "cell_type": "markdown",
   "id": "eb64b338",
   "metadata": {},
   "source": [
    "- ### GridSearchCV"
   ]
  },
  {
   "cell_type": "code",
   "execution_count": 49,
   "id": "0d0e0ede",
   "metadata": {},
   "outputs": [
    {
     "data": {
      "text/plain": [
       "DecisionTreeClassifier()"
      ]
     },
     "execution_count": 49,
     "metadata": {},
     "output_type": "execute_result"
    }
   ],
   "source": [
    "DecisionTreeClassifier()"
   ]
  },
  {
   "cell_type": "code",
   "execution_count": 50,
   "id": "5d3fe5f6",
   "metadata": {},
   "outputs": [],
   "source": [
    "grid_param = {\"criterion\": ['gini', 'entropy'],\n",
    "             \"splitter\": ['best', 'random'],\n",
    "             \"max_depth\": range(2, 40, 1),\n",
    "             \"min_samples_split\": range(2, 10, 1),\n",
    "             \"min_samples_leaf\": range(1, 10, 1)\n",
    "             }"
   ]
  },
  {
   "cell_type": "code",
   "execution_count": 51,
   "id": "1199573e",
   "metadata": {},
   "outputs": [
    {
     "data": {
      "text/plain": [
       "GridSearchCV(cv=5, estimator=DecisionTreeClassifier(ccp_alpha=0.015), n_jobs=-1,\n",
       "             param_grid={'criterion': ['gini', 'entropy'],\n",
       "                         'max_depth': range(2, 40),\n",
       "                         'min_samples_leaf': range(1, 10),\n",
       "                         'min_samples_split': range(2, 10),\n",
       "                         'splitter': ['best', 'random']})"
      ]
     },
     "execution_count": 51,
     "metadata": {},
     "output_type": "execute_result"
    }
   ],
   "source": [
    "# this's gonna be compute heavy operation\n",
    "grid_cv = GridSearchCV(estimator=tree_mod, param_grid=grid_param, cv=5, n_jobs=-1)\n",
    "grid_cv\n",
    "# cv: 5 horizontal splits outta which 1 is for testing.\n",
    "# n_jobs: no. of cores of processore to be executed. -1 for to involve all."
   ]
  },
  {
   "cell_type": "code",
   "execution_count": 52,
   "id": "94a80fb7",
   "metadata": {},
   "outputs": [
    {
     "data": {
      "text/plain": [
       "GridSearchCV(cv=5, estimator=DecisionTreeClassifier(ccp_alpha=0.015), n_jobs=-1,\n",
       "             param_grid={'criterion': ['gini', 'entropy'],\n",
       "                         'max_depth': range(2, 40),\n",
       "                         'min_samples_leaf': range(1, 10),\n",
       "                         'min_samples_split': range(2, 10),\n",
       "                         'splitter': ['best', 'random']})"
      ]
     },
     "execution_count": 52,
     "metadata": {},
     "output_type": "execute_result"
    }
   ],
   "source": [
    "grid_cv.fit(x_train, y_train)"
   ]
  },
  {
   "cell_type": "code",
   "execution_count": 53,
   "id": "8ca4fc5a",
   "metadata": {},
   "outputs": [
    {
     "data": {
      "text/plain": [
       "{'criterion': 'entropy',\n",
       " 'max_depth': 36,\n",
       " 'min_samples_leaf': 9,\n",
       " 'min_samples_split': 4,\n",
       " 'splitter': 'random'}"
      ]
     },
     "execution_count": 53,
     "metadata": {},
     "output_type": "execute_result"
    }
   ],
   "source": [
    "### Now, we are to find the best possible params\n",
    "grid_cv.best_params_"
   ]
  },
  {
   "cell_type": "code",
   "execution_count": 54,
   "id": "8ae30845",
   "metadata": {},
   "outputs": [
    {
     "data": {
      "text/plain": [
       "DecisionTreeClassifier(ccp_alpha=0.015, criterion='entropy', max_depth=31,\n",
       "                       min_samples_leaf=4, min_samples_split=9,\n",
       "                       splitter='random')"
      ]
     },
     "execution_count": 54,
     "metadata": {},
     "output_type": "execute_result"
    }
   ],
   "source": [
    "best_model = DecisionTreeClassifier(criterion='entropy', max_depth=31, min_samples_leaf=4, \n",
    "                                    min_samples_split=9, splitter='random', ccp_alpha=0.015)\n",
    "best_model.fit(x_train, y_train)"
   ]
  },
  {
   "cell_type": "code",
   "execution_count": 55,
   "id": "b485832a",
   "metadata": {},
   "outputs": [
    {
     "name": "stdout",
     "output_type": "stream",
     "text": [
      "training_score:  56.5285379202502\n",
      "test_score:  54.37499999999999\n"
     ]
    }
   ],
   "source": [
    "print(\"training_score: \", best_model.score(x_train, y_train)*100)\n",
    "print(\"test_score: \", best_model.score(x_test, y_test)*100)\n",
    "\n",
    "### --> Demonstrates the fact that even after the so-called `hyperparameter tuning`, there ain't no \n",
    "# gurantee that we won't get any overfitted model."
   ]
  },
  {
   "cell_type": "markdown",
   "id": "e07b022d",
   "metadata": {},
   "source": [
    "### Thus `hyperparameter tuning` isn't a univeral resolution for an over-fitted model."
   ]
  },
  {
   "cell_type": "markdown",
   "id": "a305b86a",
   "metadata": {},
   "source": [
    "- ### RandomizedSearchCV"
   ]
  },
  {
   "cell_type": "code",
   "execution_count": 59,
   "id": "e43b014e",
   "metadata": {},
   "outputs": [
    {
     "data": {
      "text/plain": [
       "RandomizedSearchCV(cv=5, estimator=DecisionTreeClassifier(ccp_alpha=0.015),\n",
       "                   n_jobs=-1,\n",
       "                   param_distributions={'criterion': ['gini', 'entropy'],\n",
       "                                        'max_depth': range(2, 40),\n",
       "                                        'min_samples_leaf': range(1, 10),\n",
       "                                        'min_samples_split': range(2, 10),\n",
       "                                        'splitter': ['best', 'random']})"
      ]
     },
     "execution_count": 59,
     "metadata": {},
     "output_type": "execute_result"
    }
   ],
   "source": [
    "# RandimizedSearchCV: Randomized search on hyper parameters.\n",
    "\n",
    "random_params = {\"criterion\": ['gini', 'entropy'],\n",
    "             \"splitter\": ['best', 'random'],\n",
    "             \"max_depth\": range(2, 40, 1),\n",
    "             \"min_samples_split\": range(2, 10, 1),\n",
    "             \"min_samples_leaf\": range(1, 10, 1)\n",
    "             }\n",
    "\n",
    "random_cv = RandomizedSearchCV(tree_mod, random_params, cv=5, n_jobs=-1)\n",
    "random_cv"
   ]
  },
  {
   "cell_type": "code",
   "execution_count": 60,
   "id": "cad76ab0",
   "metadata": {},
   "outputs": [
    {
     "data": {
      "text/plain": [
       "RandomizedSearchCV(cv=5, estimator=DecisionTreeClassifier(ccp_alpha=0.015),\n",
       "                   n_jobs=-1,\n",
       "                   param_distributions={'criterion': ['gini', 'entropy'],\n",
       "                                        'max_depth': range(2, 40),\n",
       "                                        'min_samples_leaf': range(1, 10),\n",
       "                                        'min_samples_split': range(2, 10),\n",
       "                                        'splitter': ['best', 'random']})"
      ]
     },
     "execution_count": 60,
     "metadata": {},
     "output_type": "execute_result"
    }
   ],
   "source": [
    "random_cv.fit(x_train, y_train)"
   ]
  },
  {
   "cell_type": "code",
   "execution_count": 61,
   "id": "7d2e1860",
   "metadata": {},
   "outputs": [
    {
     "data": {
      "text/plain": [
       "{'splitter': 'random',\n",
       " 'min_samples_split': 9,\n",
       " 'min_samples_leaf': 1,\n",
       " 'max_depth': 17,\n",
       " 'criterion': 'entropy'}"
      ]
     },
     "execution_count": 61,
     "metadata": {},
     "output_type": "execute_result"
    }
   ],
   "source": [
    "random_cv.best_params_"
   ]
  },
  {
   "cell_type": "code",
   "execution_count": 63,
   "id": "4451f7ac",
   "metadata": {},
   "outputs": [
    {
     "data": {
      "text/plain": [
       "DecisionTreeClassifier(ccp_alpha=0.015, criterion='entropy', max_depth=17,\n",
       "                       min_samples_split=9, splitter='random')"
      ]
     },
     "execution_count": 63,
     "metadata": {},
     "output_type": "execute_result"
    }
   ],
   "source": [
    "r_mod = DecisionTreeClassifier(ccp_alpha=0.015, criterion= 'entropy',\n",
    "                                        max_depth= 17,\n",
    "                                        min_samples_leaf=1,\n",
    "                                        min_samples_split=9,\n",
    "                                        splitter='random')\n",
    "r_mod"
   ]
  },
  {
   "cell_type": "code",
   "execution_count": 64,
   "id": "aa972459",
   "metadata": {},
   "outputs": [
    {
     "data": {
      "text/plain": [
       "DecisionTreeClassifier(ccp_alpha=0.015, criterion='entropy', max_depth=17,\n",
       "                       min_samples_split=9, splitter='random')"
      ]
     },
     "execution_count": 64,
     "metadata": {},
     "output_type": "execute_result"
    }
   ],
   "source": [
    "r_mod.fit(x_train, y_train)"
   ]
  },
  {
   "cell_type": "code",
   "execution_count": 65,
   "id": "0dc4fa6c",
   "metadata": {},
   "outputs": [
    {
     "name": "stdout",
     "output_type": "stream",
     "text": [
      "training score: 0.5645035183737295\n",
      "test scores: 0.5625\n"
     ]
    }
   ],
   "source": [
    "print(\"training score:\", r_mod.score(x_train, y_train))\n",
    "print(\"test scores:\", r_mod.score(x_test, y_test))"
   ]
  },
  {
   "cell_type": "code",
   "execution_count": 66,
   "id": "282d4b1e",
   "metadata": {},
   "outputs": [
    {
     "data": {
      "text/plain": [
       "array([5, 6, 6, ..., 6, 5, 6], dtype=int64)"
      ]
     },
     "execution_count": 66,
     "metadata": {},
     "output_type": "execute_result"
    }
   ],
   "source": [
    "pred = r_mod.predict(x_train)\n",
    "pred"
   ]
  },
  {
   "cell_type": "code",
   "execution_count": 67,
   "id": "62a76db0",
   "metadata": {},
   "outputs": [
    {
     "data": {
      "text/plain": [
       "array([[  0,   0,   3,   6,   0,   0],\n",
       "       [  0,   0,  21,  22,   0,   0],\n",
       "       [  0,   0, 368, 173,   2,   0],\n",
       "       [  0,   0, 167, 299,  50,   0],\n",
       "       [  0,   0,  11,  87,  55,   0],\n",
       "       [  0,   0,   1,   7,   7,   0]], dtype=int64)"
      ]
     },
     "execution_count": 67,
     "metadata": {},
     "output_type": "execute_result"
    }
   ],
   "source": [
    "confusion_matrix(y_train, pred)"
   ]
  }
 ],
 "metadata": {
  "kernelspec": {
   "display_name": "Python 3 (ipykernel)",
   "language": "python",
   "name": "python3"
  },
  "language_info": {
   "codemirror_mode": {
    "name": "ipython",
    "version": 3
   },
   "file_extension": ".py",
   "mimetype": "text/x-python",
   "name": "python",
   "nbconvert_exporter": "python",
   "pygments_lexer": "ipython3",
   "version": "3.9.12"
  }
 },
 "nbformat": 4,
 "nbformat_minor": 5
}
