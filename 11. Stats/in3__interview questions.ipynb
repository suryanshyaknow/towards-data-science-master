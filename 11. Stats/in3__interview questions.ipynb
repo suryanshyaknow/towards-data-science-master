{
 "cells": [
  {
   "cell_type": "markdown",
   "id": "39fba9f2",
   "metadata": {},
   "source": [
    "### 1. What is Exploratory Data Analysis?"
   ]
  },
  {
   "cell_type": "markdown",
   "id": "468408ca",
   "metadata": {},
   "source": [
    "Techniques to initially analyze and investigate datasets to: \n",
    "- discover patterns\n",
    "- deal with anomalies or outliers\n",
    "- test hypotheses\n",
    "- check assumptions with the help of summary statistics and graphical representations."
   ]
  },
  {
   "cell_type": "markdown",
   "id": "eee1273c",
   "metadata": {},
   "source": [
    "### 2. What are Quantitative and Qualitative data?"
   ]
  },
  {
   "cell_type": "markdown",
   "id": "f1000f34",
   "metadata": {},
   "source": [
    "**Quantitative data:** Numerical data. Can be counted and measured.\n",
    "<br><br>\n",
    "**Quanlitative data:** Descriptive Data. Referring to things that can be observed but not measured.\n",
    "<br>for eg: categories based on anything as such color, class, status, gebder, race, etc."
   ]
  },
  {
   "cell_type": "markdown",
   "id": "d5cbdacb",
   "metadata": {},
   "source": [
    "### 3. Meaning of `KPI` in Stats?"
   ]
  },
  {
   "cell_type": "markdown",
   "id": "1bb8abac",
   "metadata": {},
   "source": [
    "**Key Performance Indicator (quantifiable measure).**<br>\n",
    "Quantifiable measure of performance over time for a specific objective.\n",
    "<br><br>\n",
    "for eg: \n",
    "- targets for teams to shoot for,\n",
    "- milestones to gauge progress\n",
    "- insights that help people across the organisations to make better decisions."
   ]
  },
  {
   "cell_type": "markdown",
   "id": "4d4de97c",
   "metadata": {},
   "source": [
    "### 4. Univariate, Bivariate and Multivariate Analyses?"
   ]
  },
  {
   "cell_type": "markdown",
   "id": "52006aa9",
   "metadata": {},
   "source": [
    "Analyses to draw meaningful indights or to have the initial understanding of the data.\n",
    "<br><br>\n",
    "- when done on a single feature at a time: **Univariate Analysis**.\n",
    "<br><br>\n",
    "- when done on two features at a time (mainly to discover trends between them): **Bivariate Analysis**.\n",
    "<br><br>\n",
    "- when done on more than two features at a time: **Multivariate Analysis**.<br>\n",
    "    (mainly to discover meaningful relations between two or more features **influenced or discerned** by the remaining ones.)"
   ]
  },
  {
   "cell_type": "markdown",
   "id": "e4dfaec2",
   "metadata": {},
   "source": [
    "### 5. How would ya approach a dataset having 30% missing vals?"
   ]
  },
  {
   "cell_type": "markdown",
   "id": "1837f8e5",
   "metadata": {},
   "source": [
    "- Since 30% of the data is not a small amount to get rid of, the approach to disregard this much data could cost us some meaningful info or relations. So it would not be right to go ahead w this approach.<br>\n",
    "- Conversely if the missing values can be **imputed with the median of the respective features column**, we're not only preventing to loose 30% of the data but by imputing them with the median of the respective features would also make them **insensitive to the outliers**.\n",
    "<br>\n",
    "- Apart from this approach we can use **KNN imputors** to predict the missing values. \n",
    "- And even, we could also build a model on the 70% of the data and use it to predict the remaining 30%."
   ]
  },
  {
   "cell_type": "markdown",
   "id": "16455980",
   "metadata": {},
   "source": [
    "### 6.  Give an example where the median is a better measure than the mean."
   ]
  },
  {
   "cell_type": "markdown",
   "id": "7b24bd69",
   "metadata": {},
   "source": [
    "Since we already know that **mean is sensitive to the outliers** because it tends to go along with the data in either direction where there is skewness, oppose to which median is not. On top of that, **the median also does a better job of capturing the central location of a distribution when there are outliers present in the data.**<br>\n",
    "Thus, the cases involving **skewed distributions and outliers** would better benefit from the median rather than the mean. \n",
    "<br><br>\n",
    "In layman terms, When a distribution is skewed or contain vast amount of outliers say around 30% or more, the median does a better job of describing the center of the distribution than the mean."
   ]
  },
  {
   "cell_type": "markdown",
   "id": "42fd5089",
   "metadata": {},
   "source": [
    "### 7. What is the difference between Descriptive and Inferential Statistics?"
   ]
  },
  {
   "cell_type": "markdown",
   "id": "70edb480",
   "metadata": {},
   "source": [
    "**Descriptive statistics** tells us the description of the data. It summarizes the data or we can say it gives us the bird-eye view of the data.\n",
    "<br>The data can be described (according to the descriptive stats) by the \n",
    "- **central tendency of the data** that is nothing but a number that can be indicative or representative of the whole dataset at the hand. Those numbers can be mean, median or mode.\n",
    "<br>for example: if we are to represent or describe a dataset, we could come up w a number that is indicative of all the members present in dataset and that number would be the central tendency of that data.\n",
    "- **dispersion of the data** i.e. how the data points of the data varies from the central tendency. That measure can be either **variance** or **standard deviation**.\n",
    "\n",
    "**Inferential Statistics** revolves around the selecting a **sample** from the huge amount (like mad huge) of data i.e. **population data** and making some inferences by various means on that sample and make inferences about the original dataset. Thos varous means involes hypotheses testing using various tests accordingly."
   ]
  },
  {
   "cell_type": "markdown",
   "id": "2ce8e991",
   "metadata": {},
   "source": [
    "### 8. State the methods of dispersion of the data in statistics?"
   ]
  },
  {
   "cell_type": "markdown",
   "id": "61d0f3da",
   "metadata": {},
   "source": [
    "- **Variance**: **Averaged Squared Deviations from the mean**. Basically tells us on average how far away each of the datapoints is from the central tendency of the distribution of the data. Think **Spread** of the data.\n",
    "\n",
    "- **Standard deviation**: How far on the average is an observation from the average. **Square root of the Variance.** Gives us the exact measure of the distance bw a given datapoint and the average.\n",
    "<br>A high standard deviation means that values are generally far from\n",
    "the mean, while a low standard deviation indicates that values are\n",
    "clustered close to the mean."
   ]
  },
  {
   "cell_type": "markdown",
   "id": "d1bd8f80",
   "metadata": {},
   "source": [
    "### 9. How can we calculate the range of the data? Is it sensitive to the outliers?"
   ]
  },
  {
   "cell_type": "markdown",
   "id": "a4631d43",
   "metadata": {},
   "source": [
    "**Range** is simply the difference between the maximum value and the minimum value given in a data set. And it's exactly that how it's calculated.\n",
    "<br>**The range is sensitive to the outliers.** If we want a range that is **insensitive to the outliers** then that range would be calculated with the help fences(lowere and upper) determined **Interquartile range**(i.e 75th percentile value - 25th percentile value).\n",
    "<br><br>lower_fence = Q1 - 1.5(IQR) where Q1 = 1st quartile val\n",
    "<br><br>upper_fence = Q3 + 1.5(IQR) where Q3 = 2nd quartile val"
   ]
  },
  {
   "cell_type": "markdown",
   "id": "11e41bb5",
   "metadata": {},
   "source": [
    "### 10. What are the scenarios where outliers are kept in the data?"
   ]
  },
  {
   "cell_type": "markdown",
   "id": "50706569",
   "metadata": {},
   "source": [
    "In cases where the **exceptions** are of much interest to us than the rules like in Anomaly detection problem. Outliers analysis in such cases becomes important.\n",
    "<br>for ex: Credit Card Fault Detection."
   ]
  },
  {
   "cell_type": "markdown",
   "id": "2e2fcd3d",
   "metadata": {},
   "source": [
    "###  11. What is Bessel's correction?"
   ]
  },
  {
   "cell_type": "markdown",
   "id": "3bceed26",
   "metadata": {},
   "source": [
    "**Variance for Population data:** Sumission of the squared distances from the **population mean(mu)** averaged by the number of the datapoints.\n",
    "<br><br>\n",
    "**Variance for Sample data:** Ideally it should be Sumission of the squared distances from the **sample mean(xbar)** averaged by the number of datapoints.<br><br>But there might be cases, where we happen to pick the samples whose mean is significantly far away from the popmean, thus those won't be apt for making inferences about the popdata, and thus by doing that **sample standard dev** would be **underestimating the popvariance** and thus the domain expertizees experimented that in the standard deviation term instead of deviding the numerator by n, **n-1 gives much better estimate.**\n",
    "<br>This correction is called as **Bessesl's correction**."
   ]
  },
  {
   "cell_type": "code",
   "execution_count": null,
   "id": "d6b1ed41",
   "metadata": {},
   "outputs": [],
   "source": []
  }
 ],
 "metadata": {
  "kernelspec": {
   "display_name": "Python 3 (ipykernel)",
   "language": "python",
   "name": "python3"
  },
  "language_info": {
   "codemirror_mode": {
    "name": "ipython",
    "version": 3
   },
   "file_extension": ".py",
   "mimetype": "text/x-python",
   "name": "python",
   "nbconvert_exporter": "python",
   "pygments_lexer": "ipython3",
   "version": "3.9.12"
  }
 },
 "nbformat": 4,
 "nbformat_minor": 5
}
