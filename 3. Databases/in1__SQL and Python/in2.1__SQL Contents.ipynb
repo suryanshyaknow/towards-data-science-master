{
 "cells": [
  {
   "cell_type": "markdown",
   "id": "accd7fa9",
   "metadata": {},
   "source": [
    "# MySQL CONTENTS:"
   ]
  },
  {
   "cell_type": "markdown",
   "id": "795bb7db",
   "metadata": {},
   "source": [
    "- **SELECT QUERY**\n",
    "- **SELECT DISTINCT Statement**\n",
    "- **WHERE Clause**\n",
    "- **WHERE CLAUSE with AND, OR & NOT**\n",
    "- **ORDER BY**\n",
    "- **SELECT TOP Clause (LIMIT Clause)**\n",
    "- **MIN() and MAX() Functions**\n",
    "- **COUNT(), AVG() and SUM() Functions**\n",
    "- **LIKE Operator**\n",
    "- **IN Operator**\n",
    "- **BETWEEN Operator**\n",
    "- **ALIASES**\n",
    "- **GROUPBY Statement**\n",
    "- **HAVING Clause**\n",
    "- **UNION Operator (only distinct vals by default)**\n",
    "- **UNION ALL Syntax (to select all vals)**\n",
    "- **SQL Stored Procedures (brief)**\n",
    "- **JOIN Clauses: INNER, LEFT, RIGHT and SELF**\n",
    "- **CRUD: Updation:**\n",
    "    - **CREATE, READ, UPDATE and DELETE**\n",
    "    - **Create table using another table**\n",
    "    - **UPDATE Statement**\n",
    "    - **ALTER**\n",
    "- **CONSTRAINTS:**\n",
    "    - **NOT NULL**\n",
    "    - **UNIQUE**\n",
    "    - **PRIMARY KEY**\n",
    "    - **FORIEGN KEY**\n",
    "    - **CHECK**\n",
    "    - **DEFAULT**\n",
    "    - **CREATE INDEX**\n",
    "- **STORED PROCEDURES**\n",
    "- **VIEWS**"
   ]
  }
 ],
 "metadata": {
  "kernelspec": {
   "display_name": "Python 3 (ipykernel)",
   "language": "python",
   "name": "python3"
  },
  "language_info": {
   "codemirror_mode": {
    "name": "ipython",
    "version": 3
   },
   "file_extension": ".py",
   "mimetype": "text/x-python",
   "name": "python",
   "nbconvert_exporter": "python",
   "pygments_lexer": "ipython3",
   "version": "3.9.7"
  }
 },
 "nbformat": 4,
 "nbformat_minor": 5
}
