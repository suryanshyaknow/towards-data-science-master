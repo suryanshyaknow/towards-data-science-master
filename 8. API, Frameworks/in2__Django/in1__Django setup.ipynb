{
 "cells": [
  {
   "cell_type": "markdown",
   "id": "27cbed3e",
   "metadata": {},
   "source": [
    "## Following are the steps for the Django setup:\n",
    "\n",
    "- ### Install Django.\n",
    "- ### Direct to the Django project directory.\n",
    "- ### In cmd(admin mode):  django-admin startproject project_name\n",
    "- ### For running project:  get into the project directory and run python manage.py runserver\n",
    "- ### Now to create some app: python manage.py startapp app_name\n",
    "- ### Now to give control the master app, we gotta change some configuration.\n",
    "- ### Do necessary changes in views.py to display whatya want on webpage.\n",
    "- ### Create urls.py in the app directory.\n",
    "- ### Do give a path to the app created in the urls.py file in the project directory.\n",
    "- ### Finally, runserver."
   ]
  }
 ],
 "metadata": {
  "kernelspec": {
   "display_name": "Python 3 (ipykernel)",
   "language": "python",
   "name": "python3"
  },
  "language_info": {
   "codemirror_mode": {
    "name": "ipython",
    "version": 3
   },
   "file_extension": ".py",
   "mimetype": "text/x-python",
   "name": "python",
   "nbconvert_exporter": "python",
   "pygments_lexer": "ipython3",
   "version": "3.9.7"
  }
 },
 "nbformat": 4,
 "nbformat_minor": 5
}
