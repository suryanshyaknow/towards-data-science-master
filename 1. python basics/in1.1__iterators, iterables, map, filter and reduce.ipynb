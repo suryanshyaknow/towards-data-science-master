{
 "cells": [
  {
   "cell_type": "code",
   "execution_count": 22,
   "id": "4bf7804c",
   "metadata": {},
   "outputs": [],
   "source": [
    "# Iterators and Iterables:"
   ]
  },
  {
   "cell_type": "markdown",
   "id": "fcdec54d",
   "metadata": {},
   "source": [
    "### 'int' object is not ITERABLE.\n",
    "- **Iterable is basically an object that any user can iterate over.**\n",
    "- **We can't parse thorugh an object if it ain't iterable.**\n",
    "- **We can extract the individual elements of an iterable by indexing.**"
   ]
  },
  {
   "cell_type": "code",
   "execution_count": 2,
   "id": "b32b6e40",
   "metadata": {},
   "outputs": [
    {
     "ename": "TypeError",
     "evalue": "'int' object is not an iterator",
     "output_type": "error",
     "traceback": [
      "\u001b[1;31m---------------------------------------------------------------------------\u001b[0m",
      "\u001b[1;31mTypeError\u001b[0m                                 Traceback (most recent call last)",
      "\u001b[1;32mC:\\Users\\SURYAN~1\\AppData\\Local\\Temp/ipykernel_7364/2317411141.py\u001b[0m in \u001b[0;36m<module>\u001b[1;34m\u001b[0m\n\u001b[1;32m----> 1\u001b[1;33m \u001b[0mnext\u001b[0m\u001b[1;33m(\u001b[0m\u001b[1;36m45\u001b[0m\u001b[1;33m)\u001b[0m\u001b[1;33m\u001b[0m\u001b[1;33m\u001b[0m\u001b[0m\n\u001b[0m",
      "\u001b[1;31mTypeError\u001b[0m: 'int' object is not an iterator"
     ]
    }
   ],
   "source": [
    "next(45)"
   ]
  },
  {
   "cell_type": "code",
   "execution_count": 4,
   "id": "f32e958b",
   "metadata": {},
   "outputs": [
    {
     "ename": "TypeError",
     "evalue": "'int' object is not iterable",
     "output_type": "error",
     "traceback": [
      "\u001b[1;31m---------------------------------------------------------------------------\u001b[0m",
      "\u001b[1;31mTypeError\u001b[0m                                 Traceback (most recent call last)",
      "\u001b[1;32mC:\\Users\\SURYAN~1\\AppData\\Local\\Temp/ipykernel_7364/1822744939.py\u001b[0m in \u001b[0;36m<module>\u001b[1;34m\u001b[0m\n\u001b[1;32m----> 1\u001b[1;33m \u001b[0miter\u001b[0m\u001b[1;33m(\u001b[0m\u001b[1;36m45\u001b[0m\u001b[1;33m)\u001b[0m \u001b[1;31m# a way to convert an iterable to an iterator.\u001b[0m\u001b[1;33m\u001b[0m\u001b[1;33m\u001b[0m\u001b[0m\n\u001b[0m",
      "\u001b[1;31mTypeError\u001b[0m: 'int' object is not iterable"
     ]
    }
   ],
   "source": [
    "iter(45) # a way to convert an iterable to an iterator."
   ]
  },
  {
   "cell_type": "markdown",
   "id": "0cbc9f58",
   "metadata": {},
   "source": [
    "### 'str' object is not ITERATOR.\n",
    "- **ITERATOR is an object that helps a user in iterating over iterables.**\n",
    "- **For example: for loops, while loops.**"
   ]
  },
  {
   "cell_type": "code",
   "execution_count": 5,
   "id": "46382f65",
   "metadata": {},
   "outputs": [
    {
     "ename": "TypeError",
     "evalue": "'str' object is not an iterator",
     "output_type": "error",
     "traceback": [
      "\u001b[1;31m---------------------------------------------------------------------------\u001b[0m",
      "\u001b[1;31mTypeError\u001b[0m                                 Traceback (most recent call last)",
      "\u001b[1;32mC:\\Users\\SURYAN~1\\AppData\\Local\\Temp/ipykernel_7364/4110752940.py\u001b[0m in \u001b[0;36m<module>\u001b[1;34m\u001b[0m\n\u001b[1;32m----> 1\u001b[1;33m \u001b[0mnext\u001b[0m\u001b[1;33m(\u001b[0m\u001b[1;34m\"Suryansh\"\u001b[0m\u001b[1;33m)\u001b[0m\u001b[1;33m\u001b[0m\u001b[1;33m\u001b[0m\u001b[0m\n\u001b[0m",
      "\u001b[1;31mTypeError\u001b[0m: 'str' object is not an iterator"
     ]
    }
   ],
   "source": [
    "next(\"Suryansh\")"
   ]
  },
  {
   "cell_type": "code",
   "execution_count": 6,
   "id": "1326fbfa",
   "metadata": {},
   "outputs": [
    {
     "data": {
      "text/plain": [
       "<str_iterator at 0x18b05b73a30>"
      ]
     },
     "execution_count": 6,
     "metadata": {},
     "output_type": "execute_result"
    }
   ],
   "source": [
    "iter(\"Suryansh\")"
   ]
  },
  {
   "cell_type": "markdown",
   "id": "7539db45",
   "metadata": {},
   "source": [
    "### 'list' object is not an iterator. So first off all, we gotta covert it to one to iterate over it."
   ]
  },
  {
   "cell_type": "code",
   "execution_count": 8,
   "id": "07e76879",
   "metadata": {},
   "outputs": [
    {
     "data": {
      "text/plain": [
       "[23, 45, 34, 32, 23, 44, 234, 243]"
      ]
     },
     "execution_count": 8,
     "metadata": {},
     "output_type": "execute_result"
    }
   ],
   "source": [
    "l = [23,45,34,32,23,44]\n",
    "l"
   ]
  },
  {
   "cell_type": "code",
   "execution_count": 9,
   "id": "a2fe648a",
   "metadata": {},
   "outputs": [
    {
     "ename": "TypeError",
     "evalue": "'list' object is not an iterator",
     "output_type": "error",
     "traceback": [
      "\u001b[1;31m---------------------------------------------------------------------------\u001b[0m",
      "\u001b[1;31mTypeError\u001b[0m                                 Traceback (most recent call last)",
      "\u001b[1;32mC:\\Users\\SURYAN~1\\AppData\\Local\\Temp/ipykernel_7364/2016234150.py\u001b[0m in \u001b[0;36m<module>\u001b[1;34m\u001b[0m\n\u001b[1;32m----> 1\u001b[1;33m \u001b[0mnext\u001b[0m\u001b[1;33m(\u001b[0m\u001b[0ml\u001b[0m\u001b[1;33m)\u001b[0m\u001b[1;33m\u001b[0m\u001b[1;33m\u001b[0m\u001b[0m\n\u001b[0m",
      "\u001b[1;31mTypeError\u001b[0m: 'list' object is not an iterator"
     ]
    }
   ],
   "source": [
    "next(l)"
   ]
  },
  {
   "cell_type": "code",
   "execution_count": 11,
   "id": "880c1646",
   "metadata": {},
   "outputs": [
    {
     "data": {
      "text/plain": [
       "<list_iterator at 0x18b05c77190>"
      ]
     },
     "execution_count": 11,
     "metadata": {},
     "output_type": "execute_result"
    }
   ],
   "source": [
    "m = iter(l)\n",
    "m"
   ]
  },
  {
   "cell_type": "code",
   "execution_count": 12,
   "id": "176e0163",
   "metadata": {},
   "outputs": [
    {
     "data": {
      "text/plain": [
       "23"
      ]
     },
     "execution_count": 12,
     "metadata": {},
     "output_type": "execute_result"
    }
   ],
   "source": [
    "next(m)"
   ]
  },
  {
   "cell_type": "code",
   "execution_count": 13,
   "id": "7761962d",
   "metadata": {},
   "outputs": [
    {
     "data": {
      "text/plain": [
       "45"
      ]
     },
     "execution_count": 13,
     "metadata": {},
     "output_type": "execute_result"
    }
   ],
   "source": [
    "next(m)"
   ]
  },
  {
   "cell_type": "code",
   "execution_count": 14,
   "id": "d1a2edce",
   "metadata": {},
   "outputs": [
    {
     "data": {
      "text/plain": [
       "34"
      ]
     },
     "execution_count": 14,
     "metadata": {},
     "output_type": "execute_result"
    }
   ],
   "source": [
    "next(m)"
   ]
  },
  {
   "cell_type": "code",
   "execution_count": 15,
   "id": "557008d5",
   "metadata": {},
   "outputs": [
    {
     "data": {
      "text/plain": [
       "32"
      ]
     },
     "execution_count": 15,
     "metadata": {},
     "output_type": "execute_result"
    }
   ],
   "source": [
    "next(m)"
   ]
  },
  {
   "cell_type": "code",
   "execution_count": 16,
   "id": "7bd63886",
   "metadata": {},
   "outputs": [
    {
     "data": {
      "text/plain": [
       "23"
      ]
     },
     "execution_count": 16,
     "metadata": {},
     "output_type": "execute_result"
    }
   ],
   "source": [
    "next(m)"
   ]
  },
  {
   "cell_type": "code",
   "execution_count": 17,
   "id": "f39cfb73",
   "metadata": {},
   "outputs": [
    {
     "data": {
      "text/plain": [
       "44"
      ]
     },
     "execution_count": 17,
     "metadata": {},
     "output_type": "execute_result"
    }
   ],
   "source": [
    "next(m)"
   ]
  },
  {
   "cell_type": "code",
   "execution_count": 18,
   "id": "b27484d8",
   "metadata": {},
   "outputs": [
    {
     "data": {
      "text/plain": [
       "234"
      ]
     },
     "execution_count": 18,
     "metadata": {},
     "output_type": "execute_result"
    }
   ],
   "source": [
    "next(m)"
   ]
  },
  {
   "cell_type": "code",
   "execution_count": 19,
   "id": "8ccfee22",
   "metadata": {},
   "outputs": [
    {
     "data": {
      "text/plain": [
       "243"
      ]
     },
     "execution_count": 19,
     "metadata": {},
     "output_type": "execute_result"
    }
   ],
   "source": [
    "next(m)"
   ]
  },
  {
   "cell_type": "code",
   "execution_count": 20,
   "id": "4b0afad0",
   "metadata": {},
   "outputs": [
    {
     "ename": "StopIteration",
     "evalue": "",
     "output_type": "error",
     "traceback": [
      "\u001b[1;31m---------------------------------------------------------------------------\u001b[0m",
      "\u001b[1;31mStopIteration\u001b[0m                             Traceback (most recent call last)",
      "\u001b[1;32mC:\\Users\\SURYAN~1\\AppData\\Local\\Temp/ipykernel_7364/1080171644.py\u001b[0m in \u001b[0;36m<module>\u001b[1;34m\u001b[0m\n\u001b[1;32m----> 1\u001b[1;33m \u001b[0mnext\u001b[0m\u001b[1;33m(\u001b[0m\u001b[0mm\u001b[0m\u001b[1;33m)\u001b[0m\u001b[1;33m\u001b[0m\u001b[1;33m\u001b[0m\u001b[0m\n\u001b[0m",
      "\u001b[1;31mStopIteration\u001b[0m: "
     ]
    }
   ],
   "source": [
    "next(m)"
   ]
  },
  {
   "cell_type": "markdown",
   "id": "1d627964",
   "metadata": {},
   "source": [
    "### So the question arises: What does the for loop does internally to iterate over even the non-iterator objects?"
   ]
  },
  {
   "cell_type": "markdown",
   "id": "4837103e",
   "metadata": {},
   "source": [
    "**The for loop internally calls the iter() function and converts non-iterators to iterators and then does the needful.**"
   ]
  },
  {
   "cell_type": "markdown",
   "id": "ac1349ed",
   "metadata": {},
   "source": [
    "# Generators:"
   ]
  },
  {
   "cell_type": "markdown",
   "id": "bde1db57",
   "metadata": {},
   "source": [
    "### range() behaves like the generator function i.e."
   ]
  },
  {
   "cell_type": "code",
   "execution_count": 1,
   "id": "2e90a362",
   "metadata": {},
   "outputs": [
    {
     "data": {
      "text/plain": [
       "range(0, 10)"
      ]
     },
     "execution_count": 1,
     "metadata": {},
     "output_type": "execute_result"
    }
   ],
   "source": [
    "range(10)"
   ]
  },
  {
   "cell_type": "code",
   "execution_count": 4,
   "id": "4e32e9ba",
   "metadata": {},
   "outputs": [
    {
     "data": {
      "text/plain": [
       "[0, 1, 2, 3, 4, 5, 6, 7, 8, 9]"
      ]
     },
     "execution_count": 4,
     "metadata": {},
     "output_type": "execute_result"
    }
   ],
   "source": [
    "r = list(range(10))\n",
    "r"
   ]
  },
  {
   "cell_type": "markdown",
   "id": "abd06a38",
   "metadata": {},
   "source": [
    "### i.e. when called we won't get any results but an object that can be iterated over and results can be achieved."
   ]
  },
  {
   "cell_type": "markdown",
   "id": "f6887df4",
   "metadata": {},
   "source": [
    "## Yield:\n",
    "### A keyword to use instead of return and any regular function can be converted into generator function that can further be iterated over and results can be seeked."
   ]
  },
  {
   "cell_type": "code",
   "execution_count": 10,
   "id": "928920c4",
   "metadata": {},
   "outputs": [
    {
     "name": "stdout",
     "output_type": "stream",
     "text": [
      "0\n",
      "1\n",
      "2\n",
      "3\n",
      "4\n",
      "5\n",
      "6\n",
      "7\n",
      "8\n",
      "9\n"
     ]
    }
   ],
   "source": [
    "def x():\n",
    "    for i in range(10):\n",
    "        print(i)\n",
    "x()"
   ]
  },
  {
   "cell_type": "code",
   "execution_count": 12,
   "id": "f6f34645",
   "metadata": {},
   "outputs": [
    {
     "data": {
      "text/plain": [
       "<generator object y at 0x00000264B49FDD60>"
      ]
     },
     "execution_count": 12,
     "metadata": {},
     "output_type": "execute_result"
    }
   ],
   "source": [
    "def y():\n",
    "    for i in range(10):\n",
    "        yield i\n",
    "y()"
   ]
  },
  {
   "cell_type": "code",
   "execution_count": 13,
   "id": "d14c9041",
   "metadata": {},
   "outputs": [
    {
     "data": {
      "text/plain": [
       "[0, 1, 2, 3, 4, 5, 6, 7, 8, 9]"
      ]
     },
     "execution_count": 13,
     "metadata": {},
     "output_type": "execute_result"
    }
   ],
   "source": [
    "list(y()) # just fuckin like this."
   ]
  },
  {
   "cell_type": "markdown",
   "id": "9d22fec3",
   "metadata": {},
   "source": [
    "### Note: So by using the GENERATOR function what I want here is not the results immediately, I just want the compiler to give me an object and if in future I need the results, I'll by myself iterate over that object."
   ]
  },
  {
   "cell_type": "code",
   "execution_count": 19,
   "id": "4ed76f11",
   "metadata": {},
   "outputs": [],
   "source": [
    "# not using yield"
   ]
  },
  {
   "cell_type": "code",
   "execution_count": 16,
   "id": "5acccc7a",
   "metadata": {},
   "outputs": [],
   "source": [
    "def retFib(n):\n",
    "    a = 1\n",
    "    b = 1\n",
    "    l = []\n",
    "    for i in range(n):\n",
    "        l.append(a)\n",
    "        a,b = b,a+b # inline operation i.e. assignment is happening in the real time not after the completion of this step.\n",
    "    return l"
   ]
  },
  {
   "cell_type": "code",
   "execution_count": 18,
   "id": "56dc9dc6",
   "metadata": {},
   "outputs": [
    {
     "data": {
      "text/plain": [
       "[1, 1, 2, 3, 5, 8, 13, 21, 34, 55]"
      ]
     },
     "execution_count": 18,
     "metadata": {},
     "output_type": "execute_result"
    }
   ],
   "source": [
    "retFib(10)"
   ]
  },
  {
   "cell_type": "code",
   "execution_count": 20,
   "id": "c836c56c",
   "metadata": {},
   "outputs": [],
   "source": [
    "# using yield"
   ]
  },
  {
   "cell_type": "code",
   "execution_count": 21,
   "id": "78d0de56",
   "metadata": {},
   "outputs": [],
   "source": [
    "def genFib(n):\n",
    "    a = 1\n",
    "    b = 1\n",
    "    for i in range(n):\n",
    "        yield a\n",
    "        a, b = b, a+b # inline operation i.e. assignment is happening in the real time not after the completion of this step."
   ]
  },
  {
   "cell_type": "code",
   "execution_count": 23,
   "id": "16271ae5",
   "metadata": {},
   "outputs": [
    {
     "data": {
      "text/plain": [
       "<generator object genFib at 0x00000264B4A18200>"
      ]
     },
     "execution_count": 23,
     "metadata": {},
     "output_type": "execute_result"
    }
   ],
   "source": [
    "genFib(10)"
   ]
  },
  {
   "cell_type": "code",
   "execution_count": 24,
   "id": "44e64fcb",
   "metadata": {},
   "outputs": [
    {
     "data": {
      "text/plain": [
       "[1, 1, 2, 3, 5, 8, 13, 21, 34, 55]"
      ]
     },
     "execution_count": 24,
     "metadata": {},
     "output_type": "execute_result"
    }
   ],
   "source": [
    "list(genFib(10))"
   ]
  },
  {
   "cell_type": "markdown",
   "id": "861e46d6",
   "metadata": {},
   "source": [
    "## map():"
   ]
  },
  {
   "cell_type": "markdown",
   "id": "aa3ebc67",
   "metadata": {},
   "source": [
    "### basically just a function to map a function passed as an argument to each element of an iterable."
   ]
  },
  {
   "cell_type": "code",
   "execution_count": 25,
   "id": "b61f12e7",
   "metadata": {},
   "outputs": [
    {
     "data": {
      "text/plain": [
       "<map at 0x264b592c760>"
      ]
     },
     "execution_count": 25,
     "metadata": {},
     "output_type": "execute_result"
    }
   ],
   "source": [
    "map(lambda x : x**2, [23,45,34,23,212])"
   ]
  },
  {
   "cell_type": "code",
   "execution_count": 26,
   "id": "7969d4b3",
   "metadata": {},
   "outputs": [
    {
     "data": {
      "text/plain": [
       "[529, 2025, 1156, 529, 44944]"
      ]
     },
     "execution_count": 26,
     "metadata": {},
     "output_type": "execute_result"
    }
   ],
   "source": [
    "list(map(lambda x : x**2, [23,45,34,23,212]))"
   ]
  },
  {
   "cell_type": "code",
   "execution_count": 27,
   "id": "c850e009",
   "metadata": {},
   "outputs": [
    {
     "data": {
      "text/plain": [
       "['23', '45', '34', '23', '212']"
      ]
     },
     "execution_count": 27,
     "metadata": {},
     "output_type": "execute_result"
    }
   ],
   "source": [
    "list(map(lambda x : str(x), [23,45,34,23,212]))"
   ]
  },
  {
   "cell_type": "markdown",
   "id": "289f28c9",
   "metadata": {},
   "source": [
    "## reduce():\n",
    "\n",
    "### Apply a function of two arguments cumulatively to the items of a sequence, from left to right, so as to reduce the sequence to a single value."
   ]
  },
  {
   "cell_type": "code",
   "execution_count": 28,
   "id": "cfa55f7f",
   "metadata": {},
   "outputs": [],
   "source": [
    "from functools import reduce"
   ]
  },
  {
   "cell_type": "code",
   "execution_count": 31,
   "id": "5528bcf4",
   "metadata": {},
   "outputs": [
    {
     "data": {
      "text/plain": [
       "28"
      ]
     },
     "execution_count": 31,
     "metadata": {},
     "output_type": "execute_result"
    }
   ],
   "source": [
    "reduce(lambda a, b: a+b, [3,4,5,6,7,3])"
   ]
  },
  {
   "cell_type": "code",
   "execution_count": 32,
   "id": "04a728bc",
   "metadata": {},
   "outputs": [
    {
     "data": {
      "text/plain": [
       "7560"
      ]
     },
     "execution_count": 32,
     "metadata": {},
     "output_type": "execute_result"
    }
   ],
   "source": [
    "reduce(lambda a, b: a*b, [3,4,5,6,7,3])"
   ]
  },
  {
   "cell_type": "code",
   "execution_count": 33,
   "id": "aa7f64cc",
   "metadata": {},
   "outputs": [
    {
     "ename": "TypeError",
     "evalue": "<lambda>() missing 1 required positional argument: 'c'",
     "output_type": "error",
     "traceback": [
      "\u001b[1;31m---------------------------------------------------------------------------\u001b[0m",
      "\u001b[1;31mTypeError\u001b[0m                                 Traceback (most recent call last)",
      "\u001b[1;32mC:\\Users\\SURYAN~1\\AppData\\Local\\Temp/ipykernel_4484/3987298143.py\u001b[0m in \u001b[0;36m<module>\u001b[1;34m\u001b[0m\n\u001b[1;32m----> 1\u001b[1;33m \u001b[0mreduce\u001b[0m\u001b[1;33m(\u001b[0m\u001b[1;32mlambda\u001b[0m \u001b[0ma\u001b[0m\u001b[1;33m,\u001b[0m \u001b[0mb\u001b[0m\u001b[1;33m,\u001b[0m \u001b[0mc\u001b[0m\u001b[1;33m:\u001b[0m \u001b[0ma\u001b[0m\u001b[1;33m*\u001b[0m\u001b[0mb\u001b[0m\u001b[1;33m*\u001b[0m\u001b[0mc\u001b[0m\u001b[1;33m,\u001b[0m \u001b[1;33m[\u001b[0m\u001b[1;36m3\u001b[0m\u001b[1;33m,\u001b[0m\u001b[1;36m4\u001b[0m\u001b[1;33m,\u001b[0m\u001b[1;36m5\u001b[0m\u001b[1;33m,\u001b[0m\u001b[1;36m6\u001b[0m\u001b[1;33m,\u001b[0m\u001b[1;36m7\u001b[0m\u001b[1;33m,\u001b[0m\u001b[1;36m3\u001b[0m\u001b[1;33m]\u001b[0m\u001b[1;33m)\u001b[0m\u001b[1;33m\u001b[0m\u001b[1;33m\u001b[0m\u001b[0m\n\u001b[0m",
      "\u001b[1;31mTypeError\u001b[0m: <lambda>() missing 1 required positional argument: 'c'"
     ]
    }
   ],
   "source": [
    "reduce(lambda a, b, c: a*b*c, [3,4,5,6,7,3]) # Not allowed!"
   ]
  },
  {
   "cell_type": "code",
   "execution_count": 37,
   "id": "24f627a3",
   "metadata": {},
   "outputs": [
    {
     "data": {
      "text/plain": [
       "3"
      ]
     },
     "execution_count": 37,
     "metadata": {},
     "output_type": "execute_result"
    }
   ],
   "source": [
    "reduce(lambda a, b: a*b, [3]) # Exception for only one element in iterable."
   ]
  },
  {
   "cell_type": "markdown",
   "id": "c95d6bc6",
   "metadata": {},
   "source": [
    "## filter(): "
   ]
  },
  {
   "cell_type": "markdown",
   "id": "58a9f8e8",
   "metadata": {},
   "source": [
    "### Similar to map() function, the only difference is that filter() gives the elements where the condition present in the function holds True."
   ]
  },
  {
   "cell_type": "code",
   "execution_count": 42,
   "id": "ec8252b0",
   "metadata": {},
   "outputs": [
    {
     "data": {
      "text/plain": [
       "<filter at 0x264b66fd820>"
      ]
     },
     "execution_count": 42,
     "metadata": {},
     "output_type": "execute_result"
    }
   ],
   "source": [
    "filter(lambda x: x, [1, 0, 1, True, False, True, 1, 0, 5, 6, 7])"
   ]
  },
  {
   "cell_type": "code",
   "execution_count": 49,
   "id": "d6230fef",
   "metadata": {},
   "outputs": [
    {
     "data": {
      "text/plain": [
       "[1, 1, True, True, 1, 5, 6, 7]"
      ]
     },
     "execution_count": 49,
     "metadata": {},
     "output_type": "execute_result"
    }
   ],
   "source": [
    "list(filter(lambda x: x, [1, 0, 1, True, False, True, 1, 0, 5, 6, 7])) # treating zero as False."
   ]
  },
  {
   "cell_type": "markdown",
   "id": "c54ff84c",
   "metadata": {},
   "source": [
    "### Won't work if the function is not returning boolean result."
   ]
  },
  {
   "cell_type": "code",
   "execution_count": 58,
   "id": "486ee21e",
   "metadata": {},
   "outputs": [
    {
     "data": {
      "text/plain": [
       "[1, 0, 1, True, False, True, 1, 0]"
      ]
     },
     "execution_count": 58,
     "metadata": {},
     "output_type": "execute_result"
    }
   ],
   "source": [
    "list(filter(lambda x: str(x), [1, 0, 1, True, False, True, 1, 0]))"
   ]
  },
  {
   "cell_type": "code",
   "execution_count": 57,
   "id": "5075cd6a",
   "metadata": {},
   "outputs": [
    {
     "data": {
      "text/plain": [
       "[]"
      ]
     },
     "execution_count": 57,
     "metadata": {},
     "output_type": "execute_result"
    }
   ],
   "source": [
    "list(filter(lambda x: type(x) == str, [1, 0, 1, True, False, True, 1, 0]))"
   ]
  },
  {
   "cell_type": "code",
   "execution_count": 50,
   "id": "04e0f184",
   "metadata": {},
   "outputs": [],
   "source": [
    "l = [34,54,34,22,21,21,35,35,3453,34535,10]"
   ]
  },
  {
   "cell_type": "code",
   "execution_count": 60,
   "id": "16968602",
   "metadata": {},
   "outputs": [
    {
     "data": {
      "text/plain": [
       "[21, 21, 35, 35, 3453, 34535]"
      ]
     },
     "execution_count": 60,
     "metadata": {},
     "output_type": "execute_result"
    }
   ],
   "source": [
    "list(filter(lambda x: x%2, l)) # giving all but even numbers."
   ]
  },
  {
   "cell_type": "code",
   "execution_count": 61,
   "id": "76650572",
   "metadata": {},
   "outputs": [
    {
     "data": {
      "text/plain": [
       "[34, 54, 34, 22, 10]"
      ]
     },
     "execution_count": 61,
     "metadata": {},
     "output_type": "execute_result"
    }
   ],
   "source": [
    "list(filter(lambda x: x%2 == 0, l)) # giving even numbers only."
   ]
  },
  {
   "cell_type": "code",
   "execution_count": 62,
   "id": "8d7f0051",
   "metadata": {},
   "outputs": [
    {
     "data": {
      "text/plain": [
       "[1, 0, 1, True, False, True, 1, 0]"
      ]
     },
     "execution_count": 62,
     "metadata": {},
     "output_type": "execute_result"
    }
   ],
   "source": [
    "x = list(filter(lambda x: str(x), [1, 0, 1, True, False, True, 1, 0]))\n",
    "x"
   ]
  },
  {
   "cell_type": "code",
   "execution_count": 63,
   "id": "179ba2c9",
   "metadata": {},
   "outputs": [
    {
     "name": "stdout",
     "output_type": "stream",
     "text": [
      "<class 'int'>\n",
      "<class 'int'>\n",
      "<class 'int'>\n",
      "<class 'bool'>\n",
      "<class 'bool'>\n",
      "<class 'bool'>\n",
      "<class 'int'>\n",
      "<class 'int'>\n"
     ]
    }
   ],
   "source": [
    "for i in x:\n",
    "    print(type(i))"
   ]
  },
  {
   "cell_type": "code",
   "execution_count": null,
   "id": "8a946581",
   "metadata": {},
   "outputs": [],
   "source": []
  }
 ],
 "metadata": {
  "kernelspec": {
   "display_name": "Python 3 (ipykernel)",
   "language": "python",
   "name": "python3"
  },
  "language_info": {
   "codemirror_mode": {
    "name": "ipython",
    "version": 3
   },
   "file_extension": ".py",
   "mimetype": "text/x-python",
   "name": "python",
   "nbconvert_exporter": "python",
   "pygments_lexer": "ipython3",
   "version": "3.9.7"
  }
 },
 "nbformat": 4,
 "nbformat_minor": 5
}
